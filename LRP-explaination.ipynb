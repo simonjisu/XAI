{
 "cells": [
  {
   "cell_type": "code",
   "execution_count": null,
   "metadata": {},
   "outputs": [],
   "source": [
    "from pathlib import Path\n",
    "import sys\n",
    "sys.path.append(str(Path().home()/\"code\"/\"XAI\"/\"models\"))\n",
    "sys.path.append(str(Path().home()/\"code\"/\"XAI\"/\"models\"/\"relavance\"))\n",
    "sys.path.append(str(Path().home()/\"code\"/\"XAI\"/\"models\"/\"mnist\"))\n",
    "\n",
    "import torch\n",
    "import torch.nn as nn\n",
    "import numpy as np\n",
    "import matplotlib.pyplot as plt\n",
    "\n",
    "from mpl_toolkits.axes_grid1 import make_axes_locatable\n",
    "import matplotlib.gridspec as gridspec\n",
    "\n",
    "from models.deconv.deconvnet import deconvMNIST\n",
    "from models.relavance.lrp import lrpMNIST\n",
    "from models.reshape import Reshape\n",
    "from models.relavance.layers import relConv2d, relLinear, relMaxPool2d, relReLU\n",
    "from models.mnist.MnistModels import MNISTmodel\n",
    "from models.mnist.MnistTrain import build_dataset"
   ]
  },
  {
   "cell_type": "markdown",
   "metadata": {},
   "source": [
    "## LRP Method\n",
    "\n",
    "$\\begin{aligned} \n",
    "r_i^{(L)} &= \\begin{cases}S_i(x) & \\text{if unit }i \\text{ is the target unit of interest}\\\\ 0 & \\text{otherwise}\\end{cases}  \\\\ r_i^{(l)} &= \\sum_j \\dfrac{z_{ji}}{\\sum_{i’}(z_{ji’}+b_j)+ \\epsilon \\cdot sign(\\sum_{i’}(z_{ji’}+b_j))}r_j^{(l+1)}\\\\ &\\text{where } z_{ji} = w_{ji}^{(l+1, l)}x_{i}^{(l)}\n",
    "\\end{aligned} $\n",
    "\n",
    "\n",
    "input feature $(1, \\cdots, i, \\cdots N)$, output feature $(1, \\cdots, j, \\cdots M)$\n",
    "\n",
    "weight $(N, M)$ is transposed to $(M, N)$ in pytorch\n",
    "\n",
    "$\\begin{aligned} X^{(l+1)} &= \\begin{bmatrix}  x_1 & \\cdots  &x_M \\end{bmatrix}^T\\\\\n",
    "X^{(l)} &= \\begin{bmatrix}  x_1 & \\cdots  & x_N \\end{bmatrix}^T\\\\\n",
    "W^{(l+1, l)} &= \\begin{bmatrix} \n",
    "w_{11} & \\cdots & w_{1i} & \\cdots & w_{1N} \\\\ \n",
    "\\vdots & \\ddots & \\ddots & \\ddots & \\vdots \\\\ \n",
    "w_{j1} & \\ddots & w_{ji} & \\ddots & w_{jN} \\\\\n",
    "\\vdots & \\ddots & \\ddots & \\ddots & \\vdots \\\\\n",
    "w_{M1} & \\cdots & w_{Mi} & \\cdots & w_{MN}\n",
    "\\end{bmatrix}\n",
    "\\end{aligned}$\n",
    "\n",
    "to see element-wise calculation ...\n",
    "\n",
    "$\\begin{aligned} \n",
    "R^{(l)} &= \\begin{bmatrix} r_1 \\\\ \\vdots \\\\ r_i \\\\ \\vdots \\\\ r_N\\end{bmatrix}^{(l)} = \\begin{bmatrix} \\sum_j^M a_{1j}r_{1j} \\\\ \\vdots \\\\ \\sum_j^M a_{ij}r_{ij} \\\\ \\vdots \\\\ \\sum_j^M a_{Nj}r_{Nj} \\end{bmatrix}^{(l)} = \\begin{bmatrix} a_{11}r_{11} + \\cdots + a_{1M}r_{1M} \\\\ \\vdots \\\\ a_{i1}r_{i1} + \\cdots + a_{iM}r_{iM} \\\\ \\vdots \\\\ a_{N1}r_{N1} + \\cdots + a_{NM}r_{NM} \\end{bmatrix}^{(l)} \n",
    "\\\\\n",
    "Z^{(l, l+1)} &= \\begin{bmatrix} \n",
    "z_{11} & \\cdots & z_{1j} & \\cdots & z_{1M} \\\\ \n",
    "\\vdots & \\ddots & \\ddots & \\ddots & \\vdots \\\\ \n",
    "z_{i1} & \\ddots & z_{ij} & \\ddots & z_{ij} \\\\\n",
    "\\vdots & \\ddots & \\ddots & \\ddots & \\vdots \\\\\n",
    "z_{N1} & \\cdots & z_{Nj} & \\cdots & z_{NM}\n",
    "\\end{bmatrix} = \\begin{bmatrix} \n",
    "w_{11}x_1^{(l)} & \\cdots & w_{1j}x_j^{(l)} & \\cdots & w_{1M}x_M^{(l)} \\\\ \n",
    "\\vdots & \\ddots & \\ddots & \\ddots & \\vdots \\\\ \n",
    "w_{i1}x_1^{(l)} & \\ddots & w_{ij}x_j^{(l)} & \\ddots & w_{ij}x_M^{(l)} \\\\\n",
    "\\vdots & \\ddots & \\ddots & \\ddots & \\vdots \\\\\n",
    "w_{N1}x_1^{(l)} & \\cdots & w_{Nj}x_j^{(l)} & \\cdots & w_{NM}x_M^{(l)}\n",
    "\\end{bmatrix}\n",
    "\\end{aligned}$\n",
    "\n",
    "### 1st way\n",
    "\n",
    "to get $r_i^{(l+1)}$ where $z_{ji}^{(l+1)} = w_{ji}^{(l+1, 1)} x_i^{(l)}$ there are 4 step in Linear Layer\n",
    "\n",
    "$\\begin{aligned} \n",
    "(1) & Z^{(l, l+1)} = W^{(l, l+1)} \\times X^{(l+1)}\\\\\n",
    "(2) & S^{(l+1)} = X^{(l+1)} + \\epsilon \\cdot sign(X^{(l+1)}) \\\\\n",
    "(3) & A^{(l, l+1)} = \\dfrac{Z^{(l, l+1)}}{S^{(l+1)}} \\\\\n",
    "(4) & R^{(l)} = A^{(l, l+1)}R^{(l+1)}  \\\\\n",
    "\\end{aligned}$\n",
    "\n",
    "### 2nd way\n",
    "\n",
    "same calculation but different order, introducing at http://heatmapping.org/tutorial/\n",
    "\n",
    "$\\begin{aligned} \n",
    "(1) & S^{(l+1)} = X^{(l+1)} + \\epsilon \\cdot sign(X^{(l+1)}) \\\\\n",
    "(2) & E^{(l+1)} = \\dfrac{R^{(l+1)}}{S^{(l+1)}} \\\\\n",
    "(3) & C^{(l)} = W^{(l, l+1)} E^{(l+1)} \\\\\n",
    "(4) & R^{(l)} = X^{(l)} \\times C^{(l)}  \\\\\n",
    "\\end{aligned}$"
   ]
  },
  {
   "cell_type": "code",
   "execution_count": null,
   "metadata": {},
   "outputs": [],
   "source": [
    "a = nn.Linear(3, 2)\n",
    "b = relLinear(a)\n",
    "x = torch.rand(5, 3)\n",
    "output = b(x)\n",
    "r = torch.zeros(5, 2).scatter(1, torch.LongTensor([[1], [0], [0], [1], [0]]), 1)\n",
    "r_next = b.relprop(r)\n",
    "r_next"
   ]
  },
  {
   "cell_type": "markdown",
   "metadata": {},
   "source": [
    "In convolutional layer to get $r_i^{(l+1)}$ there are 4 step in Conv Layer, but change step 3 computing gradient of conv. which can be replaced as Transposed convolutional layer(=fractionally strided convolutional layer)\n",
    "\n",
    "$\\begin{aligned} \n",
    "(1) & S^{(l+1)} = X^{(l+1)} + \\epsilon \\cdot sign(X^{(l+1)}) \\\\\n",
    "(2) & E^{(l+1)} = \\dfrac{R^{(l+1)}}{S^{(l+1)}} \\\\\n",
    "(3) & C^{(l)} = \\triangledown (\\sum S^{(l+1)} \\times E^{(l+1)}) \\\\\n",
    "(4) & R^{(l)} = X^{(l)} \\times C^{(l)}  \\\\\n",
    "\\end{aligned}$"
   ]
  },
  {
   "cell_type": "code",
   "execution_count": null,
   "metadata": {},
   "outputs": [],
   "source": [
    "a = nn.Conv2d(1, 32, 3)\n",
    "b = relConv2d(a)\n",
    "x = torch.randn(2, 1, 28, 28)\n",
    "output = b(x)\n",
    "r = torch.relu(output)\n",
    "r_next = b.relprop(r)\n",
    "r_next.size()"
   ]
  },
  {
   "cell_type": "markdown",
   "metadata": {},
   "source": [
    "Maxpooling layer"
   ]
  },
  {
   "cell_type": "code",
   "execution_count": null,
   "metadata": {},
   "outputs": [],
   "source": [
    "a = nn.MaxPool2d(2, return_indices=True)\n",
    "b = relMaxPool2d(a)\n",
    "x = torch.randn(2, 32, 26, 26)\n",
    "output, swtiches = b(x)\n",
    "r_next = b.relprop(output)\n",
    "r_next.size()"
   ]
  },
  {
   "cell_type": "code",
   "execution_count": null,
   "metadata": {},
   "outputs": [],
   "source": [
    "rs = Reshape()\n",
    "x = torch.rand(2, 1, 12, 12)\n",
    "output = rs(x)\n",
    "output.size(), rs.relprop(output).size()"
   ]
  }
 ],
 "metadata": {
  "kernelspec": {
   "display_name": "Python(venv)",
   "language": "python",
   "name": "venv"
  },
  "language_info": {
   "codemirror_mode": {
    "name": "ipython",
    "version": 3
   },
   "file_extension": ".py",
   "mimetype": "text/x-python",
   "name": "python",
   "nbconvert_exporter": "python",
   "pygments_lexer": "ipython3",
   "version": "3.6.8"
  }
 },
 "nbformat": 4,
 "nbformat_minor": 2
}
