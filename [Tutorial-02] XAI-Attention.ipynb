{
 "cells": [
  {
   "cell_type": "code",
   "execution_count": 1,
   "metadata": {},
   "outputs": [],
   "source": [
    "from pathlib import Path\n",
    "import torch\n",
    "import torch.nn as nn\n",
    "import numpy as np\n",
    "import torchxai.model as xaim\n",
    "from collections import defaultdict\n",
    "# from src.models import CnnMnist, ResNetMnist, ResNetMnistCBAM\n",
    "from src.utils import *\n",
    "from src.trainsettings import ModelTranier"
   ]
  },
  {
   "cell_type": "code",
   "execution_count": 2,
   "metadata": {},
   "outputs": [],
   "source": [
    "parser = argument_parsing(preparse=True)\n",
    "args_string = \\\n",
    "\"\"\"-pp  ../XAI\n",
    "-dp  ../data\n",
    "-rf  mnist-resnet-roar\n",
    "-dt  mnist\n",
    "-et  roar\n",
    "-at  vanillagrad  inputgrad  guidedgrad  gradcam\n",
    "-mt  resnet  resnetcbam\n",
    "-bs  256\n",
    "-ns  10\n",
    "-sd  73\"\"\".replace(\"\\n\", \"  \").split(\"  \")\n",
    "args = parser.parse_args(args_string)"
   ]
  },
  {
   "cell_type": "code",
   "execution_count": 3,
   "metadata": {},
   "outputs": [],
   "source": [
    "trainer = ModelTranier()\n",
    "_, test_dataset, _, test_loader = trainer.build_dataset(args)"
   ]
  },
  {
   "cell_type": "markdown",
   "metadata": {},
   "source": [
    "# Attention Methods in XAI"
   ]
  },
  {
   "cell_type": "code",
   "execution_count": 4,
   "metadata": {},
   "outputs": [],
   "source": [
    "torch.manual_seed(args.seed)\n",
    "imgs_dict = build_img_dict(test_dataset)\n",
    "imgs, labels = get_samples(imgs_dict, cat=\"all\", sample_size=1)"
   ]
  },
  {
   "cell_type": "code",
   "execution_count": 12,
   "metadata": {},
   "outputs": [],
   "source": [
    "models_attrs = defaultdict()\n",
    "for m_type in args.model_type:\n",
    "    m_class = trainer.model_dict[args.data_type][m_type]\n",
    "    models_attrs[f\"{m_type}\"] = defaultdict()\n",
    "    models_attrs[f\"{m_type}\"][\"attrs\"] = []\n",
    "    attr_models = []\n",
    "    for a_type in args.attr_type:\n",
    "        a_class = trainer.attr_dict[a_type]\n",
    "        lpath = Path(args.prj_path)/\"trained\"/args.data_type/args.eval_type/f\"{m_type}-first.pt\"\n",
    "        kwargs = trainer.get_kwargs_to_attr_model(m_type, a_type)\n",
    "        model, attr_model = trainer.create_attr_model(m_class, a_class, str(lpath), **kwargs)\n",
    "        models_attrs[f\"{m_type}\"][\"model\"] = model\n",
    "        if models_attrs[f\"{m_type}\"].get(\"test\") is None:\n",
    "            test_loss, test_acc = trainer.test(model, test_loader, device=\"cpu\")\n",
    "            models_attrs[f\"{m_type}\"][\"test\"] = (test_loss, test_acc)\n",
    "        models_attrs[f\"{m_type}\"][\"attrs\"].append(attr_model)"
   ]
  },
  {
   "cell_type": "code",
   "execution_count": 15,
   "metadata": {},
   "outputs": [
    {
     "data": {
      "text/plain": [
       "(0.030985720507637596, 99.14)"
      ]
     },
     "execution_count": 15,
     "metadata": {},
     "output_type": "execute_result"
    }
   ],
   "source": [
    "models_attrs[\"resnet\"][\"test\"]"
   ]
  },
  {
   "cell_type": "code",
   "execution_count": 16,
   "metadata": {},
   "outputs": [
    {
     "data": {
      "text/plain": [
       "(0.027761919576558283, 99.2)"
      ]
     },
     "execution_count": 16,
     "metadata": {},
     "output_type": "execute_result"
    }
   ],
   "source": [
    "models_attrs[\"resnetcbam\"][\"test\"]"
   ]
  },
  {
   "cell_type": "code",
   "execution_count": 17,
   "metadata": {},
   "outputs": [
    {
     "data": {
      "text/plain": [
       "torch.Size([10, 1, 28, 28])"
      ]
     },
     "execution_count": 17,
     "metadata": {},
     "output_type": "execute_result"
    }
   ],
   "source": [
    "resnet = models_attrs[\"resnet\"]"
   ]
  },
  {
   "cell_type": "code",
   "execution_count": null,
   "metadata": {},
   "outputs": [],
   "source": []
  }
 ],
 "metadata": {
  "kernelspec": {
   "display_name": "Python(venv)",
   "language": "python",
   "name": "venv"
  },
  "language_info": {
   "codemirror_mode": {
    "name": "ipython",
    "version": 3
   },
   "file_extension": ".py",
   "mimetype": "text/x-python",
   "name": "python",
   "nbconvert_exporter": "python",
   "pygments_lexer": "ipython3",
   "version": "3.6.8"
  }
 },
 "nbformat": 4,
 "nbformat_minor": 2
}
