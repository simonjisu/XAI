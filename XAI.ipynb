{
 "cells": [
  {
   "cell_type": "code",
   "execution_count": 11,
   "metadata": {},
   "outputs": [
    {
     "data": {
      "text/plain": [
       "'1.3.0'"
      ]
     },
     "execution_count": 11,
     "metadata": {},
     "output_type": "execute_result"
    }
   ],
   "source": [
    "import numpy as np\n",
    "import matplotlib.pyplot as plt\n",
    "import torch\n",
    "import torch.nn as nn\n",
    "import torch.optim as optim\n",
    "from torchvision import datasets, models, transforms\n",
    "torch.__version__"
   ]
  },
  {
   "cell_type": "code",
   "execution_count": null,
   "metadata": {},
   "outputs": [],
   "source": []
  },
  {
   "cell_type": "code",
   "execution_count": 2,
   "metadata": {},
   "outputs": [],
   "source": [
    "class GradientInput(nn.Module):\n",
    "    \"\"\"DNN version\"\"\"\n",
    "    def __init__(self, input_size, hidden_sizes, output_size):\n",
    "        super(GradientInput, self).__init__()\n",
    "        layers = []\n",
    "        hs_f = input_size\n",
    "        if isinstance(hidden_sizes, list):\n",
    "            for hs_b in hidden_sizes:\n",
    "                layers.append(nn.Linear(hs_f, hs_b))\n",
    "                layers.append(nn.ReLU())\n",
    "                hs_f = hs_b\n",
    "        else:\n",
    "            hs_b = hidden_sizes\n",
    "            layers.append(nn.Linear(hs_f, hs_b))\n",
    "        layers.append(nn.Linear(hs_b, output_size))\n",
    "        self.layers = nn.Sequential(*layers)\n",
    "        \n",
    "    def forward(self, x):\n",
    "        x = x.view(x.size(0), -1)\n",
    "        output = self.layers(x)\n",
    "        return output"
   ]
  },
  {
   "cell_type": "code",
   "execution_count": 40,
   "metadata": {},
   "outputs": [],
   "source": [
    "class GradientInput(nn.Module):\n",
    "    \"\"\"CNN version\"\"\"\n",
    "    def __init__(self, output_size):\n",
    "        super(GradientInput, self).__init__()\n",
    "        self.conv = nn.Sequential(\n",
    "            nn.Conv2d(3, 32, 7, padding=1),  # (B, 1, 32, 32) -> (B, 32, 28, 28)\n",
    "            nn.ReLU(),\n",
    "            nn.MaxPool2d(2),  # (B, 32, 28, 28) -> (B, 32, 14, 14)\n",
    "            nn.Conv2d(32, 64, 5, padding=1),  # (B, 32, 14, 14) -> (B, 64, 12, 12)\n",
    "            nn.ReLU(),\n",
    "            nn.MaxPool2d(2)  # (B, 64, 12, 12) -> (B, 64, 6, 6)\n",
    "        )\n",
    "        self.fc = nn.Sequential(\n",
    "            nn.Linear(64*6*6, 1000),\n",
    "            nn.Linear(1000, 10)\n",
    "        )\n",
    "        \n",
    "    def forward(self, x):\n",
    "        x = self.conv(x)\n",
    "        x = x.view(x.size(0), -1)\n",
    "        output = self.fc(x)\n",
    "        return output"
   ]
  },
  {
   "cell_type": "code",
   "execution_count": 92,
   "metadata": {},
   "outputs": [],
   "source": [
    "def train(model, train_loader, optimizer, loss_function, device, **kwargs):\n",
    "    step = kwargs[\"step\"]+1\n",
    "    n_step = kwargs[\"n_step\"]\n",
    "    logterm = 30 if kwargs.get(\"logterm\") is None else kwargs[\"logterm\"] \n",
    "    model.train()\n",
    "    for i, (data, target) in enumerate(train_loader):\n",
    "        data, target = data.to(device), target.to(device)\n",
    "        optimizer.zero_grad()\n",
    "        output = model(data)\n",
    "        loss = loss_function(output, target)\n",
    "        loss.backward()\n",
    "        optimizer.step()\n",
    "        \n",
    "        # record\n",
    "        if i % logterm == 0:    \n",
    "            print(f\"[{step}/{n_step}] Progress: {100*i/len(train_loader):.2f}% Batch Average loss: {loss:.4f}\")\n",
    "        \n",
    "def test(model, test_loader, loss_function, device):\n",
    "    model.eval()\n",
    "    test_loss = 0\n",
    "    correct = 0\n",
    "    with torch.no_grad():\n",
    "        for data, target in test_loader:\n",
    "            data, target = data.to(device), target.to(device)\n",
    "            output = model(data)\n",
    "            test_loss += torch.nn.functional.cross_entropy(output, target, reduction=\"sum\").item()\n",
    "            pred = output.argmax(dim=1, keepdim=True)\n",
    "            correct += pred.eq(target.view_as(pred)).sum().item()\n",
    "    \n",
    "    test_loss /= len(test_loader.dataset)\n",
    "    accuracy = 100*(correct / len(test_loader.dataset))\n",
    "    \n",
    "    print(f\"\\n[Test] Average loss: {test_loss:.4f}, Accuracy: {correct}/{len(test_loader.dataset)} ({accuracy:.2f}%)\")\n",
    "    return test_loss, accuracy"
   ]
  },
  {
   "cell_type": "code",
   "execution_count": 93,
   "metadata": {},
   "outputs": [],
   "source": [
    "n_step = 10\n",
    "batch_size = 64\n",
    "device = \"cuda\" if torch.cuda.is_available() else \"cpu\"\n",
    "# ds = datasets.MNIST\n",
    "ds = datasets.CIFAR10\n",
    "train_dataset = ds(\n",
    "    root=\"../data\",                                \n",
    "    train=True,\n",
    "    transform=transforms.Compose([\n",
    "       transforms.ToTensor(),\n",
    "       transforms.Normalize((0.5, 0.5, 0.5), (0.5, 0.5, 0.5))\n",
    "    ]),\n",
    "    download=False)\n",
    "test_dataset = ds(\n",
    "    root=\"../data\", \n",
    "    train=False,\n",
    "    transform=transforms.Compose([\n",
    "       transforms.ToTensor(),\n",
    "       transforms.Normalize((0.5, 0.5, 0.5), (0.5, 0.5, 0.5))\n",
    "    ]),\n",
    "    download=False)\n",
    "train_loader = torch.utils.data.DataLoader(\n",
    "    train_dataset,\n",
    "    batch_size=batch_size, \n",
    "    shuffle=True)\n",
    "test_loader = torch.utils.data.DataLoader(\n",
    "    test_dataset,\n",
    "    batch_size=batch_size, \n",
    "    shuffle=True)"
   ]
  },
  {
   "cell_type": "code",
   "execution_count": 94,
   "metadata": {},
   "outputs": [],
   "source": [
    "output_size = 10\n",
    "model = models.vgg16_bn(pretrained=True).to(device)\n",
    "# model = GradientInput(output_size)\n",
    "loss_function = nn.CrossEntropyLoss()\n",
    "optimizer = optim.Adam(model.parameters())"
   ]
  },
  {
   "cell_type": "code",
   "execution_count": 56,
   "metadata": {},
   "outputs": [],
   "source": [
    "num_ftrs = model.classifier[6].in_features\n",
    "model.classifier[6] = nn.Linear(num_ftrs, output_size)\n",
    "model = model.to(device)"
   ]
  },
  {
   "cell_type": "code",
   "execution_count": 95,
   "metadata": {},
   "outputs": [
    {
     "name": "stdout",
     "output_type": "stream",
     "text": [
      "[1/10] Progress: 0.00% Batch Average loss: 18.0942\n",
      "[1/10] Progress: 51.15% Batch Average loss: 1.0444\n",
      "\n",
      "[Test] Average loss: 0.8616, Accuracy: 7308/10000 (73.08%)\n",
      "[alert] best model saved\n",
      "------------------------------\n",
      "[2/10] Progress: 0.00% Batch Average loss: 0.7755\n",
      "[2/10] Progress: 51.15% Batch Average loss: 0.6724\n",
      "\n",
      "[Test] Average loss: 0.6197, Accuracy: 8097/10000 (80.97%)\n",
      "[alert] best model saved\n",
      "------------------------------\n",
      "[3/10] Progress: 0.00% Batch Average loss: 0.8084\n",
      "[3/10] Progress: 51.15% Batch Average loss: 0.6524\n",
      "\n",
      "[Test] Average loss: 0.5601, Accuracy: 8289/10000 (82.89%)\n",
      "[alert] best model saved\n",
      "------------------------------\n",
      "[4/10] Progress: 0.00% Batch Average loss: 0.6095\n",
      "[4/10] Progress: 51.15% Batch Average loss: 0.6131\n",
      "\n",
      "[Test] Average loss: 0.5906, Accuracy: 8209/10000 (82.09%)\n",
      "------------------------------\n",
      "[5/10] Progress: 0.00% Batch Average loss: 0.2924\n",
      "[5/10] Progress: 51.15% Batch Average loss: 0.5104\n",
      "\n",
      "[Test] Average loss: 0.5191, Accuracy: 8412/10000 (84.12%)\n",
      "[alert] best model saved\n",
      "------------------------------\n",
      "[6/10] Progress: 0.00% Batch Average loss: 0.2472\n",
      "[6/10] Progress: 51.15% Batch Average loss: 0.2923\n",
      "\n",
      "[Test] Average loss: 0.5165, Accuracy: 8489/10000 (84.89%)\n",
      "[alert] best model saved\n",
      "------------------------------\n",
      "[7/10] Progress: 0.00% Batch Average loss: 0.3037\n",
      "[7/10] Progress: 51.15% Batch Average loss: 0.2479\n",
      "\n",
      "[Test] Average loss: 0.6153, Accuracy: 8406/10000 (84.06%)\n",
      "------------------------------\n",
      "[8/10] Progress: 0.00% Batch Average loss: 0.1689\n",
      "[8/10] Progress: 51.15% Batch Average loss: 0.2709\n",
      "\n",
      "[Test] Average loss: 0.7252, Accuracy: 7936/10000 (79.36%)\n",
      "------------------------------\n",
      "[9/10] Progress: 0.00% Batch Average loss: 0.6251\n",
      "[9/10] Progress: 51.15% Batch Average loss: 0.4162\n",
      "\n",
      "[Test] Average loss: 0.5730, Accuracy: 8319/10000 (83.19%)\n",
      "------------------------------\n",
      "[10/10] Progress: 0.00% Batch Average loss: 0.4514\n",
      "[10/10] Progress: 51.15% Batch Average loss: 0.2528\n",
      "\n",
      "[Test] Average loss: 0.4825, Accuracy: 8672/10000 (86.72%)\n",
      "[alert] best model saved\n",
      "------------------------------\n"
     ]
    }
   ],
   "source": [
    "best_acc = 0.0\n",
    "for step in range(n_step):\n",
    "    train(model, train_loader, optimizer, loss_function, device, logterm=400, step=step, n_step=n_step)\n",
    "    _, test_acc = test(model, test_loader, loss_function, device)\n",
    "    if test_acc >= best_acc:\n",
    "        best_acc = test_acc\n",
    "        torch.save(model.state_dict(), \"./trained/cifar10-vgg16_bn.pt\")\n",
    "        print(\"[alert] best model saved\")\n",
    "    print(\"---\"*10)"
   ]
  },
  {
   "cell_type": "code",
   "execution_count": null,
   "metadata": {},
   "outputs": [],
   "source": [
    "imgs."
   ]
  },
  {
   "cell_type": "code",
   "execution_count": 61,
   "metadata": {},
   "outputs": [],
   "source": [
    "model = model.cpu()\n",
    "for imgs, labels in test_loader:\n",
    "    break\n",
    "    \n",
    "num = 6\n",
    "samples = imgs[:num].requires_grad_()\n",
    "sample_labels = labels[:num]\n",
    "model.zero_grad()\n",
    "output = model(samples)\n",
    "loss = loss_function(output, sample_labels)\n",
    "loss.backward()\n",
    "# input * grad\n",
    "# inputgrads = samples * samples.grad\n",
    "inputgrads = samples.grad"
   ]
  },
  {
   "cell_type": "code",
   "execution_count": 69,
   "metadata": {},
   "outputs": [
    {
     "name": "stderr",
     "output_type": "stream",
     "text": [
      "Clipping input data to the valid range for imshow with RGB data ([0..1] for floats or [0..255] for integers).\n",
      "Clipping input data to the valid range for imshow with RGB data ([0..1] for floats or [0..255] for integers).\n",
      "Clipping input data to the valid range for imshow with RGB data ([0..1] for floats or [0..255] for integers).\n",
      "Clipping input data to the valid range for imshow with RGB data ([0..1] for floats or [0..255] for integers).\n",
      "Clipping input data to the valid range for imshow with RGB data ([0..1] for floats or [0..255] for integers).\n",
      "Clipping input data to the valid range for imshow with RGB data ([0..1] for floats or [0..255] for integers).\n",
      "Clipping input data to the valid range for imshow with RGB data ([0..1] for floats or [0..255] for integers).\n",
      "Clipping input data to the valid range for imshow with RGB data ([0..1] for floats or [0..255] for integers).\n",
      "Clipping input data to the valid range for imshow with RGB data ([0..1] for floats or [0..255] for integers).\n",
      "Clipping input data to the valid range for imshow with RGB data ([0..1] for floats or [0..255] for integers).\n",
      "Clipping input data to the valid range for imshow with RGB data ([0..1] for floats or [0..255] for integers).\n",
      "Clipping input data to the valid range for imshow with RGB data ([0..1] for floats or [0..255] for integers).\n"
     ]
    },
    {
     "data": {
      "image/png": "[encoded data removed]",
      "text/plain": [
       "<Figure size 288x864 with 12 Axes>"
      ]
     },
     "metadata": {
      "needs_background": "light"
     },
     "output_type": "display_data"
    }
   ],
   "source": [
    "fig, axes = plt.subplots(num, 2, figsize=(4, 12))\n",
    "for i, (dual_ax, (sample, inputgrad), sample_label) in enumerate(zip(axes, list(zip(*[samples, inputgrads])), sample_labels)):\n",
    "    # draw\n",
    "    for ax, name in zip(dual_ax, [\"sample\", \"input*grad\"]):\n",
    "        if name == \"sample\":\n",
    "            img = sample\n",
    "        else:\n",
    "            img = inputgrad\n",
    "        ax.imshow(img.permute(32, 32, -1).squeeze().detach())\n",
    "        ax.grid(False)\n",
    "        ax.axis(\"off\")\n",
    "        if i == 0:\n",
    "            ax.set_title(f\"{name}\")\n",
    "plt.tight_layout()\n",
    "plt.show()"
   ]
  },
  {
   "cell_type": "code",
   "execution_count": null,
   "metadata": {},
   "outputs": [],
   "source": []
  }
 ],
 "metadata": {
  "kernelspec": {
   "display_name": "Python(venv)",
   "language": "python",
   "name": "venv"
  },
  "language_info": {
   "codemirror_mode": {
    "name": "ipython",
    "version": 3
   },
   "file_extension": ".py",
   "mimetype": "text/x-python",
   "name": "python",
   "nbconvert_exporter": "python",
   "pygments_lexer": "ipython3",
   "version": "3.6.8"
  }
 },
 "nbformat": 4,
 "nbformat_minor": 2
}
