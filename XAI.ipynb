{
 "cells": [
  {
   "cell_type": "code",
   "execution_count": 37,
   "metadata": {},
   "outputs": [
    {
     "data": {
      "text/plain": [
       "'1.3.0'"
      ]
     },
     "execution_count": 37,
     "metadata": {},
     "output_type": "execute_result"
    }
   ],
   "source": [
    "from pathlib import Path\n",
    "import numpy as np\n",
    "import matplotlib.pyplot as plt\n",
    "import torch\n",
    "import torch.nn as nn\n",
    "import torch.optim as optim\n",
    "from torchvision import datasets, transforms"
   ]
  },
  {
   "cell_type": "code",
   "execution_count": null,
   "metadata": {},
   "outputs": [],
   "source": [
    "from pathlib import Path\n",
    "import numpy as np\n",
    "import matplotlib.pyplot as plt\n",
    "\n",
    "import torch\n",
    "from models.gradientbased.MnistModels import MNISTmodel\n",
    "torch.__version__"
   ]
  },
  {
   "cell_type": "code",
   "execution_count": null,
   "metadata": {},
   "outputs": [],
   "source": [
    "activation_types = [\"relu\", \"tanh\", \"sigmoid\", \"softplus\"]\n",
    "model_types = [\"dnn\", \"cnn\"]\n",
    "args = dict(\n",
    "    root = Path().home()/\"data\",\n",
    "    project_path = Path().home()/\"code\"/\"XAI\",\n",
    "    logterm = False, \n",
    "    sv_folder = \"mnist\", \n",
    "    n_step = 20,\n",
    "    batch_size = 128,\n",
    "    download = False,\n",
    "    device = \"cuda\" if torch.cuda.is_available() else \"cpu\",\n",
    "    seed = 73\n",
    ")\n",
    "# main(model_types, activation_types, **args)"
   ]
  },
  {
   "cell_type": "code",
   "execution_count": 61,
   "metadata": {},
   "outputs": [],
   "source": [
    "model = model.cpu()\n",
    "for imgs, labels in test_loader:\n",
    "    break\n",
    "    \n",
    "num = 6\n",
    "samples = imgs[:num].requires_grad_()\n",
    "sample_labels = labels[:num]\n",
    "model.zero_grad()\n",
    "output = model(samples)\n",
    "loss = loss_function(output, sample_labels)\n",
    "loss.backward()\n",
    "# input * grad\n",
    "# inputgrads = samples * samples.grad\n",
    "inputgrads = samples.grad"
   ]
  },
  {
   "cell_type": "code",
   "execution_count": null,
   "metadata": {},
   "outputs": [],
   "source": [
    "fig, axes = plt.subplots(num, 2, figsize=(4, 12))\n",
    "for i, (dual_ax, (sample, inputgrad), sample_label) in enumerate(zip(axes, list(zip(*[samples, inputgrads])), sample_labels)):\n",
    "    # draw\n",
    "    for ax, name in zip(dual_ax, [\"sample\", \"input*grad\"]):\n",
    "        if name == \"sample\":\n",
    "            img = sample\n",
    "        else:\n",
    "            img = inputgrad\n",
    "        ax.imshow(img.permute(32, 32, -1).squeeze().detach())\n",
    "        ax.grid(False)\n",
    "        ax.axis(\"off\")\n",
    "        if i == 0:\n",
    "            ax.set_title(f\"{name}\")\n",
    "plt.tight_layout()\n",
    "plt.show()"
   ]
  },
  {
   "cell_type": "code",
   "execution_count": null,
   "metadata": {},
   "outputs": [],
   "source": []
  }
 ],
 "metadata": {
  "kernelspec": {
   "display_name": "Python(venv)",
   "language": "python",
   "name": "venv"
  },
  "language_info": {
   "codemirror_mode": {
    "name": "ipython",
    "version": 3
   },
   "file_extension": ".py",
   "mimetype": "text/x-python",
   "name": "python",
   "nbconvert_exporter": "python",
   "pygments_lexer": "ipython3",
   "version": "3.6.8"
  }
 },
 "nbformat": 4,
 "nbformat_minor": 2
}
