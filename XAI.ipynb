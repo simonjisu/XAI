{
 "cells": [
  {
   "cell_type": "code",
   "execution_count": 1,
   "metadata": {},
   "outputs": [],
   "source": [
    "from pathlib import Path\n",
    "import numpy as np\n",
    "import matplotlib.pyplot as plt\n",
    "import torch\n",
    "import torch.nn as nn\n",
    "import torch.optim as optim\n",
    "from torchvision import datasets, transforms\n",
    "from collections import OrderedDict\n",
    "from mpl_toolkits.axes_grid1 import make_axes_locatable"
   ]
  },
  {
   "cell_type": "code",
   "execution_count": 212,
   "metadata": {},
   "outputs": [],
   "source": [
    "class relLinear(nn.Linear):\n",
    "    def __init__(self, linear):\n",
    "        super(nn.Linear, self).__init__()\n",
    "        self.in_features = linear.in_features\n",
    "        self.out_features = linear.out_features\n",
    "        self.weight = linear.weight  # (out_f, in_f)\n",
    "        self.bias = linear.bias  # out_f\n",
    "        self.input = None\n",
    "        self.output = None\n",
    "        self.register()\n",
    "        \n",
    "    def register(self):\n",
    "        self.register_forward_hook(self.hook_function)\n",
    "    \n",
    "    def hook_function(self, *x):\n",
    "        _, i, o = x\n",
    "        self.input = i[0].data\n",
    "        self.output = o.data\n",
    "    \n",
    "    def relprop(self, r):\n",
    "        \"\"\"\n",
    "        lrp method\n",
    "            > * must run after `self.forward`\n",
    "            > \n",
    "            > @ forward shape\n",
    "            > input: (B, *, in_f)\n",
    "            > output: (B, *, out_f)\n",
    "\n",
    "        - relprop shape\n",
    "        r = (l+1)-th layer: (B, out_f)\n",
    "        r_next = l-th layer: (B, in_f)\n",
    "        \"\"\"\n",
    "        eps = 1e-6\n",
    "        z = self.input.unsqueeze(-1) * self.weight.transpose(0, 1).unsqueeze(0)  # (B, in_f, 1) * (1, in_f, out_f) = (B, in_f, out_f)\n",
    "        denominator = self.output.unsqueeze(1) + 1e-6 * torch.sign(self.output.unsqueeze(1))  # (B, 1, out_f)\n",
    "        weight = z / denominator\n",
    "        r_next = torch.bmm(w, r.unsqueeze(-1)).squeeze()\n",
    "        assert r_next.size(1) == self.in_features, \"size of `r_next` is not correct\"\n",
    "        return r_next"
   ]
  },
  {
   "cell_type": "code",
   "execution_count": 213,
   "metadata": {},
   "outputs": [],
   "source": [
    "a = nn.Linear(3, 2)\n",
    "b = relLinear(a)"
   ]
  },
  {
   "cell_type": "code",
   "execution_count": 214,
   "metadata": {},
   "outputs": [],
   "source": [
    "o = b(torch.rand(5, 3))"
   ]
  },
  {
   "cell_type": "code",
   "execution_count": 215,
   "metadata": {},
   "outputs": [
    {
     "data": {
      "text/plain": [
       "tensor([[0., 1.],\n",
       "        [1., 0.],\n",
       "        [1., 0.],\n",
       "        [0., 1.],\n",
       "        [1., 0.]])"
      ]
     },
     "execution_count": 215,
     "metadata": {},
     "output_type": "execute_result"
    }
   ],
   "source": [
    "target_vector = torch.zeros(5, 2).scatter(1, torch.LongTensor([[1], [0], [0], [1], [0]]), 1)\n",
    "target_vector  # l+1"
   ]
  },
  {
   "cell_type": "code",
   "execution_count": 216,
   "metadata": {},
   "outputs": [
    {
     "data": {
      "text/plain": [
       "tensor([[  0.9984,   0.0207,   2.5550],\n",
       "        [ -0.3138,   0.0929,  -0.2002],\n",
       "        [ -0.5091,   0.0938,  -0.2315],\n",
       "        [ -3.5901,  -0.1635, -10.1334],\n",
       "        [ -0.1176,   0.0608,  -0.0891]], grad_fn=<SqueezeBackward0>)"
      ]
     },
     "execution_count": 216,
     "metadata": {},
     "output_type": "execute_result"
    }
   ],
   "source": [
    "b.relprop(target_vector)"
   ]
  },
  {
   "cell_type": "code",
   "execution_count": null,
   "metadata": {},
   "outputs": [],
   "source": []
  },
  {
   "cell_type": "code",
   "execution_count": null,
   "metadata": {},
   "outputs": [],
   "source": []
  },
  {
   "cell_type": "code",
   "execution_count": null,
   "metadata": {},
   "outputs": [],
   "source": []
  },
  {
   "cell_type": "code",
   "execution_count": null,
   "metadata": {},
   "outputs": [],
   "source": []
  },
  {
   "cell_type": "code",
   "execution_count": null,
   "metadata": {},
   "outputs": [],
   "source": []
  },
  {
   "cell_type": "code",
   "execution_count": null,
   "metadata": {},
   "outputs": [],
   "source": []
  },
  {
   "cell_type": "code",
   "execution_count": null,
   "metadata": {},
   "outputs": [],
   "source": []
  },
  {
   "cell_type": "code",
   "execution_count": null,
   "metadata": {},
   "outputs": [],
   "source": []
  },
  {
   "cell_type": "code",
   "execution_count": 2,
   "metadata": {},
   "outputs": [],
   "source": [
    "class MNISTmodel(nn.Module):\n",
    "    \"\"\"\n",
    "    paper implementation 'https://arxiv.org/abs/1711.06104'\n",
    "    \n",
    "    model_type: \n",
    "        - DNN: \n",
    "            Linear: 28*28, 512 \n",
    "            Linear: 512, 512\n",
    "            Linear: 512, 10\n",
    "        - CNN: \n",
    "            Conv2d: (1, 32, 3)\n",
    "            Conv2d: (32, 64, 3)\n",
    "            MaxPool2d: (2)\n",
    "            Linear: (64*12*12, 128)\n",
    "            Linear: (128, 10)\n",
    "\n",
    "            ** Conv2d = (in_kernels, out_kernels, kernel_size)\n",
    "            ** MAxPool2d = (kernel_size)\n",
    "\n",
    "    activation_type:\n",
    "        - ReLU, Tanh, Sigmoid, Softplus\n",
    "    \"\"\"\n",
    "    def __init__(self, model_type, activation_type):\n",
    "        \"\"\"\n",
    "        model_type: \"dnn\", \"cnn\"\n",
    "        activation_type: \"relu\", \"tanh\", \"sigmoid\", \"softplus\"\n",
    "        \"\"\"\n",
    "        super(MNISTmodel, self).__init__()\n",
    "        self.act = {\"relu\": nn.ReLU, \n",
    "                    \"tanh\": nn.Tanh, \n",
    "                    \"sigmoid\": nn.Sigmoid, \n",
    "                    \"softplus\": nn.Softplus}\n",
    "        \n",
    "        self.convs, self.fc = self.make_layers(model_type, activation_type)\n",
    "        \n",
    "        if model_type == \"cnn\":\n",
    "            self.switches = OrderedDict()\n",
    "            self.maxpool2d_locs = []\n",
    "            self.convs_len = len(self.convs)\n",
    "            \n",
    "        self.activation_maps = OrderedDict()\n",
    "        self.activation_locs = []\n",
    "        self.fc_len = len(self.fc)\n",
    "        \n",
    "    def make_layers(self, model_type, activation_type):\n",
    "        self.activation_func = self.act[activation_type.lower()]\n",
    "        if model_type.lower() == \"dnn\":\n",
    "            convs = None\n",
    "            fc = nn.Sequential(\n",
    "                nn.Linear(28*28, 512),\n",
    "                self.activation_func(), \n",
    "                nn.Linear(512, 512),\n",
    "                self.activation_func(), \n",
    "                nn.Linear(512, 10),\n",
    "            )\n",
    "        elif model_type.lower() == \"cnn\":\n",
    "            convs = nn.Sequential(\n",
    "                nn.Conv2d(1, 32, 3),\n",
    "                self.activation_func(),\n",
    "                nn.Conv2d(32, 64, 3),\n",
    "                self.activation_func(), \n",
    "                nn.MaxPool2d(2, return_indices=True),\n",
    "            )\n",
    "            fc = nn.Sequential(\n",
    "                nn.Linear(64*12*12, 128),\n",
    "                self.activation_func(),\n",
    "                nn.Linear(128, 10)\n",
    "            )\n",
    "        else:\n",
    "            assert False, \"please insert `model_type` = `dnn` or `cnn`\"\n",
    "        return convs, fc    \n",
    "    \n",
    "    def save_activation_maps(self, layer, idx, x, typ, indices=None):\n",
    "        if isinstance(layer, self.activation_func):\n",
    "            layer_name = f\"{typ}{idx}\"\n",
    "            self.activation_locs.append(layer_name)\n",
    "            self.activation_maps[layer_name] = x\n",
    "    \n",
    "    def forward(self, x, store=False):\n",
    "        # conv layers\n",
    "        if self.convs is not None:\n",
    "            for idx, layer in enumerate(self.convs):\n",
    "                if isinstance(layer, nn.MaxPool2d):\n",
    "                    x, indices = layer(x)\n",
    "                    self.switches[idx] = indices\n",
    "                    self.maxpool2d_locs.append(idx)\n",
    "                else:\n",
    "                    x = layer(x)\n",
    "                    if store:\n",
    "                        self.save_activation_maps(layer, idx, x, typ=\"convs\")\n",
    "        # resize\n",
    "        x = x.view(x.size(0), -1)\n",
    "        # fc layers\n",
    "        for idx, layer in enumerate(self.fc, (self.convs_len+self.fc_len-2)*int(bool(self.convs))):\n",
    "            x = layer(x)\n",
    "            if store:\n",
    "                self.save_activation_maps(layer, idx, x, typ=\"fc\")\n",
    "        return x"
   ]
  },
  {
   "cell_type": "code",
   "execution_count": 3,
   "metadata": {},
   "outputs": [],
   "source": [
    "class explainMNISTmodel(nn.Module):\n",
    "    def __init__(self, model_type, activation_type):\n",
    "        \"\"\"\n",
    "        model_type: \"dnn\", \"cnn\"\n",
    "        activation_type: \"relu\", \"tanh\", \"sigmoid\", \"softplus\"\n",
    "        \"\"\"\n",
    "        super(explainMNISTmodel, self).__init__()\n",
    "        self.act = {\"relu\": nn.ReLU, \n",
    "                    \"tanh\": nn.Tanh, \n",
    "                    \"sigmoid\": nn.Sigmoid, \n",
    "                    \"softplus\": nn.Softplus}\n",
    "        \n",
    "        self.convs, self.fc = self.make_layers(model_type, activation_type)\n",
    "        \n",
    "        if model_type == \"cnn\":\n",
    "            self.switches = OrderedDict()\n",
    "            self.maxpool2d_locs = []\n",
    "            self.convs_len = len(self.convs)\n",
    "            \n",
    "        self.activation_maps = OrderedDict()\n",
    "        self.activation_locs = []\n",
    "        self.fc_len = len(self.fc)\n",
    "        \n",
    "    def make_layers(self, model_type, activation_type):\n",
    "        self.activation_func = self.act[activation_type.lower()]\n",
    "        if model_type.lower() == \"dnn\":\n",
    "            convs = None\n",
    "            fc = nn.Sequential(\n",
    "                nn.Linear(10, 512),\n",
    "                self.activation_func(), \n",
    "                nn.Linear(512, 512),\n",
    "                self.activation_func(), \n",
    "                nn.Linear(512, 28*28),\n",
    "            )\n",
    "        elif model_type.lower() == \"cnn\":\n",
    "            fc = nn.Sequential(\n",
    "                nn.Linear(10, 128),\n",
    "                self.activation_func(),\n",
    "                nn.Linear(128, 64*12*12)    \n",
    "            )\n",
    "            convs = nn.Sequential(\n",
    "                nn.MaxUnpool2d(2),\n",
    "                self.activation_func(), \n",
    "                nn.ConvTranspose2d(64, 32, 3),\n",
    "                self.activation_func(),\n",
    "                nn.ConvTranspose2d(32, 1, 3),\n",
    "            )\n",
    "        else:\n",
    "            assert False, \"please insert `model_type` = `dnn` or `cnn`\"\n",
    "        return convs, fc    \n",
    "\n",
    "    def forward(self, x, switches=None):  \n",
    "        x = self.fc(x)\n",
    "        x = x.view(x.size(0), 64, 12, 12)\n",
    "        if self.convs is not None:\n",
    "            for idx, layer in enumerate(self.convs):\n",
    "                if isinstance(layer, nn.MaxUnpool2d):\n",
    "                    x = layer(x, switches[self.convs_len - 1 - idx])\n",
    "                    self.switches = indices\n",
    "                else:\n",
    "                    x = layer(x)\n",
    "        return x\n",
    "    \n",
    "    def cal_relavance(self, method, layer):\n",
    "        \"\"\"\n",
    "        method = 'lrp', 'deeplift' \n",
    "        \"\"\"\n",
    "        "
   ]
  },
  {
   "cell_type": "code",
   "execution_count": 53,
   "metadata": {},
   "outputs": [],
   "source": [
    "linear = nn.Linear(5, 10)"
   ]
  },
  {
   "cell_type": "code",
   "execution_count": null,
   "metadata": {},
   "outputs": [],
   "source": []
  },
  {
   "cell_type": "code",
   "execution_count": null,
   "metadata": {},
   "outputs": [],
   "source": []
  },
  {
   "cell_type": "code",
   "execution_count": null,
   "metadata": {},
   "outputs": [],
   "source": []
  },
  {
   "cell_type": "code",
   "execution_count": null,
   "metadata": {},
   "outputs": [],
   "source": []
  },
  {
   "cell_type": "code",
   "execution_count": null,
   "metadata": {},
   "outputs": [],
   "source": []
  },
  {
   "cell_type": "code",
   "execution_count": null,
   "metadata": {},
   "outputs": [],
   "source": []
  },
  {
   "cell_type": "code",
   "execution_count": 4,
   "metadata": {},
   "outputs": [],
   "source": [
    "def build_dataset(root, batch_size, download=False):\n",
    "    train_dataset = datasets.MNIST(\n",
    "        root=root,                                \n",
    "        train=True,\n",
    "        transform=transforms.Compose([\n",
    "           transforms.ToTensor(),\n",
    "           transforms.Normalize((0.5,), (0.5,))  # normalize to (-1, 1)\n",
    "        ]),\n",
    "        download=download)\n",
    "    test_dataset = datasets.MNIST(\n",
    "        root=root, \n",
    "        train=False,\n",
    "        transform=transforms.Compose([\n",
    "           transforms.ToTensor(),\n",
    "           transforms.Normalize((0.5,), (0.5,))\n",
    "        ]),\n",
    "        download=download)\n",
    "    train_loader = torch.utils.data.DataLoader(\n",
    "        train_dataset,\n",
    "        batch_size=batch_size, \n",
    "        shuffle=True)\n",
    "    test_loader = torch.utils.data.DataLoader(\n",
    "        test_dataset,\n",
    "        batch_size=batch_size, \n",
    "        shuffle=True)\n",
    "    return train_dataset, test_dataset, train_loader, test_loader"
   ]
  },
  {
   "cell_type": "code",
   "execution_count": 5,
   "metadata": {},
   "outputs": [],
   "source": [
    "activation_types = [\"relu\", \"tanh\", \"sigmoid\", \"softplus\"]\n",
    "model_types = [\"dnn\", \"cnn\"]\n",
    "args = dict(\n",
    "    root = Path().home()/\"code\"/\"data\",\n",
    "    project_path = Path().home()/\"code\"/\"XAI\",\n",
    "    logterm = False, \n",
    "    sv_folder = \"mnist\", \n",
    "    n_step = 20,\n",
    "    batch_size = 128,\n",
    "    download = False,\n",
    "    device = \"cuda\" if torch.cuda.is_available() else \"cpu\",\n",
    "    seed = 73\n",
    ")\n",
    "train_dataset, test_dataset, train_loader, test_loader = build_dataset(str(args[\"root\"]), 1)"
   ]
  },
  {
   "cell_type": "code",
   "execution_count": 6,
   "metadata": {},
   "outputs": [],
   "source": [
    "def create_model(model_type, activation_type, load=True):\n",
    "    model = MNISTmodel(model_type, activation_type)\n",
    "    ex_model = explainMNISTmodel(model_type, activation_type)\n",
    "    if load:\n",
    "        model.load_state_dict(torch.load(f\"./trained/mnist/{model_type}-{activation_type}.pt\", map_location=\"cpu\"))\n",
    "    return model, ex_model\n",
    "\n",
    "def run_backward(x, oc_x, target, model):\n",
    "    loss_function = nn.CrossEntropyLoss()\n",
    "    ret = []\n",
    "    for img in [x, oc_x]:\n",
    "        img = img.requires_grad_()\n",
    "        model.zero_grad()\n",
    "        output = model(img, store=True)\n",
    "        pred = output.argmax(1) \n",
    "        loss = loss_function(output, target)\n",
    "        loss.backward()\n",
    "        ret.append((img.grad, pred))\n",
    "    return ret\n",
    "\n",
    "def unnormalize(x, mean=0.5, std=0.5):\n",
    "    return (x*0.5) + 0.5\n",
    "\n",
    "def draw_activaion_map(model):\n",
    "    fig, axes = plt.subplots(1, 2, figsize=(6, 24))\n",
    "\n",
    "    for ax, layer_name in zip(axes, model.activation_locs):\n",
    "        if \"conv\" in layer_name:\n",
    "            act_map = model.activation_maps[layer_name].max(1)[0].detach().squeeze()\n",
    "            divider = make_axes_locatable(ax)\n",
    "            cax = divider.append_axes('right', size='5%', pad=0.05)\n",
    "            im = ax.imshow(act_map, cmap=\"gray\")\n",
    "            fig.colorbar(im, cax=cax, orientation='vertical')\n",
    "            ax.set_title(f\"{layer_name} \\n{list(act_map.size())}\")\n",
    "    \n",
    "    plt.tight_layout()\n",
    "    plt.show()\n",
    "    \n",
    "def draw_gradient_map(grad, oc_grad, inp, oc_inp):\n",
    "    fig, axes = plt.subplots(2, 2, figsize=(6, 6))\n",
    "    titles = [\"original\\ngradient\", \"occluded\\ngradient\", \"gradient*input\", \"occluded\\ngradient*input\"]\n",
    "    gradients = [grad, oc_grad, inp.detach()*grad, oc_inp.detach()*grad]\n",
    "    \n",
    "    for ax, g, t in zip(axes.flatten(), gradients, titles):\n",
    "        divider = make_axes_locatable(ax)\n",
    "        cax = divider.append_axes('right', size='5%', pad=0.05)\n",
    "        im = ax.matshow(g.squeeze(), cmap=\"coolwarm\")\n",
    "        ax.xaxis.tick_bottom()\n",
    "        fig.colorbar(im, cax=cax, orientation='vertical')\n",
    "        ax.set_title(f\"{t}\")\n",
    "        \n",
    "    plt.tight_layout()\n",
    "    plt.show()"
   ]
  },
  {
   "cell_type": "code",
   "execution_count": 7,
   "metadata": {},
   "outputs": [],
   "source": [
    "torch.manual_seed(74)\n",
    "for imgs, labels in test_loader:\n",
    "    break\n",
    "    \n",
    "num = 1\n",
    "sample = imgs[:num]\n",
    "sample_label = labels[:num]"
   ]
  },
  {
   "cell_type": "code",
   "execution_count": 8,
   "metadata": {},
   "outputs": [
    {
     "data": {
      "image/png": "[encoded data removed]",
      "text/plain": [
       "<Figure size 432x288 with 2 Axes>"
      ]
     },
     "metadata": {
      "needs_background": "light"
     },
     "output_type": "display_data"
    }
   ],
   "source": [
    "mask = torch.ones(1, 1, 28, 28)\n",
    "mask[0, 0, 9, 16] = -1\n",
    "oc_sample = sample * mask\n",
    "\n",
    "fig, axes = plt.subplots(1, 2)\n",
    "axes[0].imshow(unnormalize(sample.squeeze()), cmap=\"gray\")\n",
    "axes[0].set_title(f\"Target Number: {sample_label.item()}\")\n",
    "\n",
    "axes[1].imshow(unnormalize(oc_sample.squeeze()), cmap=\"gray\")\n",
    "axes[1].set_title(f\"Occluded image: {sample_label.item()}\")\n",
    "\n",
    "plt.show()"
   ]
  },
  {
   "cell_type": "code",
   "execution_count": 9,
   "metadata": {},
   "outputs": [],
   "source": [
    "model_type = \"cnn\"\n",
    "activation_type = \"relu\""
   ]
  },
  {
   "cell_type": "code",
   "execution_count": 10,
   "metadata": {},
   "outputs": [
    {
     "data": {
      "image/png": "[encoded data removed]",
      "text/plain": [
       "<Figure size 432x1728 with 4 Axes>"
      ]
     },
     "metadata": {
      "needs_background": "light"
     },
     "output_type": "display_data"
    }
   ],
   "source": [
    "# Before load trained: check how activation map\n",
    "torch.manual_seed(73)\n",
    "\n",
    "basic_model, ex_model = create_model(model_type, activation_type, load=False)\n",
    "# Occlusion\n",
    "(sample_grad, pred), (oc_sample_grad, oc_pred) = run_backward(sample, oc_sample, sample_label, basic_model)\n",
    "draw_activaion_map(basic_model)"
   ]
  },
  {
   "cell_type": "code",
   "execution_count": 11,
   "metadata": {},
   "outputs": [],
   "source": [
    "del basic_model, ex_model"
   ]
  },
  {
   "cell_type": "code",
   "execution_count": 14,
   "metadata": {},
   "outputs": [
    {
     "data": {
      "image/png": "[encoded data removed]",
      "text/plain": [
       "<Figure size 432x1728 with 4 Axes>"
      ]
     },
     "metadata": {
      "needs_background": "light"
     },
     "output_type": "display_data"
    },
    {
     "data": {
      "image/png": "[encoded data removed]",
      "text/plain": [
       "<Figure size 432x432 with 8 Axes>"
      ]
     },
     "metadata": {
      "needs_background": "light"
     },
     "output_type": "display_data"
    }
   ],
   "source": [
    "torch.manual_seed(73)\n",
    "\n",
    "basic_model, ex_model = create_model(model_type, activation_type, load=True)\n",
    "# Occlusion\n",
    "(sample_grad, pred), (oc_sample_grad, oc_pred) = run_backward(sample, oc_sample, sample_label, basic_model)\n",
    "draw_activaion_map(basic_model)\n",
    "draw_gradient_map(sample_grad, oc_sample_grad, sample, oc_sample)"
   ]
  },
  {
   "cell_type": "code",
   "execution_count": null,
   "metadata": {},
   "outputs": [],
   "source": [
    "output = basic_model(sample)"
   ]
  },
  {
   "cell_type": "code",
   "execution_count": 42,
   "metadata": {},
   "outputs": [
    {
     "data": {
      "text/plain": [
       "True"
      ]
     },
     "execution_count": 42,
     "metadata": {},
     "output_type": "execute_result"
    }
   ],
   "source": [
    "sample.requires_grad"
   ]
  },
  {
   "cell_type": "code",
   "execution_count": 45,
   "metadata": {},
   "outputs": [
    {
     "ename": "RuntimeError",
     "evalue": "Error(s) in loading state_dict for explainMNISTmodel:\n\tMissing key(s) in state_dict: \"convs.4.weight\", \"convs.4.bias\". \n\tUnexpected key(s) in state_dict: \"convs.0.weight\", \"convs.0.bias\". \n\tsize mismatch for convs.2.bias: copying a param with shape torch.Size([64]) from checkpoint, the shape in current model is torch.Size([32]).\n\tsize mismatch for fc.0.weight: copying a param with shape torch.Size([128, 9216]) from checkpoint, the shape in current model is torch.Size([128, 10]).\n\tsize mismatch for fc.2.weight: copying a param with shape torch.Size([10, 128]) from checkpoint, the shape in current model is torch.Size([9216, 128]).\n\tsize mismatch for fc.2.bias: copying a param with shape torch.Size([10]) from checkpoint, the shape in current model is torch.Size([9216]).",
     "output_type": "error",
     "traceback": [
      "\u001b[0;31m---------------------------------------------------------------------------\u001b[0m",
      "\u001b[0;31mRuntimeError\u001b[0m                              Traceback (most recent call last)",
      "\u001b[0;32m<ipython-input-45-d7da40ed7317>\u001b[0m in \u001b[0;36m<module>\u001b[0;34m\u001b[0m\n\u001b[0;32m----> 1\u001b[0;31m \u001b[0mex_model\u001b[0m\u001b[0;34m.\u001b[0m\u001b[0mload_state_dict\u001b[0m\u001b[0;34m(\u001b[0m\u001b[0mtorch\u001b[0m\u001b[0;34m.\u001b[0m\u001b[0mload\u001b[0m\u001b[0;34m(\u001b[0m\u001b[0;34mf\"./trained/mnist/{model_type}-{activation_type}.pt\"\u001b[0m\u001b[0;34m,\u001b[0m \u001b[0mmap_location\u001b[0m\u001b[0;34m=\u001b[0m\u001b[0;34m\"cpu\"\u001b[0m\u001b[0;34m)\u001b[0m\u001b[0;34m)\u001b[0m\u001b[0;34m\u001b[0m\u001b[0;34m\u001b[0m\u001b[0m\n\u001b[0m",
      "\u001b[0;32m~/miniconda3/envs/venv/lib/python3.6/site-packages/torch/nn/modules/module.py\u001b[0m in \u001b[0;36mload_state_dict\u001b[0;34m(self, state_dict, strict)\u001b[0m\n\u001b[1;32m    837\u001b[0m         \u001b[0;32mif\u001b[0m \u001b[0mlen\u001b[0m\u001b[0;34m(\u001b[0m\u001b[0merror_msgs\u001b[0m\u001b[0;34m)\u001b[0m \u001b[0;34m>\u001b[0m \u001b[0;36m0\u001b[0m\u001b[0;34m:\u001b[0m\u001b[0;34m\u001b[0m\u001b[0;34m\u001b[0m\u001b[0m\n\u001b[1;32m    838\u001b[0m             raise RuntimeError('Error(s) in loading state_dict for {}:\\n\\t{}'.format(\n\u001b[0;32m--> 839\u001b[0;31m                                self.__class__.__name__, \"\\n\\t\".join(error_msgs)))\n\u001b[0m\u001b[1;32m    840\u001b[0m         \u001b[0;32mreturn\u001b[0m \u001b[0m_IncompatibleKeys\u001b[0m\u001b[0;34m(\u001b[0m\u001b[0mmissing_keys\u001b[0m\u001b[0;34m,\u001b[0m \u001b[0munexpected_keys\u001b[0m\u001b[0;34m)\u001b[0m\u001b[0;34m\u001b[0m\u001b[0;34m\u001b[0m\u001b[0m\n\u001b[1;32m    841\u001b[0m \u001b[0;34m\u001b[0m\u001b[0m\n",
      "\u001b[0;31mRuntimeError\u001b[0m: Error(s) in loading state_dict for explainMNISTmodel:\n\tMissing key(s) in state_dict: \"convs.4.weight\", \"convs.4.bias\". \n\tUnexpected key(s) in state_dict: \"convs.0.weight\", \"convs.0.bias\". \n\tsize mismatch for convs.2.bias: copying a param with shape torch.Size([64]) from checkpoint, the shape in current model is torch.Size([32]).\n\tsize mismatch for fc.0.weight: copying a param with shape torch.Size([128, 9216]) from checkpoint, the shape in current model is torch.Size([128, 10]).\n\tsize mismatch for fc.2.weight: copying a param with shape torch.Size([10, 128]) from checkpoint, the shape in current model is torch.Size([9216, 128]).\n\tsize mismatch for fc.2.bias: copying a param with shape torch.Size([10]) from checkpoint, the shape in current model is torch.Size([9216])."
     ]
    }
   ],
   "source": [
    "ex_model.load_state_dict(torch.load(f\"./trained/mnist/{model_type}-{activation_type}.pt\", map_location=\"cpu\"))"
   ]
  },
  {
   "cell_type": "code",
   "execution_count": null,
   "metadata": {},
   "outputs": [],
   "source": []
  }
 ],
 "metadata": {
  "kernelspec": {
   "display_name": "Python(venv)",
   "language": "python",
   "name": "venv"
  },
  "language_info": {
   "codemirror_mode": {
    "name": "ipython",
    "version": 3
   },
   "file_extension": ".py",
   "mimetype": "text/x-python",
   "name": "python",
   "nbconvert_exporter": "python",
   "pygments_lexer": "ipython3",
   "version": "3.6.8"
  }
 },
 "nbformat": 4,
 "nbformat_minor": 2
}
