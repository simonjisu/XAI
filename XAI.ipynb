{
 "cells": [
  {
   "cell_type": "code",
   "execution_count": 109,
   "metadata": {},
   "outputs": [],
   "source": [
    "from pathlib import Path\n",
    "import numpy as np\n",
    "import matplotlib.pyplot as plt\n",
    "import torch\n",
    "import torch.nn as nn\n",
    "import torch.optim as optim\n",
    "from torchvision import datasets, transforms\n",
    "from collections import OrderedDict\n",
    "from mpl_toolkits.axes_grid1 import make_axes_locatable\n",
    "from copy import deepcopy"
   ]
  },
  {
   "cell_type": "markdown",
   "metadata": {},
   "source": [
    "## LRP Method\n",
    "\n",
    "$\\begin{aligned} r_i^{(L)} &= \\begin{cases}S_i(x) & \\text{if unit }i \\text{ is the target unit of interest}\\\\ 0 & \\text{otherwise}\\end{cases}  \\\\ r_i^{(l)} &= \\sum_j \\dfrac{z_{ji}}{\\sum_{i’}(z_{ji’}+b_j)+ \\epsilon \\cdot sign(\\sum_{i’}(z_{ji’}+b_j))}r_j^{(l+1)}\\\\ &\\text{where } z_{ji} = w_{ji}^{(l+1, l)}x_{i}^{(l)}\\end{aligned} $\n",
    "\n",
    "input feature $(1, \\cdots, i, \\cdots N)$, output feature $(1, \\cdots, j, \\cdots M)$\n",
    "\n",
    "weight $(N, M)$ is transposed to $(M, N)$ in pytorch\n",
    "\n",
    "$\\begin{aligned} X^{(l+1)} &= \\begin{bmatrix}  x_1 & \\cdots  &x_M \\end{bmatrix}^T\\\\\n",
    "X^{(l)} &= \\begin{bmatrix}  x_1 & \\cdots  & x_N \\end{bmatrix}^T\\\\\n",
    "W^{(l+1, l)} &= \\begin{bmatrix} \n",
    "w_{11} & \\cdots & w_{1i} & \\cdots & w_{1N} \\\\ \n",
    "\\vdots & \\ddots & \\ddots & \\ddots & \\vdots \\\\ \n",
    "w_{j1} & \\ddots & w_{ji} & \\ddots & w_{jN} \\\\\n",
    "\\vdots & \\ddots & \\ddots & \\ddots & \\vdots \\\\\n",
    "w_{M1} & \\cdots & w_{Mi} & \\cdots & w_{MN}\n",
    "\\end{bmatrix}\n",
    "\\end{aligned}$\n",
    "\n",
    "to see element-wise calculation ...\n",
    "\n",
    "$\\begin{aligned} \n",
    "R^{(l)} &= \\begin{bmatrix} r_1 \\\\ \\vdots \\\\ r_i \\\\ \\vdots \\\\ r_N\\end{bmatrix}^{(l)} = \\begin{bmatrix} \\sum_j^M a_{1j}r_{1j} \\\\ \\vdots \\\\ \\sum_j^M a_{ij}r_{ij} \\\\ \\vdots \\\\ \\sum_j^M a_{Nj}r_{Nj} \\end{bmatrix}^{(l)} = \\begin{bmatrix} a_{11}r_{11} + \\cdots + a_{1M}r_{1M} \\\\ \\vdots \\\\ a_{i1}r_{i1} + \\cdots + a_{iM}r_{iM} \\\\ \\vdots \\\\ a_{N1}r_{N1} + \\cdots + a_{NM}r_{NM} \\end{bmatrix}^{(l)} \n",
    "\\\\\n",
    "Z^{(l, l+1)} &= \\begin{bmatrix} \n",
    "z_{11} & \\cdots & z_{1j} & \\cdots & z_{1M} \\\\ \n",
    "\\vdots & \\ddots & \\ddots & \\ddots & \\vdots \\\\ \n",
    "z_{i1} & \\ddots & z_{ij} & \\ddots & z_{ij} \\\\\n",
    "\\vdots & \\ddots & \\ddots & \\ddots & \\vdots \\\\\n",
    "z_{N1} & \\cdots & z_{Nj} & \\cdots & z_{NM}\n",
    "\\end{bmatrix} = \\begin{bmatrix} \n",
    "w_{11}x_1^{(l+1)} & \\cdots & w_{1j}x_j^{(l+1)} & \\cdots & w_{1M}x_M^{(l+1)} \\\\ \n",
    "\\vdots & \\ddots & \\ddots & \\ddots & \\vdots \\\\ \n",
    "w_{i1}x_1^{(l+1)} & \\ddots & w_{ij}x_j^{(l+1)} & \\ddots & w_{ij}x_M^{(l+1)} \\\\\n",
    "\\vdots & \\ddots & \\ddots & \\ddots & \\vdots \\\\\n",
    "w_{N1}x_1^{(l+1)} & \\cdots & w_{Nj}x_j^{(l+1)} & \\cdots & w_{NM}x_M^{(l+1)}\n",
    "\\end{bmatrix}\n",
    "\\end{aligned}$\n",
    "\n",
    "### 1st way\n",
    "\n",
    "to get $r_i^{(l+1)}$ where $z_{ji}^{(l+1)} = w_{ji}^{(l+1, 1)} x_i^{(l)}$ there are 4 step in Linear Layer\n",
    "\n",
    "$\\begin{aligned} \n",
    "(1) & Z^{(l, l+1)} = W^{(l, l+1)} \\times X^{(l+1)}\\\\\n",
    "(2) & S^{(l+1)} = X^{(l+1)} + \\epsilon \\cdot sign(X^{(l+1)}) \\\\\n",
    "(3) & A^{(l, l+1)} = \\dfrac{Z^{(l, l+1)}}{S^{(l+1)}} \\\\\n",
    "(4) & R^{(l)} = A^{(l, l+1)}R^{(l+1)}  \\\\\n",
    "\\end{aligned}$"
   ]
  },
  {
   "cell_type": "markdown",
   "metadata": {},
   "source": [
    "### 2nd way\n",
    "\n",
    "same calculation but different order, introducing at http://heatmapping.org/tutorial/\n",
    "\n",
    "$\\begin{aligned} \n",
    "(1) & S^{(l+1)} = X^{(l+1)} + \\epsilon \\cdot sign(X^{(l+1)}) \\\\\n",
    "(2) & E^{(l+1)} = \\dfrac{R^{(l+1)}}{S^{(l+1)}} \\\\\n",
    "(3) & C^{(l)} = W^{(l, l+1)} E^{(l+1)} \\\\\n",
    "(4) & R^{(l)} = X^{(l)} \\times C^{(l)}  \\\\\n",
    "\\end{aligned}$"
   ]
  },
  {
   "cell_type": "code",
   "execution_count": 2,
   "metadata": {},
   "outputs": [],
   "source": [
    "class relLinear(nn.Linear):\n",
    "    def __init__(self, linear):\n",
    "        super(nn.Linear, self).__init__()\n",
    "        self.in_features = linear.in_features\n",
    "        self.out_features = linear.out_features\n",
    "        self.weight = linear.weight  # (out_f, in_f)\n",
    "        self.bias = linear.bias  # out_f\n",
    "        self.input = None\n",
    "        self.output = None\n",
    "        self.register()\n",
    "        \n",
    "    def register(self):\n",
    "        self.register_forward_hook(self.hook_function)\n",
    "    \n",
    "    def hook_function(self, *x):\n",
    "        _, i, o = x\n",
    "        self.input = i[0].data\n",
    "        self.output = o.data\n",
    "        \n",
    "    def rho(self, w, use_rho):\n",
    "        if use_rho:\n",
    "            return torch.clamp(w, min=0)\n",
    "        else:\n",
    "            return w\n",
    "        \n",
    "    def relprop(self, r, use_rho=False):\n",
    "        \"\"\"\n",
    "        lrp method\n",
    "            > * must run after `self.forward`\n",
    "            > \n",
    "            > forward shape\n",
    "            > input: (B, *, in_f)\n",
    "            > output: (B, *, out_f)\n",
    "\n",
    "        - relprop shape\n",
    "        r = (l+1)-th layer: (B, *, out_f)\n",
    "        r_next = l-th layer: (B, *, in_f)\n",
    "        \n",
    "        if rho==True:\n",
    "        function rho(w) is applied\n",
    "        \"\"\"\n",
    "        eps = 1e-6\n",
    "        w = self.rho(self.weight, use_rho)\n",
    "        ### implementation method 1\n",
    "        ## (B, in_f, 1) * (1, in_f, out_f) = (B, in_f, out_f)\n",
    "        #z = self.input.unsqueeze(-1) * self.rho(self.weight).transpose(0, 1).unsqueeze(0)\n",
    "        ## (B, 1, out_f)\n",
    "        #s = self.output.unsqueeze(1) + eps * torch.sign(self.output.unsqueeze(1))  \n",
    "        #weight = z / s\n",
    "        ## (B, in_f, out_f) x (B, out_f, 1) = (B, in_f)\n",
    "        #r_next = torch.bmm(weight, r.unsqueeze(-1)).squeeze()\n",
    "        \n",
    "        ### implemetation method 2\n",
    "        # Step 1: (B, out_f) \n",
    "        s = self.output + eps * torch.sign(self.output)  \n",
    "        # Step 2: (B, out_f) / (B, out_f) = (B, out_f)\n",
    "        e = r / s\n",
    "        # Step 3: (B, in_f, out_f) * (B, out_f, 1) = (B, in_f)\n",
    "        c = torch.bmm(w.transpose(0, 1).expand(e.size(0), self.in_features, self.out_features), \n",
    "                      e.unsqueeze(-1)).squeeze(-1)\n",
    "        # Step 4: (B, in_f) x (B, in_f) = (B, in_f)\n",
    "        r_next = self.input * c\n",
    "        \n",
    "        assert r_next.size(1) == self.in_features, \"size of `r_next` is not correct\"\n",
    "        return r_next"
   ]
  },
  {
   "cell_type": "code",
   "execution_count": 3,
   "metadata": {},
   "outputs": [],
   "source": [
    "a = nn.Linear(3, 2)\n",
    "b = relLinear(a)\n",
    "o = b(torch.rand(5, 3))"
   ]
  },
  {
   "cell_type": "code",
   "execution_count": 4,
   "metadata": {},
   "outputs": [
    {
     "data": {
      "text/plain": [
       "tensor([[0., 1.],\n",
       "        [1., 0.],\n",
       "        [1., 0.],\n",
       "        [0., 1.],\n",
       "        [1., 0.]])"
      ]
     },
     "execution_count": 4,
     "metadata": {},
     "output_type": "execute_result"
    }
   ],
   "source": [
    "target_vector = torch.zeros(5, 2).scatter(1, torch.LongTensor([[1], [0], [0], [1], [0]]), 1)\n",
    "target_vector  # l+1"
   ]
  },
  {
   "cell_type": "code",
   "execution_count": 5,
   "metadata": {},
   "outputs": [
    {
     "data": {
      "text/plain": [
       "tensor([[ 8.2037e+00, -2.5058e+01,  5.0031e+00],\n",
       "        [-1.0748e-01, -6.5016e-01, -1.5516e+00],\n",
       "        [-4.7735e-03, -1.1511e-01, -6.3940e-01],\n",
       "        [ 1.3798e-01, -1.8393e-01,  9.8508e-02],\n",
       "        [-5.0873e-02, -2.8419e-01, -1.1969e+00]], grad_fn=<MulBackward0>)"
      ]
     },
     "execution_count": 5,
     "metadata": {},
     "output_type": "execute_result"
    }
   ],
   "source": [
    "b.relprop(target_vector)"
   ]
  },
  {
   "cell_type": "markdown",
   "metadata": {},
   "source": [
    "In convolutional layer to get $r_i^{(l+1)}$ there are 4 step in Conv Layer, but change step 3 computing gradient of conv. which can be replaced as Transposed convolutional layer(=fractionally strided convolutional layer)\n",
    "\n",
    "$\\begin{aligned} \n",
    "(1) & S^{(l+1)} = X^{(l+1)} + \\epsilon \\cdot sign(X^{(l+1)}) \\\\\n",
    "(2) & E^{(l+1)} = \\dfrac{R^{(l+1)}}{S^{(l+1)}} \\\\\n",
    "(3) & C^{(l)} = \\triangledown (\\sum S^{(l+1)} \\times E^{(l+1)}) \\\\\n",
    "(4) & R^{(l)} = X^{(l)} \\times C^{(l)}  \\\\\n",
    "\\end{aligned}$"
   ]
  },
  {
   "cell_type": "code",
   "execution_count": 70,
   "metadata": {},
   "outputs": [],
   "source": [
    "class relReLU(nn.ReLU):\n",
    "    \n",
    "    def relprop(self, r): \n",
    "        return r"
   ]
  },
  {
   "cell_type": "code",
   "execution_count": 30,
   "metadata": {},
   "outputs": [],
   "source": [
    "class relConv2d(nn.Conv2d):\n",
    "    def __init__(self, conv2d):\n",
    "        super(nn.Conv2d, self).__init__(conv2d.in_channels, \n",
    "                                        conv2d.out_channels, \n",
    "                                        conv2d.kernel_size, \n",
    "                                        conv2d.stride, \n",
    "                                        conv2d.padding,\n",
    "                                        conv2d.dilation,\n",
    "                                        conv2d.transposed,\n",
    "                                        conv2d.output_padding,\n",
    "                                        conv2d.groups, \n",
    "                                        None,  # init of bias\n",
    "                                        conv2d.padding_mode)\n",
    "        self.weight = conv2d.weight\n",
    "        self.bias = conv2d.bias\n",
    "        \n",
    "        self.input = None\n",
    "        self.output = None\n",
    "        self.register()\n",
    "        \n",
    "    def register(self):\n",
    "        self.register_forward_hook(self.hook_function)\n",
    "    \n",
    "    def hook_function(self, *x):\n",
    "        _, i, o = x\n",
    "        self.input = i[0].data\n",
    "        self.output = o.data\n",
    "    \n",
    "    def rho(self, w, use_rho):\n",
    "        if use_rho:\n",
    "            return torch.clamp(w, min=0)\n",
    "        else:\n",
    "            return w\n",
    "    \n",
    "    def cal_output_padding(self):\n",
    "        \"\"\"\n",
    "        calculate output_padding size\n",
    "        - size of height or width: (X_in + 2P - K) / S + 1 = X_out\n",
    "        - output_padding = X_in - ((X_out - 1) * S + K - 2P)\n",
    "\n",
    "        * what is output_padding?\n",
    "        from PyTorch Document:\n",
    "        https://pytorch.org/docs/stable/nn.html#convtranspose2d\n",
    "\n",
    "        The padding argument effectively adds `dilation * (kernel_size - 1) - padding` amount of zero padding to \n",
    "        both sizes of the input. This is set so that when a `Conv2d` and a `ConvTranspose2d` are initialized with \n",
    "        same parameters, they are inverses of each other in regard to the input and output shapes. \n",
    "        However, when `stride > 1`, `Conv2d` maps multiple input shapes to the same output shape. \n",
    "        `output_padding` is provided to resolve this ambiguity by effectively increasing \n",
    "        the calculated output shape on one side. Note that output_padding is only used to find output shape, \n",
    "        but does not actually add zero-padding to output.\n",
    "        \"\"\"\n",
    "        H_in, W_in = self.input.size()[2:]\n",
    "        H_out, W_out = self.output.size()[2:]\n",
    "        S_in, S_out = self.stride\n",
    "        K_in, K_out = self.kernel_size\n",
    "        P_in, P_out = self.padding\n",
    "        H_output_padding = H_in - ((H_out - 1)*S_in + K_in - 2*P_in)\n",
    "        W_output_padding = W_in - ((W_out - 1)*S_out + K_out - 2*P_out)\n",
    "        return (H_output_padding, W_output_padding)\n",
    "    \n",
    "    def gradprop(self, x):\n",
    "        \"\"\"\n",
    "        `ConvTransposed2d` can be seen as the gradient of `Conv2d` with respect to its input.\n",
    "        \"\"\"\n",
    "        output_padding = self.cal_output_padding()\n",
    "        c = torch.nn.functional.conv_transpose2d(x, weight=self.weight, stride=self.stride, \n",
    "                                                 padding=self.padding, output_padding=output_padding)\n",
    "        return c\n",
    "    \n",
    "    def relprop(self, r, use_rho=False):\n",
    "        \"\"\"\n",
    "        lrp method\n",
    "            > * must run after `self.forward`\n",
    "            > \n",
    "            > forward shape\n",
    "            > input: (B, C_in, H, W)\n",
    "            > output: (B, C_out, H_out, W_out)\n",
    "\n",
    "        - relprop shape\n",
    "        r = (l+1)-th layer: (B, C_out, H_out, W_out)\n",
    "        r_next = l-th layer: (B, C_in, H, W)\n",
    "        \n",
    "        if rho==True:\n",
    "        function rho(w) is applied\n",
    "        \"\"\"\n",
    "        eps = 1e-6\n",
    "        w = self.rho(self.weight, use_rho)\n",
    "        # Step 1: (B, C_out, H_out, W_out) \n",
    "        s = self.output + eps * torch.sign(self.output)  \n",
    "        # Step 2: (B, C_out, H_out, W_out) / (B, C_out, H_out, W_out) = (B, C_out, H_out, W_out)\n",
    "        e = r / s\n",
    "        # Step 3: (B, C_out, H_out, W_out) --> (B, C_in, H, W)\n",
    "        # same as `self.gradprop(s*e)` or `(s*e).backward(); c=self.input.grad`\n",
    "        c = self.gradprop(e)\n",
    "        # Step 4: (B, C_in, H, W) x (B, C_in, H, W) = (B, C_in, H, W)\n",
    "        r_next = self.input * c\n",
    "        return r_next"
   ]
  },
  {
   "cell_type": "code",
   "execution_count": 31,
   "metadata": {},
   "outputs": [],
   "source": [
    "a = nn.Conv2d(1, 32, 3)\n",
    "b = relConv2d(a)"
   ]
  },
  {
   "cell_type": "code",
   "execution_count": 32,
   "metadata": {},
   "outputs": [],
   "source": [
    "output = b(torch.randn(2, 1, 28, 28))\n",
    "r = torch.relu(output)"
   ]
  },
  {
   "cell_type": "code",
   "execution_count": 34,
   "metadata": {},
   "outputs": [
    {
     "data": {
      "text/plain": [
       "torch.Size([2, 1, 28, 28])"
      ]
     },
     "execution_count": 34,
     "metadata": {},
     "output_type": "execute_result"
    }
   ],
   "source": [
    "r_next = b.relprop(r)\n",
    "r_next.size()"
   ]
  },
  {
   "cell_type": "markdown",
   "metadata": {},
   "source": [
    "Maxpooling layer"
   ]
  },
  {
   "cell_type": "code",
   "execution_count": 92,
   "metadata": {},
   "outputs": [],
   "source": [
    "class relMaxPool2d(nn.MaxPool2d):\n",
    "    def __init__(self, maxpool2d):\n",
    "        super(nn.MaxPool2d, self).__init__(maxpool2d.kernel_size,\n",
    "                                           maxpool2d.stride,\n",
    "                                           maxpool2d.padding,\n",
    "                                           maxpool2d.dilation,\n",
    "                                           maxpool2d.return_indices,\n",
    "                                           maxpool2d.ceil_mode)    \n",
    "        self.input = None\n",
    "        self.output = None\n",
    "        self.register()\n",
    "\n",
    "    def register(self):\n",
    "        self.register_forward_hook(self.hook_function)\n",
    "    \n",
    "    def hook_function(self, *x):\n",
    "        _, i, o = x\n",
    "        self.input = i[0].data\n",
    "        self.output = o.data\n",
    "        \n",
    "    def gradprop(self, x):\n",
    "        _, switches = torch.nn.functional.max_pool2d(self.input, self.kernel_size, self.stride, self.padding, \n",
    "                                                     self.dilation, self.ceil_mode, return_indices=True)\n",
    "        c = torch.nn.functional.max_unpool2d(x, switches, self.kernel_size, self.stride, self.padding)\n",
    "        return c\n",
    "    \n",
    "    def relprop(self, r):\n",
    "        \"\"\"\n",
    "        lrp method\n",
    "            > * must run after `self.forward`\n",
    "            > \n",
    "            > forward shape\n",
    "            > input: (B, C, H, W)\n",
    "            > output: (B, C, H_out, W_out)\n",
    "\n",
    "        - relprop shape\n",
    "        r = (l+1)-th layer: (B, C, H_out, W_out)\n",
    "        r_next = l-th layer: (B, C, H, W)\n",
    "        \"\"\"\n",
    "        eps = 1e-6\n",
    "        # Step 1: (B, C, H_out, W_out) \n",
    "        s = self.output + eps * torch.sign(self.output)  \n",
    "        # Step 2: (B, C, H_out, W_out) / (B, C, H_out, W_out) = (B, C, H_out, W_out)\n",
    "        e = r / s\n",
    "        # Step 3: (B, C, H_out, W_out) --> (B, C, H, W)\n",
    "        # same as `self.gradprop(s*e)` or `(s*e).backward(); c=self.input.grad`\n",
    "        c = self.gradprop(e)\n",
    "        # Step 4: (B, C, H, W) x (B, C, H, W) = (B, C_in, H, W)\n",
    "        r_next = self.input * c\n",
    "        return r_next"
   ]
  },
  {
   "cell_type": "code",
   "execution_count": 104,
   "metadata": {},
   "outputs": [],
   "source": [
    "a = nn.MaxPool2d(2)\n",
    "b = relMaxPool2d(a)\n",
    "x = torch.randn(2, 32, 26, 26)\n",
    "output = b(x)"
   ]
  },
  {
   "cell_type": "code",
   "execution_count": 105,
   "metadata": {
    "scrolled": true
   },
   "outputs": [
    {
     "data": {
      "text/plain": [
       "torch.Size([2, 32, 26, 26])"
      ]
     },
     "execution_count": 105,
     "metadata": {},
     "output_type": "execute_result"
    }
   ],
   "source": [
    "r_next = b.relprop(output)\n",
    "r_next.size()"
   ]
  },
  {
   "cell_type": "code",
   "execution_count": 117,
   "metadata": {},
   "outputs": [],
   "source": [
    "class Reshape(nn.Module):\n",
    "    def __init__(self):\n",
    "        \"\"\"\n",
    "        reshape layer\n",
    "        - forward: flatten at convs > linear\n",
    "        - backward: unflatten at linear > convs     \n",
    "        \"\"\"\n",
    "        super(Reshape, self).__init__()\n",
    "    \n",
    "    def __name__(self):\n",
    "        return \"Reshape\"\n",
    "    \n",
    "    def forward(self, x):\n",
    "        \"\"\"\n",
    "        reshape input to output\n",
    "        input: (B, C, H, W)\n",
    "        output: (B, C*H*W)\n",
    "        \"\"\"\n",
    "        self.B, self.C, self.H, self.W = x.size()\n",
    "        return x.view(self.B, -1)\n",
    "    \n",
    "    def relprop(self, x):\n",
    "        \"\"\"\n",
    "        lrp method\n",
    "            > * must run after `self.forward`\n",
    "            > \n",
    "            > forward shape\n",
    "            > input: (B, C, H, W)\n",
    "            > output: (B, C*H*W)\n",
    "\n",
    "        - relprop shape\n",
    "        r = (l+1)-th layer: (B, C*H*W)\n",
    "        r_next = l-th layer: (B, C, H, W)\n",
    "        \"\"\"\n",
    "        return x.view(-1, self.C, self.H, self.W)"
   ]
  },
  {
   "cell_type": "code",
   "execution_count": 120,
   "metadata": {},
   "outputs": [],
   "source": [
    "rs = Reshape()\n",
    "x = torch.rand(2, 1, 12, 12)\n",
    "output = rs(x)"
   ]
  },
  {
   "cell_type": "code",
   "execution_count": null,
   "metadata": {},
   "outputs": [],
   "source": [
    "class lrpMNIST(nn.Module):\n",
    "    def __init__(self, model):\n",
    "        super(lrpMNIST, self).__init__()\n",
    "        \n",
    "        # lrp\n",
    "        self.activation_func = model.activation_func\n",
    "        self.model_type = model.model_type\n",
    "        self.activation_type = model.activation_type\n",
    "        self.convs_len = model.convs_len\n",
    "        self.fc_len = model.fc_len\n",
    "        self.convs = model.convs\n",
    "        self.fc = model.fc\n",
    "            "
   ]
  },
  {
   "cell_type": "code",
   "execution_count": 112,
   "metadata": {},
   "outputs": [],
   "source": [
    "model_type = \"cnn\"\n",
    "activation_type = \"relu\"\n",
    "m = deepcopy(MNISTmodel(model_type, activation_type))"
   ]
  },
  {
   "cell_type": "code",
   "execution_count": 113,
   "metadata": {},
   "outputs": [
    {
     "data": {
      "text/plain": [
       "Sequential(\n",
       "  (0): Conv2d(1, 32, kernel_size=(3, 3), stride=(1, 1))\n",
       "  (1): ReLU()\n",
       "  (2): Conv2d(32, 64, kernel_size=(3, 3), stride=(1, 1))\n",
       "  (3): ReLU()\n",
       "  (4): MaxPool2d(kernel_size=2, stride=2, padding=0, dilation=1, ceil_mode=False)\n",
       ")"
      ]
     },
     "execution_count": 113,
     "metadata": {},
     "output_type": "execute_result"
    }
   ],
   "source": [
    "m.convs"
   ]
  },
  {
   "cell_type": "markdown",
   "metadata": {},
   "source": [
    "---"
   ]
  },
  {
   "cell_type": "code",
   "execution_count": 131,
   "metadata": {},
   "outputs": [],
   "source": [
    "class MNISTmodel(nn.Module):\n",
    "    \"\"\"\n",
    "    paper implementation 'https://arxiv.org/abs/1711.06104'\n",
    "    \n",
    "    model_type: \n",
    "        - DNN: \n",
    "            Reshape: 28,28 > 28*28\n",
    "            Linear: 28*28, 512 \n",
    "            Linear: 512, 512\n",
    "            Linear: 512, 10\n",
    "        - CNN: \n",
    "            Conv2d: (1, 32, 3)\n",
    "            Conv2d: (32, 64, 3)\n",
    "            MaxPool2d: (2)\n",
    "            Reshape: 12,12 > 12*12\n",
    "            Linear: (64*12*12, 128)\n",
    "            Linear: (128, 10)\n",
    "\n",
    "            ** Conv2d = (in_kernels, out_kernels, kernel_size)\n",
    "            ** MAxPool2d = (kernel_size)\n",
    "\n",
    "    activation_type:\n",
    "        - ReLU, Tanh, Sigmoid, Softplus\n",
    "    \"\"\"\n",
    "    def __init__(self, model_type, activation_type):\n",
    "        \"\"\"\n",
    "        model_type: \"dnn\", \"cnn\"\n",
    "        activation_type: \"relu\", \"tanh\", \"sigmoid\", \"softplus\"\n",
    "        \"\"\"\n",
    "        super(MNISTmodel, self).__init__()\n",
    "        self.model_type = model_type\n",
    "        self.activation_type = activation_type\n",
    "        self.act = {\"relu\": nn.ReLU, \n",
    "                    \"tanh\": nn.Tanh, \n",
    "                    \"sigmoid\": nn.Sigmoid, \n",
    "                    \"softplus\": nn.Softplus}\n",
    "        \n",
    "        self.layers = self.make_layers(model_type, activation_type)\n",
    "        \n",
    "        if model_type == \"cnn\":\n",
    "            self.switches = OrderedDict()\n",
    "            self.maxpool2d_locs = []\n",
    "            \n",
    "        self.activation_maps = OrderedDict()\n",
    "        self.activation_locs = []\n",
    "        \n",
    "    def make_layers(self, model_type, activation_type):\n",
    "        self.activation_func = self.act[activation_type.lower()]\n",
    "        if model_type.lower() == \"dnn\":\n",
    "            layers = nn.Sequential(\n",
    "                Reshape(),\n",
    "                nn.Linear(28*28, 512),\n",
    "                self.activation_func(), \n",
    "                nn.Linear(512, 512),\n",
    "                self.activation_func(), \n",
    "                nn.Linear(512, 10),\n",
    "            )\n",
    "        elif model_type.lower() == \"cnn\":\n",
    "            layers = nn.Sequential(\n",
    "                nn.Conv2d(1, 32, 3),\n",
    "                self.activation_func(),\n",
    "                nn.Conv2d(32, 64, 3),\n",
    "                self.activation_func(), \n",
    "                nn.MaxPool2d(2, return_indices=True),\n",
    "                Reshape(),\n",
    "                nn.Linear(64*12*12, 128),\n",
    "                self.activation_func(),\n",
    "                nn.Linear(128, 10)\n",
    "            )\n",
    "        else:\n",
    "            assert False, \"please insert `model_type` = `dnn` or `cnn`\"\n",
    "        return layers\n",
    "    \n",
    "    def save_activation_maps(self, layer, idx, x, typ):\n",
    "        if isinstance(layer, self.activation_func):\n",
    "            layer_name = f\"{typ}{idx}\"\n",
    "            self.activation_locs.append(layer_name)  # only for record\n",
    "            self.activation_maps[layer_name] = x\n",
    "    \n",
    "    def forward(self, x, store=False):\n",
    "        \"\"\"\n",
    "        store: if True, save activation maps\n",
    "        \"\"\"\n",
    "        for idx, layer in enumerate(self.layers):\n",
    "            if isinstance(layer, nn.MaxPool2d):\n",
    "                x, indices = layer(x)\n",
    "                self.switches[idx] = indices  # for deconvnet\n",
    "                self.maxpool2d_locs.append(idx)  # only for record\n",
    "            else:\n",
    "                x = layer(x)\n",
    "                if store:\n",
    "                    self.save_activation_maps(layer, idx, x, typ=layer.__name__)\n",
    "        return x"
   ]
  },
  {
   "cell_type": "code",
   "execution_count": 67,
   "metadata": {},
   "outputs": [],
   "source": [
    "class deconvMNIST(nn.Module):\n",
    "    def __init__(self, model):\n",
    "        super(deconvMNIST, self).__init__()\n",
    "                \n",
    "        # deconv\n",
    "        self.activation_func = model.activation_func\n",
    "        self.model_type = model.model_type\n",
    "        self.activation_type = model.activation_type\n",
    "\n",
    "        if self.model_type == \"cnn\":\n",
    "            self.switches = model.switches\n",
    "        self.convs, self.fc = self.deconv_make_layers()\n",
    "        \n",
    "    def deconv_make_layers(self):\n",
    "        if self.model_type.lower() == \"dnn\":\n",
    "            convs = None\n",
    "            fc = nn.Sequential(\n",
    "                nn.Linear(10, 512),\n",
    "                self.activation_func(), \n",
    "                nn.Linear(512, 512),\n",
    "                self.activation_func(), \n",
    "                nn.Linear(512, 28*28),\n",
    "            )\n",
    "        elif self.model_type.lower() == \"cnn\":\n",
    "            fc = nn.Sequential(\n",
    "                nn.Linear(10, 128),\n",
    "                self.activation_func(),\n",
    "                nn.Linear(128, 64*12*12)    \n",
    "            )\n",
    "            convs = nn.Sequential(\n",
    "                nn.MaxUnpool2d(2),\n",
    "                self.activation_func(), \n",
    "                nn.ConvTranspose2d(64, 32, 3),\n",
    "                self.activation_func(),\n",
    "                nn.ConvTranspose2d(32, 1, 3),\n",
    "            )\n",
    "        else:\n",
    "            assert False, \"[init error] `model` doesn't have `model_type` or `activation_func` attrs\"\n",
    "        return convs, fc\n",
    "    \n",
    "    def forward(self, t):\n",
    "        x = self.fc(t)\n",
    "        if self.convs is not None:\n",
    "            x = x.view(x.size(0), 64, 12, 12)\n",
    "            for idx, layer in enumerate(self.convs):\n",
    "                if isinstance(layer, nn.MaxUnpool2d):\n",
    "                    x = layer(x, self.switches[self.convs_len - 1 - idx])\n",
    "                else:\n",
    "                    x = layer(x)\n",
    "        return x"
   ]
  },
  {
   "cell_type": "code",
   "execution_count": 68,
   "metadata": {},
   "outputs": [],
   "source": [
    "class saliencyMNIST(nn.Module):\n",
    "    def __init__(self, model):\n",
    "        super(saliencyMNIST, self).__init__()\n",
    "        \"\"\"\n",
    "        model_type: \"dnn\", \"cnn\"\n",
    "        activation_type: \"relu\", \"tanh\", \"sigmoid\", \"softplus\"\n",
    "        \"\"\"\n",
    "        super(saliencyMNIST, self).__init__()\n",
    "\n",
    "        self.activation_func = model.activation_func\n",
    "        self.model_type = model.model_type\n",
    "        self.activation_type = model.activation_type\n",
    "        self.convs_len = model.convs_len\n",
    "        self.fc_len = model.fc_len\n",
    "        # TODO: rewrite code\n",
    "        self.model = deepcopy(model)\n",
    "        self.model.eval()\n",
    "        \n",
    "    def generate_saliency(self, x, target):\n",
    "        \"\"\"vanilla gradient*input\"\"\"\n",
    "        x.requires_grad_(requires_grad=True)\n",
    "        self.model.zero_grad()\n",
    "        output = self.model(x)\n",
    "        grad_outputs = torch.zeros_like(output)\n",
    "        grad_outputs[:, target] = 1\n",
    "\n",
    "        output.backward(gradient=grad_outputs)\n",
    "        x.requires_grad_(requires_grad=False)\n",
    "        \n",
    "        return x.grad.clone() * x"
   ]
  },
  {
   "cell_type": "code",
   "execution_count": 36,
   "metadata": {},
   "outputs": [],
   "source": [
    "def build_dataset(root, batch_size, download=False):\n",
    "    train_dataset = datasets.MNIST(\n",
    "        root=root,                                \n",
    "        train=True,\n",
    "        transform=transforms.Compose([\n",
    "           transforms.ToTensor(),\n",
    "           transforms.Normalize((0.5,), (0.5,))  # normalize to (-1, 1)\n",
    "        ]),\n",
    "        download=download)\n",
    "    test_dataset = datasets.MNIST(\n",
    "        root=root, \n",
    "        train=False,\n",
    "        transform=transforms.Compose([\n",
    "           transforms.ToTensor(),\n",
    "           transforms.Normalize((0.5,), (0.5,))\n",
    "        ]),\n",
    "        download=download)\n",
    "    train_loader = torch.utils.data.DataLoader(\n",
    "        train_dataset,\n",
    "        batch_size=batch_size, \n",
    "        shuffle=True)\n",
    "    test_loader = torch.utils.data.DataLoader(\n",
    "        test_dataset,\n",
    "        batch_size=batch_size, \n",
    "        shuffle=True)\n",
    "    return train_dataset, test_dataset, train_loader, test_loader"
   ]
  },
  {
   "cell_type": "code",
   "execution_count": null,
   "metadata": {},
   "outputs": [],
   "source": [
    "activation_types = [\"relu\", \"tanh\", \"sigmoid\", \"softplus\"]\n",
    "model_types = [\"dnn\", \"cnn\"]\n",
    "args = dict(\n",
    "    root = Path().home()/\"code\"/\"data\",\n",
    "    project_path = Path().home()/\"code\"/\"XAI\",\n",
    "    logterm = False, \n",
    "    sv_folder = \"mnist\", \n",
    "    n_step = 20,\n",
    "    batch_size = 128,\n",
    "    download = False,\n",
    "    device = \"cuda\" if torch.cuda.is_available() else \"cpu\",\n",
    "    seed = 73\n",
    ")\n",
    "train_dataset, test_dataset, train_loader, test_loader = build_dataset(str(args[\"root\"]), 1)"
   ]
  },
  {
   "cell_type": "code",
   "execution_count": 71,
   "metadata": {},
   "outputs": [],
   "source": [
    "from collections import defaultdict\n",
    "torch.manual_seed(74)\n",
    "\n",
    "test_dataset.\n",
    "for i in range(10):\n",
    "    for imgs, labels in test_loader:\n",
    "        \n",
    "        break\n",
    "    \n",
    "num = 1\n",
    "sample = imgs[:num]\n",
    "sample_label = labels[:num]"
   ]
  },
  {
   "cell_type": "code",
   "execution_count": 93,
   "metadata": {},
   "outputs": [],
   "source": [
    "model_type = \"cnn\"\n",
    "activation_type = \"relu\"\n",
    "model = MNISTmodel(model_type, activation_type)\n",
    "model.load_state_dict(torch.load(f\"./trained/mnist/{model_type}-{activation_type}.pt\", map_location=\"cpu\"))\n",
    "\n",
    "output = model(sample, store=True)\n",
    "pred = output.argmax(1)\n",
    "target_vector = torch.zeros_like(output).scatter(1, sample_label.unsqueeze(0), 1).detach()"
   ]
  },
  {
   "cell_type": "code",
   "execution_count": 86,
   "metadata": {},
   "outputs": [
    {
     "data": {
      "text/plain": [
       "<matplotlib.image.AxesImage at 0x7ff545890128>"
      ]
     },
     "execution_count": 86,
     "metadata": {},
     "output_type": "execute_result"
    },
    {
     "data": {
      "image/png": "[encoded data removed]",
      "text/plain": [
       "<Figure size 432x288 with 1 Axes>"
      ]
     },
     "metadata": {
      "needs_background": "light"
     },
     "output_type": "display_data"
    }
   ],
   "source": [
    "saliency = saliencyMNIST(model)\n",
    "vanilla_saliency = saliency.generate_saliency(sample, pred)\n",
    "plt.imshow(vanilla_saliency.squeeze()*0.5+0.5)\n",
    "plt.show()"
   ]
  },
  {
   "cell_type": "code",
   "execution_count": null,
   "metadata": {},
   "outputs": [],
   "source": [
    "# deconv = deconvMNIST(model)\n"
   ]
  },
  {
   "cell_type": "code",
   "execution_count": null,
   "metadata": {},
   "outputs": [],
   "source": []
  },
  {
   "cell_type": "code",
   "execution_count": null,
   "metadata": {},
   "outputs": [],
   "source": []
  },
  {
   "cell_type": "code",
   "execution_count": null,
   "metadata": {},
   "outputs": [],
   "source": []
  },
  {
   "cell_type": "code",
   "execution_count": null,
   "metadata": {},
   "outputs": [],
   "source": []
  },
  {
   "cell_type": "code",
   "execution_count": 50,
   "metadata": {},
   "outputs": [
    {
     "data": {
      "text/plain": [
       "torch.Size([1, 64, 12, 12])"
      ]
     },
     "execution_count": 50,
     "metadata": {},
     "output_type": "execute_result"
    }
   ],
   "source": [
    "model.switches[4].size()"
   ]
  },
  {
   "cell_type": "code",
   "execution_count": 6,
   "metadata": {},
   "outputs": [],
   "source": [
    "def create_model(model_type, activation_type, load=True):\n",
    "    model = MNISTmodel(model_type, activation_type)\n",
    "    ex_model = explainMNISTmodel(model_type, activation_type)\n",
    "    if load:\n",
    "        model.load_state_dict(torch.load(f\"./trained/mnist/{model_type}-{activation_type}.pt\", map_location=\"cpu\"))\n",
    "    return model, ex_model\n",
    "\n",
    "def run_backward(x, oc_x, target, model):\n",
    "    loss_function = nn.CrossEntropyLoss()\n",
    "    ret = []\n",
    "    for img in [x, oc_x]:\n",
    "        img = img.requires_grad_()\n",
    "        model.zero_grad()\n",
    "        output = model(img, store=True)\n",
    "        pred = output.argmax(1) \n",
    "        loss = loss_function(output, target)\n",
    "        loss.backward()\n",
    "        ret.append((img.grad, pred))\n",
    "    return ret\n",
    "\n",
    "def unnormalize(x, mean=0.5, std=0.5):\n",
    "    return (x*0.5) + 0.5\n",
    "\n",
    "def draw_activaion_map(model):\n",
    "    fig, axes = plt.subplots(1, 2, figsize=(6, 24))\n",
    "\n",
    "    for ax, layer_name in zip(axes, model.activation_locs):\n",
    "        if \"conv\" in layer_name:\n",
    "            act_map = model.activation_maps[layer_name].max(1)[0].detach().squeeze()\n",
    "            divider = make_axes_locatable(ax)\n",
    "            cax = divider.append_axes('right', size='5%', pad=0.05)\n",
    "            im = ax.imshow(act_map, cmap=\"gray\")\n",
    "            fig.colorbar(im, cax=cax, orientation='vertical')\n",
    "            ax.set_title(f\"{layer_name} \\n{list(act_map.size())}\")\n",
    "    \n",
    "    plt.tight_layout()\n",
    "    plt.show()\n",
    "    \n",
    "def draw_gradient_map(grad, oc_grad, inp, oc_inp):\n",
    "    fig, axes = plt.subplots(2, 2, figsize=(6, 6))\n",
    "    titles = [\"original\\ngradient\", \"occluded\\ngradient\", \"gradient*input\", \"occluded\\ngradient*input\"]\n",
    "    gradients = [grad, oc_grad, inp.detach()*grad, oc_inp.detach()*grad]\n",
    "    \n",
    "    for ax, g, t in zip(axes.flatten(), gradients, titles):\n",
    "        divider = make_axes_locatable(ax)\n",
    "        cax = divider.append_axes('right', size='5%', pad=0.05)\n",
    "        im = ax.matshow(g.squeeze(), cmap=\"coolwarm\")\n",
    "        ax.xaxis.tick_bottom()\n",
    "        fig.colorbar(im, cax=cax, orientation='vertical')\n",
    "        ax.set_title(f\"{t}\")\n",
    "        \n",
    "    plt.tight_layout()\n",
    "    plt.show()"
   ]
  },
  {
   "cell_type": "code",
   "execution_count": 7,
   "metadata": {},
   "outputs": [],
   "source": []
  },
  {
   "cell_type": "code",
   "execution_count": 8,
   "metadata": {},
   "outputs": [
    {
     "data": {
      "image/png": "[encoded data removed]",
      "text/plain": [
       "<Figure size 432x288 with 2 Axes>"
      ]
     },
     "metadata": {
      "needs_background": "light"
     },
     "output_type": "display_data"
    }
   ],
   "source": [
    "mask = torch.ones(1, 1, 28, 28)\n",
    "mask[0, 0, 9, 16] = -1\n",
    "oc_sample = sample * mask\n",
    "\n",
    "fig, axes = plt.subplots(1, 2)\n",
    "axes[0].imshow(unnormalize(sample.squeeze()), cmap=\"gray\")\n",
    "axes[0].set_title(f\"Target Number: {sample_label.item()}\")\n",
    "\n",
    "axes[1].imshow(unnormalize(oc_sample.squeeze()), cmap=\"gray\")\n",
    "axes[1].set_title(f\"Occluded image: {sample_label.item()}\")\n",
    "\n",
    "plt.show()"
   ]
  },
  {
   "cell_type": "markdown",
   "metadata": {},
   "source": [
    "# Question:\n",
    "\n",
    "why `ConvTranspose2d` can be seen as the gradient of `Conv2d` with respect to its input?\n",
    "\n",
    "https://arxiv.org/abs/1603.07285\n",
    "\n",
    "C matrix is \n",
    "\n",
    "https://en.wikipedia.org/wiki/Toeplitz_matrix"
   ]
  },
  {
   "cell_type": "code",
   "execution_count": 6,
   "metadata": {},
   "outputs": [],
   "source": [
    "import sympy\n",
    "from sympy import Symbol, Function, MatrixSymbol, Matrix\n",
    "import numpy as np"
   ]
  },
  {
   "cell_type": "code",
   "execution_count": 7,
   "metadata": {},
   "outputs": [],
   "source": [
    "def f(H, W, K, x, w):\n",
    "    result = []\n",
    "    for i in range(H-K+1):\n",
    "        for j in range(W-K+1):\n",
    "            result.append(np.sum(x[i:(K+i-1), j:(K+i-1)]*w))\n",
    "    return result"
   ]
  },
  {
   "cell_type": "code",
   "execution_count": 8,
   "metadata": {},
   "outputs": [],
   "source": [
    "x_input = MatrixSymbol(\"x^{(l)}\", 5, 5)\n",
    "x_output = MatrixSymbol(\"x^{(l+1)}\", 3, 3)\n",
    "w = MatrixSymbol(\"w\", 3, 3)"
   ]
  },
  {
   "cell_type": "code",
   "execution_count": 9,
   "metadata": {},
   "outputs": [],
   "source": [
    "def convolution(x, w, K, N):\n",
    "    res = []\n",
    "    for i in range(N-K+1):\n",
    "        for j in range(N-K+1):\n",
    "            a = sum(Matrix(x)[i:(K+i), j:(K+j)].multiply_elementwise(Matrix(w)))\n",
    "            res.append(a)\n",
    "    return Matrix(res).reshape(N-K+1, N-K+1)"
   ]
  },
  {
   "cell_type": "code",
   "execution_count": 10,
   "metadata": {},
   "outputs": [
    {
     "data": {
      "text/latex": [
       "$\\displaystyle \\left[\\begin{matrix}w_{0, 0} x^{(l)}_{0, 0} + w_{0, 1} x^{(l)}_{0, 1} + w_{0, 2} x^{(l)}_{0, 2} + w_{1, 0} x^{(l)}_{1, 0} + w_{1, 1} x^{(l)}_{1, 1} + w_{1, 2} x^{(l)}_{1, 2} + w_{2, 0} x^{(l)}_{2, 0} + w_{2, 1} x^{(l)}_{2, 1} + w_{2, 2} x^{(l)}_{2, 2} & w_{0, 0} x^{(l)}_{0, 1} + w_{0, 1} x^{(l)}_{0, 2} + w_{0, 2} x^{(l)}_{0, 3} + w_{1, 0} x^{(l)}_{1, 1} + w_{1, 1} x^{(l)}_{1, 2} + w_{1, 2} x^{(l)}_{1, 3} + w_{2, 0} x^{(l)}_{2, 1} + w_{2, 1} x^{(l)}_{2, 2} + w_{2, 2} x^{(l)}_{2, 3} & w_{0, 0} x^{(l)}_{0, 2} + w_{0, 1} x^{(l)}_{0, 3} + w_{0, 2} x^{(l)}_{0, 4} + w_{1, 0} x^{(l)}_{1, 2} + w_{1, 1} x^{(l)}_{1, 3} + w_{1, 2} x^{(l)}_{1, 4} + w_{2, 0} x^{(l)}_{2, 2} + w_{2, 1} x^{(l)}_{2, 3} + w_{2, 2} x^{(l)}_{2, 4}\\\\w_{0, 0} x^{(l)}_{1, 0} + w_{0, 1} x^{(l)}_{1, 1} + w_{0, 2} x^{(l)}_{1, 2} + w_{1, 0} x^{(l)}_{2, 0} + w_{1, 1} x^{(l)}_{2, 1} + w_{1, 2} x^{(l)}_{2, 2} + w_{2, 0} x^{(l)}_{3, 0} + w_{2, 1} x^{(l)}_{3, 1} + w_{2, 2} x^{(l)}_{3, 2} & w_{0, 0} x^{(l)}_{1, 1} + w_{0, 1} x^{(l)}_{1, 2} + w_{0, 2} x^{(l)}_{1, 3} + w_{1, 0} x^{(l)}_{2, 1} + w_{1, 1} x^{(l)}_{2, 2} + w_{1, 2} x^{(l)}_{2, 3} + w_{2, 0} x^{(l)}_{3, 1} + w_{2, 1} x^{(l)}_{3, 2} + w_{2, 2} x^{(l)}_{3, 3} & w_{0, 0} x^{(l)}_{1, 2} + w_{0, 1} x^{(l)}_{1, 3} + w_{0, 2} x^{(l)}_{1, 4} + w_{1, 0} x^{(l)}_{2, 2} + w_{1, 1} x^{(l)}_{2, 3} + w_{1, 2} x^{(l)}_{2, 4} + w_{2, 0} x^{(l)}_{3, 2} + w_{2, 1} x^{(l)}_{3, 3} + w_{2, 2} x^{(l)}_{3, 4}\\\\w_{0, 0} x^{(l)}_{2, 0} + w_{0, 1} x^{(l)}_{2, 1} + w_{0, 2} x^{(l)}_{2, 2} + w_{1, 0} x^{(l)}_{3, 0} + w_{1, 1} x^{(l)}_{3, 1} + w_{1, 2} x^{(l)}_{3, 2} + w_{2, 0} x^{(l)}_{4, 0} + w_{2, 1} x^{(l)}_{4, 1} + w_{2, 2} x^{(l)}_{4, 2} & w_{0, 0} x^{(l)}_{2, 1} + w_{0, 1} x^{(l)}_{2, 2} + w_{0, 2} x^{(l)}_{2, 3} + w_{1, 0} x^{(l)}_{3, 1} + w_{1, 1} x^{(l)}_{3, 2} + w_{1, 2} x^{(l)}_{3, 3} + w_{2, 0} x^{(l)}_{4, 1} + w_{2, 1} x^{(l)}_{4, 2} + w_{2, 2} x^{(l)}_{4, 3} & w_{0, 0} x^{(l)}_{2, 2} + w_{0, 1} x^{(l)}_{2, 3} + w_{0, 2} x^{(l)}_{2, 4} + w_{1, 0} x^{(l)}_{3, 2} + w_{1, 1} x^{(l)}_{3, 3} + w_{1, 2} x^{(l)}_{3, 4} + w_{2, 0} x^{(l)}_{4, 2} + w_{2, 1} x^{(l)}_{4, 3} + w_{2, 2} x^{(l)}_{4, 4}\\end{matrix}\\right]$"
      ],
      "text/plain": [
       "Matrix([\n",
       "[w[0, 0]*x^{(l)}[0, 0] + w[0, 1]*x^{(l)}[0, 1] + w[0, 2]*x^{(l)}[0, 2] + w[1, 0]*x^{(l)}[1, 0] + w[1, 1]*x^{(l)}[1, 1] + w[1, 2]*x^{(l)}[1, 2] + w[2, 0]*x^{(l)}[2, 0] + w[2, 1]*x^{(l)}[2, 1] + w[2, 2]*x^{(l)}[2, 2], w[0, 0]*x^{(l)}[0, 1] + w[0, 1]*x^{(l)}[0, 2] + w[0, 2]*x^{(l)}[0, 3] + w[1, 0]*x^{(l)}[1, 1] + w[1, 1]*x^{(l)}[1, 2] + w[1, 2]*x^{(l)}[1, 3] + w[2, 0]*x^{(l)}[2, 1] + w[2, 1]*x^{(l)}[2, 2] + w[2, 2]*x^{(l)}[2, 3], w[0, 0]*x^{(l)}[0, 2] + w[0, 1]*x^{(l)}[0, 3] + w[0, 2]*x^{(l)}[0, 4] + w[1, 0]*x^{(l)}[1, 2] + w[1, 1]*x^{(l)}[1, 3] + w[1, 2]*x^{(l)}[1, 4] + w[2, 0]*x^{(l)}[2, 2] + w[2, 1]*x^{(l)}[2, 3] + w[2, 2]*x^{(l)}[2, 4]],\n",
       "[w[0, 0]*x^{(l)}[1, 0] + w[0, 1]*x^{(l)}[1, 1] + w[0, 2]*x^{(l)}[1, 2] + w[1, 0]*x^{(l)}[2, 0] + w[1, 1]*x^{(l)}[2, 1] + w[1, 2]*x^{(l)}[2, 2] + w[2, 0]*x^{(l)}[3, 0] + w[2, 1]*x^{(l)}[3, 1] + w[2, 2]*x^{(l)}[3, 2], w[0, 0]*x^{(l)}[1, 1] + w[0, 1]*x^{(l)}[1, 2] + w[0, 2]*x^{(l)}[1, 3] + w[1, 0]*x^{(l)}[2, 1] + w[1, 1]*x^{(l)}[2, 2] + w[1, 2]*x^{(l)}[2, 3] + w[2, 0]*x^{(l)}[3, 1] + w[2, 1]*x^{(l)}[3, 2] + w[2, 2]*x^{(l)}[3, 3], w[0, 0]*x^{(l)}[1, 2] + w[0, 1]*x^{(l)}[1, 3] + w[0, 2]*x^{(l)}[1, 4] + w[1, 0]*x^{(l)}[2, 2] + w[1, 1]*x^{(l)}[2, 3] + w[1, 2]*x^{(l)}[2, 4] + w[2, 0]*x^{(l)}[3, 2] + w[2, 1]*x^{(l)}[3, 3] + w[2, 2]*x^{(l)}[3, 4]],\n",
       "[w[0, 0]*x^{(l)}[2, 0] + w[0, 1]*x^{(l)}[2, 1] + w[0, 2]*x^{(l)}[2, 2] + w[1, 0]*x^{(l)}[3, 0] + w[1, 1]*x^{(l)}[3, 1] + w[1, 2]*x^{(l)}[3, 2] + w[2, 0]*x^{(l)}[4, 0] + w[2, 1]*x^{(l)}[4, 1] + w[2, 2]*x^{(l)}[4, 2], w[0, 0]*x^{(l)}[2, 1] + w[0, 1]*x^{(l)}[2, 2] + w[0, 2]*x^{(l)}[2, 3] + w[1, 0]*x^{(l)}[3, 1] + w[1, 1]*x^{(l)}[3, 2] + w[1, 2]*x^{(l)}[3, 3] + w[2, 0]*x^{(l)}[4, 1] + w[2, 1]*x^{(l)}[4, 2] + w[2, 2]*x^{(l)}[4, 3], w[0, 0]*x^{(l)}[2, 2] + w[0, 1]*x^{(l)}[2, 3] + w[0, 2]*x^{(l)}[2, 4] + w[1, 0]*x^{(l)}[3, 2] + w[1, 1]*x^{(l)}[3, 3] + w[1, 2]*x^{(l)}[3, 4] + w[2, 0]*x^{(l)}[4, 2] + w[2, 1]*x^{(l)}[4, 3] + w[2, 2]*x^{(l)}[4, 4]]])"
      ]
     },
     "execution_count": 10,
     "metadata": {},
     "output_type": "execute_result"
    }
   ],
   "source": [
    "o = convolution(x_input, w, K=3, N=5)\n",
    "o"
   ]
  },
  {
   "cell_type": "code",
   "execution_count": 14,
   "metadata": {},
   "outputs": [
    {
     "data": {
      "text/latex": [
       "$\\displaystyle \\left[\\begin{matrix}w_{0, 0} & 0 & 0 & 0 & 0 & 0 & 0 & 0 & 0\\\\w_{0, 1} & w_{0, 0} & 0 & 0 & 0 & 0 & 0 & 0 & 0\\\\w_{0, 2} & w_{0, 1} & w_{0, 0} & 0 & 0 & 0 & 0 & 0 & 0\\\\0 & w_{0, 2} & w_{0, 1} & 0 & 0 & 0 & 0 & 0 & 0\\\\0 & 0 & w_{0, 2} & 0 & 0 & 0 & 0 & 0 & 0\\\\w_{1, 0} & 0 & 0 & w_{0, 0} & 0 & 0 & 0 & 0 & 0\\\\w_{1, 1} & w_{1, 0} & 0 & w_{0, 1} & w_{0, 0} & 0 & 0 & 0 & 0\\\\w_{1, 2} & w_{1, 1} & w_{1, 0} & w_{0, 2} & w_{0, 1} & w_{0, 0} & 0 & 0 & 0\\\\0 & w_{1, 2} & w_{1, 1} & 0 & w_{0, 2} & w_{0, 1} & 0 & 0 & 0\\\\0 & 0 & w_{1, 2} & 0 & 0 & w_{0, 2} & 0 & 0 & 0\\\\w_{2, 0} & 0 & 0 & w_{1, 0} & 0 & 0 & w_{0, 0} & 0 & 0\\\\w_{2, 1} & w_{2, 0} & 0 & w_{1, 1} & w_{1, 0} & 0 & w_{0, 1} & w_{0, 0} & 0\\\\w_{2, 2} & w_{2, 1} & w_{2, 0} & w_{1, 2} & w_{1, 1} & w_{1, 0} & w_{0, 2} & w_{0, 1} & w_{0, 0}\\\\0 & w_{2, 2} & w_{2, 1} & 0 & w_{1, 2} & w_{1, 1} & 0 & w_{0, 2} & w_{0, 1}\\\\0 & 0 & w_{2, 2} & 0 & 0 & w_{1, 2} & 0 & 0 & w_{0, 2}\\\\0 & 0 & 0 & w_{2, 0} & 0 & 0 & w_{1, 0} & 0 & 0\\\\0 & 0 & 0 & w_{2, 1} & w_{2, 0} & 0 & w_{1, 1} & w_{1, 0} & 0\\\\0 & 0 & 0 & w_{2, 2} & w_{2, 1} & w_{2, 0} & w_{1, 2} & w_{1, 1} & w_{1, 0}\\\\0 & 0 & 0 & 0 & w_{2, 2} & w_{2, 1} & 0 & w_{1, 2} & w_{1, 1}\\\\0 & 0 & 0 & 0 & 0 & w_{2, 2} & 0 & 0 & w_{1, 2}\\\\0 & 0 & 0 & 0 & 0 & 0 & w_{2, 0} & 0 & 0\\\\0 & 0 & 0 & 0 & 0 & 0 & w_{2, 1} & w_{2, 0} & 0\\\\0 & 0 & 0 & 0 & 0 & 0 & w_{2, 2} & w_{2, 1} & w_{2, 0}\\\\0 & 0 & 0 & 0 & 0 & 0 & 0 & w_{2, 2} & w_{2, 1}\\\\0 & 0 & 0 & 0 & 0 & 0 & 0 & 0 & w_{2, 2}\\end{matrix}\\right]$"
      ],
      "text/plain": [
       "[[w[0, 0], 0, 0, 0, 0, 0, 0, 0, 0], [w[0, 1], w[0, 0], 0, 0, 0, 0, 0, 0, 0], [w[0, 2], w[0, 1], w[0, 0], 0, 0, 0, 0, 0, 0], [0, w[0, 2], w[0, 1], 0, 0, 0, 0, 0, 0], [0, 0, w[0, 2], 0, 0, 0, 0, 0, 0], [w[1, 0], 0, 0, w[0, 0], 0, 0, 0, 0, 0], [w[1, 1], w[1, 0], 0, w[0, 1], w[0, 0], 0, 0, 0, 0], [w[1, 2], w[1, 1], w[1, 0], w[0, 2], w[0, 1], w[0, 0], 0, 0, 0], [0, w[1, 2], w[1, 1], 0, w[0, 2], w[0, 1], 0, 0, 0], [0, 0, w[1, 2], 0, 0, w[0, 2], 0, 0, 0], [w[2, 0], 0, 0, w[1, 0], 0, 0, w[0, 0], 0, 0], [w[2, 1], w[2, 0], 0, w[1, 1], w[1, 0], 0, w[0, 1], w[0, 0], 0], [w[2, 2], w[2, 1], w[2, 0], w[1, 2], w[1, 1], w[1, 0], w[0, 2], w[0, 1], w[0, 0]], [0, w[2, 2], w[2, 1], 0, w[1, 2], w[1, 1], 0, w[0, 2], w[0, 1]], [0, 0, w[2, 2], 0, 0, w[1, 2], 0, 0, w[0, 2]], [0, 0, 0, w[2, 0], 0, 0, w[1, 0], 0, 0], [0, 0, 0, w[2, 1], w[2, 0], 0, w[1, 1], w[1, 0], 0], [0, 0, 0, w[2, 2], w[2, 1], w[2, 0], w[1, 2], w[1, 1], w[1, 0]], [0, 0, 0, 0, w[2, 2], w[2, 1], 0, w[1, 2], w[1, 1]], [0, 0, 0, 0, 0, w[2, 2], 0, 0, w[1, 2]], [0, 0, 0, 0, 0, 0, w[2, 0], 0, 0], [0, 0, 0, 0, 0, 0, w[2, 1], w[2, 0], 0], [0, 0, 0, 0, 0, 0, w[2, 2], w[2, 1], w[2, 0]], [0, 0, 0, 0, 0, 0, 0, w[2, 2], w[2, 1]], [0, 0, 0, 0, 0, 0, 0, 0, w[2, 2]]]"
      ]
     },
     "execution_count": 14,
     "metadata": {},
     "output_type": "execute_result"
    }
   ],
   "source": [
    "C = o.reshape(1, 9).diff(Matrix(x_input).reshape(25, 1)).reshape(25, 9)\n",
    "C"
   ]
  },
  {
   "cell_type": "code",
   "execution_count": 51,
   "metadata": {},
   "outputs": [
    {
     "data": {
      "text/latex": [
       "$\\displaystyle \\left[\\begin{matrix}w_{0, 0} x^{(l)}_{0, 0} + w_{0, 1} x^{(l)}_{0, 1} + w_{0, 2} x^{(l)}_{0, 2} + w_{1, 0} x^{(l)}_{1, 0} + w_{1, 1} x^{(l)}_{1, 1} + w_{1, 2} x^{(l)}_{1, 2} + w_{2, 0} x^{(l)}_{2, 0} + w_{2, 1} x^{(l)}_{2, 1} + w_{2, 2} x^{(l)}_{2, 2} & w_{0, 0} x^{(l)}_{0, 1} + w_{0, 1} x^{(l)}_{0, 2} + w_{0, 2} x^{(l)}_{0, 3} + w_{1, 0} x^{(l)}_{1, 1} + w_{1, 1} x^{(l)}_{1, 2} + w_{1, 2} x^{(l)}_{1, 3} + w_{2, 0} x^{(l)}_{2, 1} + w_{2, 1} x^{(l)}_{2, 2} + w_{2, 2} x^{(l)}_{2, 3} & w_{0, 0} x^{(l)}_{0, 2} + w_{0, 1} x^{(l)}_{0, 3} + w_{0, 2} x^{(l)}_{0, 4} + w_{1, 0} x^{(l)}_{1, 2} + w_{1, 1} x^{(l)}_{1, 3} + w_{1, 2} x^{(l)}_{1, 4} + w_{2, 0} x^{(l)}_{2, 2} + w_{2, 1} x^{(l)}_{2, 3} + w_{2, 2} x^{(l)}_{2, 4}\\\\w_{0, 0} x^{(l)}_{1, 0} + w_{0, 1} x^{(l)}_{1, 1} + w_{0, 2} x^{(l)}_{1, 2} + w_{1, 0} x^{(l)}_{2, 0} + w_{1, 1} x^{(l)}_{2, 1} + w_{1, 2} x^{(l)}_{2, 2} + w_{2, 0} x^{(l)}_{3, 0} + w_{2, 1} x^{(l)}_{3, 1} + w_{2, 2} x^{(l)}_{3, 2} & w_{0, 0} x^{(l)}_{1, 1} + w_{0, 1} x^{(l)}_{1, 2} + w_{0, 2} x^{(l)}_{1, 3} + w_{1, 0} x^{(l)}_{2, 1} + w_{1, 1} x^{(l)}_{2, 2} + w_{1, 2} x^{(l)}_{2, 3} + w_{2, 0} x^{(l)}_{3, 1} + w_{2, 1} x^{(l)}_{3, 2} + w_{2, 2} x^{(l)}_{3, 3} & w_{0, 0} x^{(l)}_{1, 2} + w_{0, 1} x^{(l)}_{1, 3} + w_{0, 2} x^{(l)}_{1, 4} + w_{1, 0} x^{(l)}_{2, 2} + w_{1, 1} x^{(l)}_{2, 3} + w_{1, 2} x^{(l)}_{2, 4} + w_{2, 0} x^{(l)}_{3, 2} + w_{2, 1} x^{(l)}_{3, 3} + w_{2, 2} x^{(l)}_{3, 4}\\\\w_{0, 0} x^{(l)}_{2, 0} + w_{0, 1} x^{(l)}_{2, 1} + w_{0, 2} x^{(l)}_{2, 2} + w_{1, 0} x^{(l)}_{3, 0} + w_{1, 1} x^{(l)}_{3, 1} + w_{1, 2} x^{(l)}_{3, 2} + w_{2, 0} x^{(l)}_{4, 0} + w_{2, 1} x^{(l)}_{4, 1} + w_{2, 2} x^{(l)}_{4, 2} & w_{0, 0} x^{(l)}_{2, 1} + w_{0, 1} x^{(l)}_{2, 2} + w_{0, 2} x^{(l)}_{2, 3} + w_{1, 0} x^{(l)}_{3, 1} + w_{1, 1} x^{(l)}_{3, 2} + w_{1, 2} x^{(l)}_{3, 3} + w_{2, 0} x^{(l)}_{4, 1} + w_{2, 1} x^{(l)}_{4, 2} + w_{2, 2} x^{(l)}_{4, 3} & w_{0, 0} x^{(l)}_{2, 2} + w_{0, 1} x^{(l)}_{2, 3} + w_{0, 2} x^{(l)}_{2, 4} + w_{1, 0} x^{(l)}_{3, 2} + w_{1, 1} x^{(l)}_{3, 3} + w_{1, 2} x^{(l)}_{3, 4} + w_{2, 0} x^{(l)}_{4, 2} + w_{2, 1} x^{(l)}_{4, 3} + w_{2, 2} x^{(l)}_{4, 4}\\end{matrix}\\right]$"
      ],
      "text/plain": [
       "Matrix([\n",
       "[w[0, 0]*x^{(l)}[0, 0] + w[0, 1]*x^{(l)}[0, 1] + w[0, 2]*x^{(l)}[0, 2] + w[1, 0]*x^{(l)}[1, 0] + w[1, 1]*x^{(l)}[1, 1] + w[1, 2]*x^{(l)}[1, 2] + w[2, 0]*x^{(l)}[2, 0] + w[2, 1]*x^{(l)}[2, 1] + w[2, 2]*x^{(l)}[2, 2], w[0, 0]*x^{(l)}[0, 1] + w[0, 1]*x^{(l)}[0, 2] + w[0, 2]*x^{(l)}[0, 3] + w[1, 0]*x^{(l)}[1, 1] + w[1, 1]*x^{(l)}[1, 2] + w[1, 2]*x^{(l)}[1, 3] + w[2, 0]*x^{(l)}[2, 1] + w[2, 1]*x^{(l)}[2, 2] + w[2, 2]*x^{(l)}[2, 3], w[0, 0]*x^{(l)}[0, 2] + w[0, 1]*x^{(l)}[0, 3] + w[0, 2]*x^{(l)}[0, 4] + w[1, 0]*x^{(l)}[1, 2] + w[1, 1]*x^{(l)}[1, 3] + w[1, 2]*x^{(l)}[1, 4] + w[2, 0]*x^{(l)}[2, 2] + w[2, 1]*x^{(l)}[2, 3] + w[2, 2]*x^{(l)}[2, 4]],\n",
       "[w[0, 0]*x^{(l)}[1, 0] + w[0, 1]*x^{(l)}[1, 1] + w[0, 2]*x^{(l)}[1, 2] + w[1, 0]*x^{(l)}[2, 0] + w[1, 1]*x^{(l)}[2, 1] + w[1, 2]*x^{(l)}[2, 2] + w[2, 0]*x^{(l)}[3, 0] + w[2, 1]*x^{(l)}[3, 1] + w[2, 2]*x^{(l)}[3, 2], w[0, 0]*x^{(l)}[1, 1] + w[0, 1]*x^{(l)}[1, 2] + w[0, 2]*x^{(l)}[1, 3] + w[1, 0]*x^{(l)}[2, 1] + w[1, 1]*x^{(l)}[2, 2] + w[1, 2]*x^{(l)}[2, 3] + w[2, 0]*x^{(l)}[3, 1] + w[2, 1]*x^{(l)}[3, 2] + w[2, 2]*x^{(l)}[3, 3], w[0, 0]*x^{(l)}[1, 2] + w[0, 1]*x^{(l)}[1, 3] + w[0, 2]*x^{(l)}[1, 4] + w[1, 0]*x^{(l)}[2, 2] + w[1, 1]*x^{(l)}[2, 3] + w[1, 2]*x^{(l)}[2, 4] + w[2, 0]*x^{(l)}[3, 2] + w[2, 1]*x^{(l)}[3, 3] + w[2, 2]*x^{(l)}[3, 4]],\n",
       "[w[0, 0]*x^{(l)}[2, 0] + w[0, 1]*x^{(l)}[2, 1] + w[0, 2]*x^{(l)}[2, 2] + w[1, 0]*x^{(l)}[3, 0] + w[1, 1]*x^{(l)}[3, 1] + w[1, 2]*x^{(l)}[3, 2] + w[2, 0]*x^{(l)}[4, 0] + w[2, 1]*x^{(l)}[4, 1] + w[2, 2]*x^{(l)}[4, 2], w[0, 0]*x^{(l)}[2, 1] + w[0, 1]*x^{(l)}[2, 2] + w[0, 2]*x^{(l)}[2, 3] + w[1, 0]*x^{(l)}[3, 1] + w[1, 1]*x^{(l)}[3, 2] + w[1, 2]*x^{(l)}[3, 3] + w[2, 0]*x^{(l)}[4, 1] + w[2, 1]*x^{(l)}[4, 2] + w[2, 2]*x^{(l)}[4, 3], w[0, 0]*x^{(l)}[2, 2] + w[0, 1]*x^{(l)}[2, 3] + w[0, 2]*x^{(l)}[2, 4] + w[1, 0]*x^{(l)}[3, 2] + w[1, 1]*x^{(l)}[3, 3] + w[1, 2]*x^{(l)}[3, 4] + w[2, 0]*x^{(l)}[4, 2] + w[2, 1]*x^{(l)}[4, 3] + w[2, 2]*x^{(l)}[4, 4]]])"
      ]
     },
     "execution_count": 51,
     "metadata": {},
     "output_type": "execute_result"
    }
   ],
   "source": [
    "# forward \n",
    "(Matrix(x_input).reshape(1, 25) @ C).reshape(3, 3)"
   ]
  },
  {
   "cell_type": "code",
   "execution_count": 53,
   "metadata": {},
   "outputs": [
    {
     "data": {
      "text/latex": [
       "$\\displaystyle \\left[\\begin{matrix}w_{0, 0} x^{(l+1)}_{0, 0} & w_{0, 0} x^{(l+1)}_{0, 1} + w_{0, 1} x^{(l+1)}_{0, 0} & w_{0, 0} x^{(l+1)}_{0, 2} + w_{0, 1} x^{(l+1)}_{0, 1} + w_{0, 2} x^{(l+1)}_{0, 0} & w_{0, 1} x^{(l+1)}_{0, 2} + w_{0, 2} x^{(l+1)}_{0, 1} & w_{0, 2} x^{(l+1)}_{0, 2}\\\\w_{0, 0} x^{(l+1)}_{1, 0} + w_{1, 0} x^{(l+1)}_{0, 0} & w_{0, 0} x^{(l+1)}_{1, 1} + w_{0, 1} x^{(l+1)}_{1, 0} + w_{1, 0} x^{(l+1)}_{0, 1} + w_{1, 1} x^{(l+1)}_{0, 0} & w_{0, 0} x^{(l+1)}_{1, 2} + w_{0, 1} x^{(l+1)}_{1, 1} + w_{0, 2} x^{(l+1)}_{1, 0} + w_{1, 0} x^{(l+1)}_{0, 2} + w_{1, 1} x^{(l+1)}_{0, 1} + w_{1, 2} x^{(l+1)}_{0, 0} & w_{0, 1} x^{(l+1)}_{1, 2} + w_{0, 2} x^{(l+1)}_{1, 1} + w_{1, 1} x^{(l+1)}_{0, 2} + w_{1, 2} x^{(l+1)}_{0, 1} & w_{0, 2} x^{(l+1)}_{1, 2} + w_{1, 2} x^{(l+1)}_{0, 2}\\\\w_{0, 0} x^{(l+1)}_{2, 0} + w_{1, 0} x^{(l+1)}_{1, 0} + w_{2, 0} x^{(l+1)}_{0, 0} & w_{0, 0} x^{(l+1)}_{2, 1} + w_{0, 1} x^{(l+1)}_{2, 0} + w_{1, 0} x^{(l+1)}_{1, 1} + w_{1, 1} x^{(l+1)}_{1, 0} + w_{2, 0} x^{(l+1)}_{0, 1} + w_{2, 1} x^{(l+1)}_{0, 0} & w_{0, 0} x^{(l+1)}_{2, 2} + w_{0, 1} x^{(l+1)}_{2, 1} + w_{0, 2} x^{(l+1)}_{2, 0} + w_{1, 0} x^{(l+1)}_{1, 2} + w_{1, 1} x^{(l+1)}_{1, 1} + w_{1, 2} x^{(l+1)}_{1, 0} + w_{2, 0} x^{(l+1)}_{0, 2} + w_{2, 1} x^{(l+1)}_{0, 1} + w_{2, 2} x^{(l+1)}_{0, 0} & w_{0, 1} x^{(l+1)}_{2, 2} + w_{0, 2} x^{(l+1)}_{2, 1} + w_{1, 1} x^{(l+1)}_{1, 2} + w_{1, 2} x^{(l+1)}_{1, 1} + w_{2, 1} x^{(l+1)}_{0, 2} + w_{2, 2} x^{(l+1)}_{0, 1} & w_{0, 2} x^{(l+1)}_{2, 2} + w_{1, 2} x^{(l+1)}_{1, 2} + w_{2, 2} x^{(l+1)}_{0, 2}\\\\w_{1, 0} x^{(l+1)}_{2, 0} + w_{2, 0} x^{(l+1)}_{1, 0} & w_{1, 0} x^{(l+1)}_{2, 1} + w_{1, 1} x^{(l+1)}_{2, 0} + w_{2, 0} x^{(l+1)}_{1, 1} + w_{2, 1} x^{(l+1)}_{1, 0} & w_{1, 0} x^{(l+1)}_{2, 2} + w_{1, 1} x^{(l+1)}_{2, 1} + w_{1, 2} x^{(l+1)}_{2, 0} + w_{2, 0} x^{(l+1)}_{1, 2} + w_{2, 1} x^{(l+1)}_{1, 1} + w_{2, 2} x^{(l+1)}_{1, 0} & w_{1, 1} x^{(l+1)}_{2, 2} + w_{1, 2} x^{(l+1)}_{2, 1} + w_{2, 1} x^{(l+1)}_{1, 2} + w_{2, 2} x^{(l+1)}_{1, 1} & w_{1, 2} x^{(l+1)}_{2, 2} + w_{2, 2} x^{(l+1)}_{1, 2}\\\\w_{2, 0} x^{(l+1)}_{2, 0} & w_{2, 0} x^{(l+1)}_{2, 1} + w_{2, 1} x^{(l+1)}_{2, 0} & w_{2, 0} x^{(l+1)}_{2, 2} + w_{2, 1} x^{(l+1)}_{2, 1} + w_{2, 2} x^{(l+1)}_{2, 0} & w_{2, 1} x^{(l+1)}_{2, 2} + w_{2, 2} x^{(l+1)}_{2, 1} & w_{2, 2} x^{(l+1)}_{2, 2}\\end{matrix}\\right]$"
      ],
      "text/plain": [
       "Matrix([\n",
       "[                                                    w[0, 0]*x^{(l+1)}[0, 0],                                                                                                         w[0, 0]*x^{(l+1)}[0, 1] + w[0, 1]*x^{(l+1)}[0, 0],                                                                                                                                                             w[0, 0]*x^{(l+1)}[0, 2] + w[0, 1]*x^{(l+1)}[0, 1] + w[0, 2]*x^{(l+1)}[0, 0],                                                                                                         w[0, 1]*x^{(l+1)}[0, 2] + w[0, 2]*x^{(l+1)}[0, 1],                                                     w[0, 2]*x^{(l+1)}[0, 2]],\n",
       "[                          w[0, 0]*x^{(l+1)}[1, 0] + w[1, 0]*x^{(l+1)}[0, 0],                                                     w[0, 0]*x^{(l+1)}[1, 1] + w[0, 1]*x^{(l+1)}[1, 0] + w[1, 0]*x^{(l+1)}[0, 1] + w[1, 1]*x^{(l+1)}[0, 0],                                                                               w[0, 0]*x^{(l+1)}[1, 2] + w[0, 1]*x^{(l+1)}[1, 1] + w[0, 2]*x^{(l+1)}[1, 0] + w[1, 0]*x^{(l+1)}[0, 2] + w[1, 1]*x^{(l+1)}[0, 1] + w[1, 2]*x^{(l+1)}[0, 0],                                                     w[0, 1]*x^{(l+1)}[1, 2] + w[0, 2]*x^{(l+1)}[1, 1] + w[1, 1]*x^{(l+1)}[0, 2] + w[1, 2]*x^{(l+1)}[0, 1],                           w[0, 2]*x^{(l+1)}[1, 2] + w[1, 2]*x^{(l+1)}[0, 2]],\n",
       "[w[0, 0]*x^{(l+1)}[2, 0] + w[1, 0]*x^{(l+1)}[1, 0] + w[2, 0]*x^{(l+1)}[0, 0], w[0, 0]*x^{(l+1)}[2, 1] + w[0, 1]*x^{(l+1)}[2, 0] + w[1, 0]*x^{(l+1)}[1, 1] + w[1, 1]*x^{(l+1)}[1, 0] + w[2, 0]*x^{(l+1)}[0, 1] + w[2, 1]*x^{(l+1)}[0, 0], w[0, 0]*x^{(l+1)}[2, 2] + w[0, 1]*x^{(l+1)}[2, 1] + w[0, 2]*x^{(l+1)}[2, 0] + w[1, 0]*x^{(l+1)}[1, 2] + w[1, 1]*x^{(l+1)}[1, 1] + w[1, 2]*x^{(l+1)}[1, 0] + w[2, 0]*x^{(l+1)}[0, 2] + w[2, 1]*x^{(l+1)}[0, 1] + w[2, 2]*x^{(l+1)}[0, 0], w[0, 1]*x^{(l+1)}[2, 2] + w[0, 2]*x^{(l+1)}[2, 1] + w[1, 1]*x^{(l+1)}[1, 2] + w[1, 2]*x^{(l+1)}[1, 1] + w[2, 1]*x^{(l+1)}[0, 2] + w[2, 2]*x^{(l+1)}[0, 1], w[0, 2]*x^{(l+1)}[2, 2] + w[1, 2]*x^{(l+1)}[1, 2] + w[2, 2]*x^{(l+1)}[0, 2]],\n",
       "[                          w[1, 0]*x^{(l+1)}[2, 0] + w[2, 0]*x^{(l+1)}[1, 0],                                                     w[1, 0]*x^{(l+1)}[2, 1] + w[1, 1]*x^{(l+1)}[2, 0] + w[2, 0]*x^{(l+1)}[1, 1] + w[2, 1]*x^{(l+1)}[1, 0],                                                                               w[1, 0]*x^{(l+1)}[2, 2] + w[1, 1]*x^{(l+1)}[2, 1] + w[1, 2]*x^{(l+1)}[2, 0] + w[2, 0]*x^{(l+1)}[1, 2] + w[2, 1]*x^{(l+1)}[1, 1] + w[2, 2]*x^{(l+1)}[1, 0],                                                     w[1, 1]*x^{(l+1)}[2, 2] + w[1, 2]*x^{(l+1)}[2, 1] + w[2, 1]*x^{(l+1)}[1, 2] + w[2, 2]*x^{(l+1)}[1, 1],                           w[1, 2]*x^{(l+1)}[2, 2] + w[2, 2]*x^{(l+1)}[1, 2]],\n",
       "[                                                    w[2, 0]*x^{(l+1)}[2, 0],                                                                                                         w[2, 0]*x^{(l+1)}[2, 1] + w[2, 1]*x^{(l+1)}[2, 0],                                                                                                                                                             w[2, 0]*x^{(l+1)}[2, 2] + w[2, 1]*x^{(l+1)}[2, 1] + w[2, 2]*x^{(l+1)}[2, 0],                                                                                                         w[2, 1]*x^{(l+1)}[2, 2] + w[2, 2]*x^{(l+1)}[2, 1],                                                     w[2, 2]*x^{(l+1)}[2, 2]]])"
      ]
     },
     "execution_count": 53,
     "metadata": {},
     "output_type": "execute_result"
    }
   ],
   "source": [
    "# backward\n",
    "(Matrix(x_output).reshape(1, 9) @ C.transpose()).reshape(5, 5)"
   ]
  },
  {
   "cell_type": "code",
   "execution_count": null,
   "metadata": {},
   "outputs": [],
   "source": []
  }
 ],
 "metadata": {
  "kernelspec": {
   "display_name": "Python 3",
   "language": "python",
   "name": "python3"
  },
  "language_info": {
   "codemirror_mode": {
    "name": "ipython",
    "version": 3
   },
   "file_extension": ".py",
   "mimetype": "text/x-python",
   "name": "python",
   "nbconvert_exporter": "python",
   "pygments_lexer": "ipython3",
   "version": "3.6.9"
  }
 },
 "nbformat": 4,
 "nbformat_minor": 2
}
