{
 "cells": [
  {
   "cell_type": "code",
   "execution_count": 5,
   "metadata": {},
   "outputs": [],
   "source": [
    "import torch\n",
    "import torch.nn as nn\n",
    "import torch.nn.functional as F\n",
    "\n",
    "def f_hook(m, i, o):\n",
    "    print(m)\n",
    "    print(type(m))\n",
    "    print(\"forward_input\")\n",
    "    print(type(i))\n",
    "    for a in i:\n",
    "        print(a)\n",
    "    print(\"forward_output\")\n",
    "    print(type(o))\n",
    "    print(o)\n",
    "    print()\n",
    "\n",
    "def b_hook(m, i, o):\n",
    "    print(m)\n",
    "    print(type(m))\n",
    "    print(\"grad_input\")\n",
    "    print(type(i))\n",
    "    for a in i:\n",
    "        print(a)\n",
    "    print(\"grad_output\")\n",
    "    print(type(o))\n",
    "    for a in o:\n",
    "        print(a)\n",
    "    print()\n",
    "\n",
    "def tensor_hook(x):\n",
    "    print(type(x))\n",
    "    print(x)\n",
    "    print()"
   ]
  },
  {
   "cell_type": "markdown",
   "metadata": {},
   "source": [
    "## Linear"
   ]
  },
  {
   "cell_type": "code",
   "execution_count": 8,
   "metadata": {},
   "outputs": [
    {
     "name": "stdout",
     "output_type": "stream",
     "text": [
      "Linear(in_features=5, out_features=3, bias=True)\n",
      "<class 'torch.nn.modules.linear.Linear'>\n",
      "forward_input\n",
      "<class 'tuple'>\n",
      "tensor([[ 1.0458, -0.2298,  0.3554,  1.4613,  0.8634]])\n",
      "forward_output\n",
      "<class 'torch.Tensor'>\n",
      "tensor([[-0.3579,  0.4016,  0.7146]], grad_fn=<AddmmBackward>)\n",
      "\n",
      "ReLU()\n",
      "<class 'torch.nn.modules.activation.ReLU'>\n",
      "forward_input\n",
      "<class 'tuple'>\n",
      "tensor([[-0.3579,  0.4016,  0.7146]], grad_fn=<AddmmBackward>)\n",
      "forward_output\n",
      "<class 'torch.Tensor'>\n",
      "tensor([[0.0000, 0.4016, 0.7146]], grad_fn=<ReluBackward0>)\n",
      "\n",
      "Linear(in_features=3, out_features=2, bias=True)\n",
      "<class 'torch.nn.modules.linear.Linear'>\n",
      "forward_input\n",
      "<class 'tuple'>\n",
      "tensor([[0.0000, 0.4016, 0.7146]], grad_fn=<ReluBackward0>)\n",
      "forward_output\n",
      "<class 'torch.Tensor'>\n",
      "tensor([[ 0.1455, -0.0011]], grad_fn=<AddmmBackward>)\n",
      "\n"
     ]
    }
   ],
   "source": [
    "x = torch.randn(1, 5)\n",
    "linear_layer = nn.Linear(5, 3)\n",
    "relu = nn.ReLU()\n",
    "linear_layer2 = nn.Linear(3, 2)\n",
    "\n",
    "linear_layer.register_forward_hook(f_hook)\n",
    "relu.register_forward_hook(f_hook)\n",
    "linear_layer2.register_forward_hook(f_hook)\n",
    "linear_layer.register_backward_hook(b_hook)\n",
    "relu.register_backward_hook(b_hook)\n",
    "linear_layer2.register_backward_hook(b_hook)\n",
    "o1 = linear_layer(x)\n",
    "o2 = relu(o1)\n",
    "o3 = linear_layer2(o2)\n",
    "o4 = 9 - o3.mean()"
   ]
  },
  {
   "cell_type": "code",
   "execution_count": 9,
   "metadata": {},
   "outputs": [
    {
     "name": "stdout",
     "output_type": "stream",
     "text": [
      "Linear(in_features=3, out_features=2, bias=True)\n",
      "<class 'torch.nn.modules.linear.Linear'>\n",
      "grad_input\n",
      "<class 'tuple'>\n",
      "tensor([-0.5000, -0.5000])\n",
      "tensor([[-0.0478, -0.1044, -0.2227]])\n",
      "tensor([[-0.0000, -0.0000],\n",
      "        [-0.2008, -0.2008],\n",
      "        [-0.3573, -0.3573]])\n",
      "grad_output\n",
      "<class 'tuple'>\n",
      "tensor([[-0.5000, -0.5000]])\n",
      "\n",
      "ReLU()\n",
      "<class 'torch.nn.modules.activation.ReLU'>\n",
      "grad_input\n",
      "<class 'tuple'>\n",
      "tensor([[ 0.0000, -0.1044, -0.2227]])\n",
      "grad_output\n",
      "<class 'tuple'>\n",
      "tensor([[-0.0478, -0.1044, -0.2227]])\n",
      "\n",
      "Linear(in_features=5, out_features=3, bias=True)\n",
      "<class 'torch.nn.modules.linear.Linear'>\n",
      "grad_input\n",
      "<class 'tuple'>\n",
      "tensor([ 0.0000, -0.1044, -0.2227])\n",
      "None\n",
      "tensor([[ 0.0000, -0.1092, -0.2329],\n",
      "        [-0.0000,  0.0240,  0.0512],\n",
      "        [ 0.0000, -0.0371, -0.0792],\n",
      "        [ 0.0000, -0.1526, -0.3254],\n",
      "        [ 0.0000, -0.0902, -0.1923]])\n",
      "grad_output\n",
      "<class 'tuple'>\n",
      "tensor([[ 0.0000, -0.1044, -0.2227]])\n",
      "\n"
     ]
    }
   ],
   "source": [
    "o4.backward()"
   ]
  },
  {
   "cell_type": "markdown",
   "metadata": {},
   "source": [
    "## Conv2d"
   ]
  },
  {
   "cell_type": "code",
   "execution_count": 2,
   "metadata": {},
   "outputs": [
    {
     "name": "stdout",
     "output_type": "stream",
     "text": [
      "Conv2d(1, 1, kernel_size=(2, 2), stride=(1, 1))\n",
      "<class 'torch.nn.modules.conv.Conv2d'>\n",
      "forward_input\n",
      "<class 'tuple'>\n",
      "tensor([[[[-1.5590, -2.8136, -0.5423, -1.0532,  0.1237],\n",
      "          [-1.4775, -0.1077, -0.6187,  0.8025,  1.1835],\n",
      "          [ 1.4065,  0.4982, -0.4970, -1.4976,  0.5764],\n",
      "          [ 1.6011,  1.0219, -0.0436, -2.6786, -0.4548],\n",
      "          [ 0.5924, -0.4832,  0.3975,  0.3580, -0.1329]]]])\n",
      "forward_output\n",
      "<class 'torch.Tensor'>\n",
      "tensor([[[ 1.3766,  0.3055,  0.6854,  0.1169],\n",
      "         [ 0.0208,  0.1201, -0.3871, -0.1131],\n",
      "         [-0.2982,  0.0356,  0.1988,  0.2473],\n",
      "         [-0.5883,  0.1445,  1.0332,  0.2721]]], grad_fn=<SelectBackward>)\n",
      "\n",
      "ReLU()\n",
      "<class 'torch.nn.modules.activation.ReLU'>\n",
      "forward_input\n",
      "<class 'tuple'>\n",
      "tensor([[[[ 1.3766,  0.3055,  0.6854,  0.1169],\n",
      "          [ 0.0208,  0.1201, -0.3871, -0.1131],\n",
      "          [-0.2982,  0.0356,  0.1988,  0.2473],\n",
      "          [-0.5883,  0.1445,  1.0332,  0.2721]]]],\n",
      "       grad_fn=<ThnnConv2DBackward>)\n",
      "forward_output\n",
      "<class 'torch.Tensor'>\n",
      "tensor([[[1.3766, 0.3055, 0.6854, 0.1169],\n",
      "         [0.0208, 0.1201, 0.0000, 0.0000],\n",
      "         [0.0000, 0.0356, 0.1988, 0.2473],\n",
      "         [0.0000, 0.1445, 1.0332, 0.2721]]], grad_fn=<SelectBackward>)\n",
      "\n",
      "Conv2d(1, 1, kernel_size=(2, 2), stride=(1, 1))\n",
      "<class 'torch.nn.modules.conv.Conv2d'>\n",
      "forward_input\n",
      "<class 'tuple'>\n",
      "tensor([[[[1.3766, 0.3055, 0.6854, 0.1169],\n",
      "          [0.0208, 0.1201, 0.0000, 0.0000],\n",
      "          [0.0000, 0.0356, 0.1988, 0.2473],\n",
      "          [0.0000, 0.1445, 1.0332, 0.2721]]]], grad_fn=<ReluBackward0>)\n",
      "forward_output\n",
      "<class 'torch.Tensor'>\n",
      "tensor([[[ 0.0460, -0.1536,  0.1154],\n",
      "         [ 0.1039,  0.1323,  0.0569],\n",
      "         [ 0.1338,  0.0017, -0.4057]]], grad_fn=<SelectBackward>)\n",
      "\n"
     ]
    }
   ],
   "source": [
    "x = torch.randn(1, 1, 5, 5)\n",
    "conv_layer = nn.Conv2d(1, 1, 2, 1)\n",
    "relu = nn.ReLU()\n",
    "conv_layer2 = nn.Conv2d(1, 1, 2, 1)\n",
    "\n",
    "conv_layer.register_forward_hook(f_hook)\n",
    "relu.register_forward_hook(f_hook)\n",
    "conv_layer2.register_forward_hook(f_hook)\n",
    "conv_layer.register_backward_hook(b_hook)\n",
    "relu.register_backward_hook(b_hook)\n",
    "conv_layer2.register_backward_hook(b_hook)\n",
    "o1 = conv_layer(x)\n",
    "o2 = relu(o1)\n",
    "o3 = conv_layer2(o2)\n",
    "o4 = 1 - o3.mean()"
   ]
  },
  {
   "cell_type": "code",
   "execution_count": 3,
   "metadata": {},
   "outputs": [
    {
     "name": "stdout",
     "output_type": "stream",
     "text": [
      "Conv2d(1, 1, kernel_size=(2, 2), stride=(1, 1))\n",
      "<class 'torch.nn.modules.conv.Conv2d'>\n",
      "grad_input\n",
      "<class 'tuple'>\n",
      "tensor([[[[-0.0017,  0.0393,  0.0393,  0.0409],\n",
      "          [ 0.0482,  0.0901,  0.0901,  0.0419],\n",
      "          [ 0.0482,  0.0901,  0.0901,  0.0419],\n",
      "          [ 0.0498,  0.0508,  0.0508,  0.0010]]]])\n",
      "tensor([[[[-0.3048, -0.1899],\n",
      "          [-0.1726, -0.2280]]]])\n",
      "tensor([-1.])\n",
      "grad_output\n",
      "<class 'tuple'>\n",
      "tensor([[[[-0.1111, -0.1111, -0.1111],\n",
      "          [-0.1111, -0.1111, -0.1111],\n",
      "          [-0.1111, -0.1111, -0.1111]]]])\n",
      "\n",
      "ReLU()\n",
      "<class 'torch.nn.modules.activation.ReLU'>\n",
      "grad_input\n",
      "<class 'tuple'>\n",
      "tensor([[[[-0.0017,  0.0393,  0.0393,  0.0409],\n",
      "          [ 0.0482,  0.0901,  0.0000,  0.0000],\n",
      "          [ 0.0000,  0.0901,  0.0901,  0.0419],\n",
      "          [ 0.0000,  0.0508,  0.0508,  0.0010]]]])\n",
      "grad_output\n",
      "<class 'tuple'>\n",
      "tensor([[[[-0.0017,  0.0393,  0.0393,  0.0409],\n",
      "          [ 0.0482,  0.0901,  0.0901,  0.0419],\n",
      "          [ 0.0482,  0.0901,  0.0901,  0.0419],\n",
      "          [ 0.0498,  0.0508,  0.0508,  0.0010]]]])\n",
      "\n",
      "Conv2d(1, 1, kernel_size=(2, 2), stride=(1, 1))\n",
      "<class 'torch.nn.modules.conv.Conv2d'>\n",
      "grad_input\n",
      "<class 'tuple'>\n",
      "None\n",
      "tensor([[[[-0.2686, -0.4080],\n",
      "          [ 0.0913, -0.1909]]]])\n",
      "tensor([0.5806])\n",
      "grad_output\n",
      "<class 'tuple'>\n",
      "tensor([[[[-0.0017,  0.0393,  0.0393,  0.0409],\n",
      "          [ 0.0482,  0.0901,  0.0000,  0.0000],\n",
      "          [ 0.0000,  0.0901,  0.0901,  0.0419],\n",
      "          [ 0.0000,  0.0508,  0.0508,  0.0010]]]])\n",
      "\n"
     ]
    }
   ],
   "source": [
    "o4.backward()"
   ]
  },
  {
   "cell_type": "markdown",
   "metadata": {},
   "source": [
    "## RNN"
   ]
  },
  {
   "cell_type": "code",
   "execution_count": 4,
   "metadata": {},
   "outputs": [
    {
     "name": "stdout",
     "output_type": "stream",
     "text": [
      "RNN(5, 3, batch_first=True)\n",
      "<class 'torch.nn.modules.rnn.RNN'>\n",
      "forward_input\n",
      "<class 'tuple'>\n",
      "tensor([[[-0.4868, -0.6038, -0.5581,  0.6675, -0.1974],\n",
      "         [ 1.9428, -1.4017, -0.7626,  0.6312, -0.8991]]], requires_grad=True)\n",
      "forward_output\n",
      "<class 'tuple'>\n",
      "tensor([[[ 0.7737,  0.6712,  0.7200],\n",
      "         [ 0.9293,  0.0850, -0.2211]]], grad_fn=<TransposeBackward1>)\n",
      "tensor([[[ 0.9293,  0.0850, -0.2211]]], grad_fn=<StackBackward>)\n",
      "\n"
     ]
    }
   ],
   "source": [
    "torch.manual_seed(5)\n",
    "x = torch.randn(1, 2, 5).requires_grad_(True)\n",
    "rnn_layer = nn.RNN(5, 3, 1, batch_first=True)\n",
    "softmax = nn.Softmax(dim=1)\n",
    " \n",
    "rnn_layer.register_forward_hook(f_hook)\n",
    "# softmax.register_forward_hook(f_hook)\n",
    "rnn_layer.register_backward_hook(b_hook)\n",
    "# softmax.register_backward_hook(b_hook)\n",
    "rnn_layer.weight_hh_l0.register_hook(tensor_hook)\n",
    "rnn_layer.weight_ih_l0.register_hook(tensor_hook)\n",
    "o1, h1 = rnn_layer(x)\n",
    "o2 = softmax(h1.squeeze(1))\n",
    "grad = torch.FloatTensor([[1, 0, 0]])"
   ]
  },
  {
   "cell_type": "code",
   "execution_count": 5,
   "metadata": {},
   "outputs": [
    {
     "name": "stdout",
     "output_type": "stream",
     "text": [
      "RNN(5, 3, batch_first=True)\n",
      "<class 'torch.nn.modules.rnn.RNN'>\n",
      "grad_input\n",
      "<class 'tuple'>\n",
      "tensor([[[ 0.1754, -0.3417,  0.1662]],\n",
      "\n",
      "        [[-0.2137,  0.1231,  0.0906]]])\n",
      "grad_output\n",
      "<class 'tuple'>\n",
      "tensor([[[ 0.1754, -0.3417,  0.1662],\n",
      "         [-0.2137,  0.1231,  0.0906]]])\n",
      "\n",
      "<class 'torch.Tensor'>\n",
      "tensor([[-0.0225, -0.0196, -0.0210],\n",
      "        [ 0.0945,  0.0820,  0.0880],\n",
      "        [ 0.0667,  0.0579,  0.0621]])\n",
      "<class 'torch.Tensor'>\n",
      "tensor([[-0.0849,  0.0058, -0.0101,  0.0203,  0.0148],\n",
      "        [ 0.3266, -0.0606,  0.0091, -0.0452, -0.0737],\n",
      "        [ 0.1169, -0.1835, -0.1237,  0.1238, -0.0980]])\n"
     ]
    }
   ],
   "source": [
    "l = F.cross_entropy(o1.view(-1, 3), torch.LongTensor([1, 0]))\n",
    "l.backward()"
   ]
  },
  {
   "cell_type": "code",
   "execution_count": null,
   "metadata": {},
   "outputs": [],
   "source": []
  }
 ],
 "metadata": {
  "kernelspec": {
   "display_name": "Python 3",
   "language": "python",
   "name": "python3"
  },
  "language_info": {
   "codemirror_mode": {
    "name": "ipython",
    "version": 3
   },
   "file_extension": ".py",
   "mimetype": "text/x-python",
   "name": "python",
   "nbconvert_exporter": "python",
   "pygments_lexer": "ipython3",
   "version": "3.6.9"
  }
 },
 "nbformat": 4,
 "nbformat_minor": 2
}
