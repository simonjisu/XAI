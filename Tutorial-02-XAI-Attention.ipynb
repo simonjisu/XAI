{
 "cells": [
  {
   "cell_type": "code",
   "execution_count": 1,
   "metadata": {},
   "outputs": [],
   "source": [
    "# from pathlib import Path\n",
    "\n",
    "# import torch\n",
    "# import torch.nn as nn\n",
    "# import numpy as np\n",
    "# from src.models import resnet\n",
    "from src.utils import argument_parsing, Explorer\n",
    "# from src.trainsettings import ModelTranier\n",
    "import ipywidgets as widgets"
   ]
  },
  {
   "cell_type": "code",
   "execution_count": 2,
   "metadata": {},
   "outputs": [],
   "source": [
    "parser = argument_parsing(preparse=True)\n",
    "args_string = \\\n",
    "\"\"\"-pp  ../XAI\n",
    "-dp  ../data\n",
    "-rf  cifar10-eval-roar\n",
    "-dt  cifar10\n",
    "-et  roar\n",
    "-at  vanillagrad  inputgrad  guidedgrad  gradcam\n",
    "-mt  resnet  resnetcbam  resnetanr\n",
    "-rcd  mean\n",
    "-bs  128\n",
    "-ns  40\n",
    "-cuda\n",
    "-skip1\"\"\".replace(\"\\n\", \"  \").split(\"  \")\n",
    "args = parser.parse_args(args_string)"
   ]
  },
  {
   "cell_type": "markdown",
   "metadata": {},
   "source": [
    "# Attention Methods in XAI\n",
    "\n",
    "## TOC\n",
    "\n",
    "1. [Attention Modules](#Attention-Modules)\n",
    "    * [CBAM](#CBAM)\n",
    "    * [ANR](#ANR)\n",
    "2. [Evaluation](#Evaluation)\n",
    "\n",
    "---"
   ]
  },
  {
   "cell_type": "markdown",
   "metadata": {},
   "source": [
    "# Attention Modules\n",
    "\n",
    "## CBAM\n",
    "* [CBAM: Convolutional Block Attention Module](https://arxiv.org/abs/1807.06521)\n",
    "\n",
    "<figure class=\"image\">\n",
    "    <img src=\"https://drive.google.com/uc?id=1cMiIUUEgwAGxpCjawxfPnH2aQqXZxJfm\" alt=\"cbam\" width=\"640px\" height=\"320px\">\n",
    "    <figcaption></figcaption>\n",
    "</figure>\n",
    "\n",
    "\n",
    "Convolutional Block Attention Module contains 2 blocks: channel attention map $M_c=(C, 1, 1)$ and spatial attention map $M_s=(1, H, W)$\n",
    "\n",
    "$\\begin{aligned} F &\\in \\Bbb{R}^{C \\times H \\times W} \\\\ M_c &\\in \\Bbb{R}^{C \\times 1 \\times 1} \\\\ M_s &\\in \\Bbb{R}^{1 \\times H \\times W} \\end{aligned}$\n",
    "\n",
    "\n",
    "The whole process will be like\n",
    "\n",
    "$\\begin{aligned} F_1 &= M_c(F) \\otimes F \\\\ F_2 &= M_s(F_1) \\otimes F_1 \\end{aligned}$\n",
    "\n",
    "<figure class=\"image\">\n",
    "    <img src=\"https://drive.google.com/uc?id=1_9tqmaESkaPMNkA9fDfGbMDfTPmcY9ZA\" alt=\"cbam\" width=\"640px\" height=\"320px\">\n",
    "    <figcaption></figcaption>\n",
    "</figure>"
   ]
  },
  {
   "cell_type": "markdown",
   "metadata": {},
   "source": [
    "1. attention visualtization "
   ]
  },
  {
   "cell_type": "markdown",
   "metadata": {},
   "source": [
    "## ANR\n",
    "* [Attend and Rectify: a Gated Attention Mechanism for Fine-Grained Recovery](https://arxiv.org/abs/1807.07320)\n"
   ]
  },
  {
   "cell_type": "markdown",
   "metadata": {},
   "source": [
    "---"
   ]
  },
  {
   "cell_type": "code",
   "execution_count": 14,
   "metadata": {},
   "outputs": [
    {
     "data": {
      "application/vnd.jupyter.widget-view+json": {
       "model_id": "e8ed5f3fc54040af97fe7adef8e03ff8",
       "version_major": 2,
       "version_minor": 0
      },
      "text/plain": [
       "HBox(children=(VBox(children=(Dropdown(description='Model:', options=('resnet', 'resnetcbam', 'resnetanr'), st…"
      ]
     },
     "metadata": {},
     "output_type": "display_data"
    },
    {
     "data": {
      "application/vnd.jupyter.widget-view+json": {
       "model_id": "5aaa6c1a7b7a48f09cdc056cab84043d",
       "version_major": 2,
       "version_minor": 0
      },
      "text/plain": [
       "Output()"
      ]
     },
     "metadata": {},
     "output_type": "display_data"
    }
   ],
   "source": [
    "explorer = Explorer(args)\n",
    "explorer.show()"
   ]
  },
  {
   "cell_type": "markdown",
   "metadata": {},
   "source": [
    "# Evaluation\n",
    "\n",
    "1. test accuracy roar\n",
    "2. delete percentage masking\n",
    "3. what?"
   ]
  }
 ],
 "metadata": {
  "kernelspec": {
   "display_name": "Python(venv)",
   "language": "python",
   "name": "venv"
  },
  "language_info": {
   "codemirror_mode": {
    "name": "ipython",
    "version": 3
   },
   "file_extension": ".py",
   "mimetype": "text/x-python",
   "name": "python",
   "nbconvert_exporter": "python",
   "pygments_lexer": "ipython3",
   "version": "3.6.8"
  }
 },
 "nbformat": 4,
 "nbformat_minor": 4
}
