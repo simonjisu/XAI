{
 "cells": [
  {
   "cell_type": "code",
   "execution_count": 3,
   "metadata": {},
   "outputs": [],
   "source": [
    "# from torchvision import datasets, transforms\n",
    "# def build_dataset():\n",
    "#     train_dataset = datasets.CIFAR10(\n",
    "#         root=\"../data\",                                \n",
    "#         train=True,\n",
    "#         transform=transforms.ToTensor(),\n",
    "#         download=True)\n",
    "#     test_dataset = datasets.CIFAR10(\n",
    "#         root=\"../data\", \n",
    "#         train=False,\n",
    "#         transform=transforms.ToTensor(),\n",
    "#         download=True)\n",
    "#     train_loader = torch.utils.data.DataLoader(\n",
    "#         train_dataset,\n",
    "#         batch_size=64, \n",
    "#         shuffle=True)\n",
    "#     test_loader = torch.utils.data.DataLoader(\n",
    "#         test_dataset,\n",
    "#         batch_size=64, \n",
    "#         shuffle=True)\n",
    "#     return train_dataset, test_dataset, train_loader, test_loader\n",
    "# train_dataset = datasets.VOCDetection(\"../data\", image_set=\"train\", \n",
    "#                                       transform=transforms.ToTensor(), \n",
    "#                                       download=True)\n",
    "# train_loader = torch.utils.data.DataLoader(\n",
    "#         train_dataset,\n",
    "#         batch_size=64, \n",
    "#         shuffle=True)"
   ]
  },
  {
   "cell_type": "code",
   "execution_count": 1,
   "metadata": {},
   "outputs": [],
   "source": [
    "import torch\n",
    "import torch.nn as nn\n",
    "from torchxai.base import XaiBase, XaiHook, XaiModel\n",
    "from collections import OrderedDict\n",
    "from src.models import CnnMnist, ResNetMnist, ResNetMnistCBAM\n",
    "import matplotlib.pyplot as plt"
   ]
  },
  {
   "cell_type": "code",
   "execution_count": 2,
   "metadata": {},
   "outputs": [
    {
     "name": "stdout",
     "output_type": "stream",
     "text": [
      "model\n",
      "torch.Size([1, 10])\n",
      "model2\n",
      "torch.Size([1, 10])\n",
      "model3\n",
      "torch.Size([1, 10])\n"
     ]
    }
   ],
   "source": [
    "model = CnnMnist()\n",
    "model2 = ResNetMnist()\n",
    "model3 = ResNetMnistCBAM()\n",
    "x = torch.randn(1, 1, 28, 28)\n",
    "print(\"model\")\n",
    "o = model(x)\n",
    "print(o.size())\n",
    "print(\"model2\")\n",
    "o = model2(x)\n",
    "print(o.size())\n",
    "print(\"model3\")\n",
    "o = model3(x)\n",
    "print(o.size())"
   ]
  },
  {
   "cell_type": "markdown",
   "metadata": {},
   "source": [
    "---"
   ]
  },
  {
   "cell_type": "code",
   "execution_count": 3,
   "metadata": {},
   "outputs": [],
   "source": [
    "from torchxai.model import GradCAM, DeconvNet, VanillaGrad, InputGrad, GuidedGrad, LRP\n",
    "import matplotlib.pyplot as plt"
   ]
  },
  {
   "cell_type": "code",
   "execution_count": 4,
   "metadata": {},
   "outputs": [],
   "source": [
    "kwargs_packs = {\n",
    "    \"mnist\": {\n",
    "        \"gradcam\": {\n",
    "            \"cnn\": dict(layers_name=None, norm_mode=1),\n",
    "            \"resnet\": dict(layers_name=\"relu_last\", norm_mode=1),\n",
    "            \"resnetcbam\": dict(layers_name=\"relu_last\", norm_mode=1)\n",
    "        },\n",
    "        \"guidedgrad\": {\n",
    "            \"cnn\": dict(module_name=\"convs\", act=nn.ReLU),\n",
    "            \"resnet\": dict(module_name=[\"resnet_layers\", \"relu\"], act=nn.ReLU),\n",
    "            \"resnetcbam\": dict(module_name=[\"resnet_layers\", \"relu\"], act=nn.ReLU)\n",
    "        },\n",
    "        \"relavance\": {\n",
    "            \"cnn\": dict(use_rho=False)\n",
    "        },\n",
    "        \"deconv\": {\n",
    "            \"cnn\": dict(module_name=\"convs\")\n",
    "        }, \n",
    "        \"vanillagrad\": None, \n",
    "        \"inputgrad\": None\n",
    "    },\n",
    "    \"cifar10\": {\n",
    "        \"gradcam\": {\n",
    "            \"resnet\": dict(layers_name=\"relu_last\", norm_mode=3),\n",
    "            \"resnetcbam\": dict(layers_name=\"relu_last\", norm_mode=3)\n",
    "        },\n",
    "        \"guidedgrad\": {\n",
    "            \"resnet\": dict(module_name=[\"resnet_layers\", \"relu\"], act=nn.ReLU),\n",
    "            \"resnetcbam\": dict(module_name=[\"resnet_layers\", \"relu\"], act=nn.ReLU)\n",
    "        },\n",
    "        \"vanillagrad\": None, \n",
    "        \"inputgrad\": None\n",
    "    }\n",
    "}\n",
    "\n",
    "def get_kwargs(data_type, a_type, m_type, kwargs_packs):\n",
    "    pre_kwargs = kwargs_packs[data_type].get(a_type)\n",
    "    if pre_kwargs is not None:\n",
    "        kwargs = pre_kwargs.get(m_type)\n",
    "    else:\n",
    "        kwargs = {\"<none>\": None}\n",
    "    return kwargs"
   ]
  },
  {
   "cell_type": "code",
   "execution_count": 5,
   "metadata": {},
   "outputs": [],
   "source": [
    "data_type = \"mnist\"\n",
    "x = torch.randn(1, 1, 28, 28)\n",
    "targets = torch.LongTensor([2])"
   ]
  },
  {
   "cell_type": "markdown",
   "metadata": {},
   "source": [
    "## GradCAM"
   ]
  },
  {
   "cell_type": "code",
   "execution_count": 6,
   "metadata": {},
   "outputs": [
    {
     "data": {
      "image/png": "[encoded data removed]",
      "text/plain": [
       "<Figure size 432x288 with 3 Axes>"
      ]
     },
     "metadata": {
      "needs_background": "light"
     },
     "output_type": "display_data"
    }
   ],
   "source": [
    "figure, axes = plt.subplots(1, 3)\n",
    "a_type = \"gradcam\"\n",
    "for m_type, m, ax in zip([\"cnn\", \"resnet\", \"resnetcbam\"], \n",
    "                         [model, model2, model3], axes):\n",
    "    kwargs = get_kwargs(data_type, a_type, m_type, kwargs_packs)\n",
    "    gradcam_model = GradCAM(m, **kwargs)\n",
    "    gradcam = gradcam_model.get_attribution(x, targets)\n",
    "    ax.imshow(gradcam.squeeze())\n",
    "    ax.set_title(m_type)\n",
    "plt.show()"
   ]
  },
  {
   "cell_type": "markdown",
   "metadata": {},
   "source": [
    "## GuidedGrad"
   ]
  },
  {
   "cell_type": "code",
   "execution_count": 61,
   "metadata": {},
   "outputs": [],
   "source": [
    "class GuidedReLU(XaiHook):\n",
    "    \"\"\"GuidedReLU\"\"\"\n",
    "    def __init__(self, module):\n",
    "        super(GuidedReLU, self).__init__(module)\n",
    "        self.register_hook(backward=False)\n",
    "        self.register_hook(backward=True, hook_fn=self.b_hook)\n",
    "\n",
    "    def b_hook(self, m, i, o):\n",
    "        \"\"\"\n",
    "        backward hook\n",
    "        i: (input,) -> backward output\n",
    "        o: (output,) -> backward input\n",
    "        \"\"\"\n",
    "        deconv_grad = o[0].clamp(min=0)  # o: backward input\n",
    "        forward_output = self.o\n",
    "        forward_mask = forward_output.ne(0.0).type_as(forward_output)\n",
    "        grad_in = deconv_grad * forward_mask\n",
    "        return grad_in\n",
    "    \n",
    "class GuidedGrad(XaiModel):\n",
    "    \"\"\"GuidedGrad\"\"\"\n",
    "    def __init__(self, model, module_name=None, act=nn.ReLU, **kwargs):\n",
    "        \"\"\"\n",
    "        \"\"\"\n",
    "        super(GuidedGrad, self).__init__(model)\n",
    "        self.act = act\n",
    "        if not isinstance(module_name, list):\n",
    "            module_name = [module_name]\n",
    "        self.all_hooks = []\n",
    "        for n_name in module_name:\n",
    "            self.register_guided_hooks(n_name)\n",
    "\n",
    "    def register_guided_hooks(self, n_name):\n",
    "        modules = self.model._modules[n_name]\n",
    "        if isinstance(modules, nn.Sequential):\n",
    "            for i, layer in enumerate(modules):\n",
    "                if isinstance(layer, self.act):\n",
    "                    # change layer to Guided Layer\n",
    "                    modules[i] = GuidedReLU(layer)\n",
    "                    self.all_hooks.append(modules[i])\n",
    "        else:\n",
    "            if isinstance(modules, self.act):\n",
    "                self.model._modules[n_name] = GuidedGrad(modules)\n",
    "\n",
    "\n",
    "    def get_attribution(self, x, targets):\n",
    "        x.requires_grad_(True)\n",
    "        output = self.model(x)\n",
    "        grad = self._one_hot(targets, module_name=\"fc\")\n",
    "        output.backward(grad)\n",
    "        x_grad = x.grad.data.clone()\n",
    "        x.requires_grad_(False)\n",
    "        return x_grad"
   ]
  },
  {
   "cell_type": "code",
   "execution_count": 62,
   "metadata": {},
   "outputs": [],
   "source": [
    "for m_type, m, ax in zip([\"cnn\", \"resnet\", \"resnetcbam\"], \n",
    "                         [model, model2, model3], axes):\n",
    "    kwargs = get_kwargs(data_type, a_type, m_type, kwargs_packs)\n",
    "    \n",
    "    if m_type == \"resnet\":\n",
    "        break"
   ]
  },
  {
   "cell_type": "code",
   "execution_count": 63,
   "metadata": {
    "scrolled": false
   },
   "outputs": [
    {
     "ename": "KeyError",
     "evalue": "None",
     "output_type": "error",
     "traceback": [
      "\u001b[0;31m---------------------------------------------------------------------------\u001b[0m",
      "\u001b[0;31mKeyError\u001b[0m                                  Traceback (most recent call last)",
      "\u001b[0;32m<ipython-input-63-ecde905e6fdd>\u001b[0m in \u001b[0;36m<module>\u001b[0;34m\u001b[0m\n\u001b[0;32m----> 1\u001b[0;31m \u001b[0ma\u001b[0m \u001b[0;34m=\u001b[0m \u001b[0mGuidedGrad\u001b[0m\u001b[0;34m(\u001b[0m\u001b[0mm\u001b[0m\u001b[0;34m,\u001b[0m \u001b[0;34m**\u001b[0m\u001b[0mkwargs\u001b[0m\u001b[0;34m)\u001b[0m\u001b[0;34m\u001b[0m\u001b[0;34m\u001b[0m\u001b[0m\n\u001b[0m",
      "\u001b[0;32m<ipython-input-61-4783c63540e5>\u001b[0m in \u001b[0;36m__init__\u001b[0;34m(self, model, module_name, act, **kwargs)\u001b[0m\n\u001b[1;32m     29\u001b[0m         \u001b[0mself\u001b[0m\u001b[0;34m.\u001b[0m\u001b[0mall_hooks\u001b[0m \u001b[0;34m=\u001b[0m \u001b[0;34m[\u001b[0m\u001b[0;34m]\u001b[0m\u001b[0;34m\u001b[0m\u001b[0;34m\u001b[0m\u001b[0m\n\u001b[1;32m     30\u001b[0m         \u001b[0;32mfor\u001b[0m \u001b[0mn_name\u001b[0m \u001b[0;32min\u001b[0m \u001b[0mmodule_name\u001b[0m\u001b[0;34m:\u001b[0m\u001b[0;34m\u001b[0m\u001b[0;34m\u001b[0m\u001b[0m\n\u001b[0;32m---> 31\u001b[0;31m             \u001b[0mself\u001b[0m\u001b[0;34m.\u001b[0m\u001b[0mregister_guided_hooks\u001b[0m\u001b[0;34m(\u001b[0m\u001b[0mn_name\u001b[0m\u001b[0;34m)\u001b[0m\u001b[0;34m\u001b[0m\u001b[0;34m\u001b[0m\u001b[0m\n\u001b[0m\u001b[1;32m     32\u001b[0m \u001b[0;34m\u001b[0m\u001b[0m\n\u001b[1;32m     33\u001b[0m     \u001b[0;32mdef\u001b[0m \u001b[0mregister_guided_hooks\u001b[0m\u001b[0;34m(\u001b[0m\u001b[0mself\u001b[0m\u001b[0;34m,\u001b[0m \u001b[0mn_name\u001b[0m\u001b[0;34m)\u001b[0m\u001b[0;34m:\u001b[0m\u001b[0;34m\u001b[0m\u001b[0;34m\u001b[0m\u001b[0m\n",
      "\u001b[0;32m<ipython-input-61-4783c63540e5>\u001b[0m in \u001b[0;36mregister_guided_hooks\u001b[0;34m(self, n_name)\u001b[0m\n\u001b[1;32m     41\u001b[0m         \u001b[0;32melse\u001b[0m\u001b[0;34m:\u001b[0m\u001b[0;34m\u001b[0m\u001b[0;34m\u001b[0m\u001b[0m\n\u001b[1;32m     42\u001b[0m             \u001b[0;32mif\u001b[0m \u001b[0misinstance\u001b[0m\u001b[0;34m(\u001b[0m\u001b[0mmodules\u001b[0m\u001b[0;34m,\u001b[0m \u001b[0mself\u001b[0m\u001b[0;34m.\u001b[0m\u001b[0mact\u001b[0m\u001b[0;34m)\u001b[0m\u001b[0;34m:\u001b[0m\u001b[0;34m\u001b[0m\u001b[0;34m\u001b[0m\u001b[0m\n\u001b[0;32m---> 43\u001b[0;31m                 \u001b[0mself\u001b[0m\u001b[0;34m.\u001b[0m\u001b[0mmodel\u001b[0m\u001b[0;34m.\u001b[0m\u001b[0m_modules\u001b[0m\u001b[0;34m[\u001b[0m\u001b[0mn_name\u001b[0m\u001b[0;34m]\u001b[0m \u001b[0;34m=\u001b[0m \u001b[0mGuidedGrad\u001b[0m\u001b[0;34m(\u001b[0m\u001b[0mmodules\u001b[0m\u001b[0;34m)\u001b[0m\u001b[0;34m\u001b[0m\u001b[0;34m\u001b[0m\u001b[0m\n\u001b[0m\u001b[1;32m     44\u001b[0m \u001b[0;34m\u001b[0m\u001b[0m\n\u001b[1;32m     45\u001b[0m \u001b[0;34m\u001b[0m\u001b[0m\n",
      "\u001b[0;32m<ipython-input-61-4783c63540e5>\u001b[0m in \u001b[0;36m__init__\u001b[0;34m(self, model, module_name, act, **kwargs)\u001b[0m\n\u001b[1;32m     29\u001b[0m         \u001b[0mself\u001b[0m\u001b[0;34m.\u001b[0m\u001b[0mall_hooks\u001b[0m \u001b[0;34m=\u001b[0m \u001b[0;34m[\u001b[0m\u001b[0;34m]\u001b[0m\u001b[0;34m\u001b[0m\u001b[0;34m\u001b[0m\u001b[0m\n\u001b[1;32m     30\u001b[0m         \u001b[0;32mfor\u001b[0m \u001b[0mn_name\u001b[0m \u001b[0;32min\u001b[0m \u001b[0mmodule_name\u001b[0m\u001b[0;34m:\u001b[0m\u001b[0;34m\u001b[0m\u001b[0;34m\u001b[0m\u001b[0m\n\u001b[0;32m---> 31\u001b[0;31m             \u001b[0mself\u001b[0m\u001b[0;34m.\u001b[0m\u001b[0mregister_guided_hooks\u001b[0m\u001b[0;34m(\u001b[0m\u001b[0mn_name\u001b[0m\u001b[0;34m)\u001b[0m\u001b[0;34m\u001b[0m\u001b[0;34m\u001b[0m\u001b[0m\n\u001b[0m\u001b[1;32m     32\u001b[0m \u001b[0;34m\u001b[0m\u001b[0m\n\u001b[1;32m     33\u001b[0m     \u001b[0;32mdef\u001b[0m \u001b[0mregister_guided_hooks\u001b[0m\u001b[0;34m(\u001b[0m\u001b[0mself\u001b[0m\u001b[0;34m,\u001b[0m \u001b[0mn_name\u001b[0m\u001b[0;34m)\u001b[0m\u001b[0;34m:\u001b[0m\u001b[0;34m\u001b[0m\u001b[0;34m\u001b[0m\u001b[0m\n",
      "\u001b[0;32m<ipython-input-61-4783c63540e5>\u001b[0m in \u001b[0;36mregister_guided_hooks\u001b[0;34m(self, n_name)\u001b[0m\n\u001b[1;32m     32\u001b[0m \u001b[0;34m\u001b[0m\u001b[0m\n\u001b[1;32m     33\u001b[0m     \u001b[0;32mdef\u001b[0m \u001b[0mregister_guided_hooks\u001b[0m\u001b[0;34m(\u001b[0m\u001b[0mself\u001b[0m\u001b[0;34m,\u001b[0m \u001b[0mn_name\u001b[0m\u001b[0;34m)\u001b[0m\u001b[0;34m:\u001b[0m\u001b[0;34m\u001b[0m\u001b[0;34m\u001b[0m\u001b[0m\n\u001b[0;32m---> 34\u001b[0;31m         \u001b[0mmodules\u001b[0m \u001b[0;34m=\u001b[0m \u001b[0mself\u001b[0m\u001b[0;34m.\u001b[0m\u001b[0mmodel\u001b[0m\u001b[0;34m.\u001b[0m\u001b[0m_modules\u001b[0m\u001b[0;34m[\u001b[0m\u001b[0mn_name\u001b[0m\u001b[0;34m]\u001b[0m\u001b[0;34m\u001b[0m\u001b[0;34m\u001b[0m\u001b[0m\n\u001b[0m\u001b[1;32m     35\u001b[0m         \u001b[0;32mif\u001b[0m \u001b[0misinstance\u001b[0m\u001b[0;34m(\u001b[0m\u001b[0mmodules\u001b[0m\u001b[0;34m,\u001b[0m \u001b[0mnn\u001b[0m\u001b[0;34m.\u001b[0m\u001b[0mSequential\u001b[0m\u001b[0;34m)\u001b[0m\u001b[0;34m:\u001b[0m\u001b[0;34m\u001b[0m\u001b[0;34m\u001b[0m\u001b[0m\n\u001b[1;32m     36\u001b[0m             \u001b[0;32mfor\u001b[0m \u001b[0mi\u001b[0m\u001b[0;34m,\u001b[0m \u001b[0mlayer\u001b[0m \u001b[0;32min\u001b[0m \u001b[0menumerate\u001b[0m\u001b[0;34m(\u001b[0m\u001b[0mmodules\u001b[0m\u001b[0;34m)\u001b[0m\u001b[0;34m:\u001b[0m\u001b[0;34m\u001b[0m\u001b[0;34m\u001b[0m\u001b[0m\n",
      "\u001b[0;31mKeyError\u001b[0m: None"
     ]
    }
   ],
   "source": [
    "a = GuidedGrad(m, **kwargs)"
   ]
  },
  {
   "cell_type": "code",
   "execution_count": 9,
   "metadata": {},
   "outputs": [
    {
     "ename": "TypeError",
     "evalue": "__init__() missing 1 required positional argument: 'module_name'",
     "output_type": "error",
     "traceback": [
      "\u001b[0;31m---------------------------------------------------------------------------\u001b[0m",
      "\u001b[0;31mTypeError\u001b[0m                                 Traceback (most recent call last)",
      "\u001b[0;32m<ipython-input-9-b0020a91e921>\u001b[0m in \u001b[0;36m<module>\u001b[0;34m\u001b[0m\n\u001b[1;32m      4\u001b[0m                          [model, model2, model3], axes):\n\u001b[1;32m      5\u001b[0m     \u001b[0mkwargs\u001b[0m \u001b[0;34m=\u001b[0m \u001b[0mget_kwargs\u001b[0m\u001b[0;34m(\u001b[0m\u001b[0mdata_type\u001b[0m\u001b[0;34m,\u001b[0m \u001b[0ma_type\u001b[0m\u001b[0;34m,\u001b[0m \u001b[0mm_type\u001b[0m\u001b[0;34m,\u001b[0m \u001b[0mkwargs_packs\u001b[0m\u001b[0;34m)\u001b[0m\u001b[0;34m\u001b[0m\u001b[0;34m\u001b[0m\u001b[0m\n\u001b[0;32m----> 6\u001b[0;31m     \u001b[0mguided_model\u001b[0m \u001b[0;34m=\u001b[0m \u001b[0mGuidedGrad\u001b[0m\u001b[0;34m(\u001b[0m\u001b[0mm\u001b[0m\u001b[0;34m,\u001b[0m \u001b[0;34m**\u001b[0m\u001b[0mkwargs\u001b[0m\u001b[0;34m)\u001b[0m\u001b[0;34m\u001b[0m\u001b[0;34m\u001b[0m\u001b[0m\n\u001b[0m\u001b[1;32m      7\u001b[0m     \u001b[0mgrad\u001b[0m \u001b[0;34m=\u001b[0m \u001b[0mguided_model\u001b[0m\u001b[0;34m.\u001b[0m\u001b[0mget_attribution\u001b[0m\u001b[0;34m(\u001b[0m\u001b[0mx\u001b[0m\u001b[0;34m,\u001b[0m \u001b[0mtargets\u001b[0m\u001b[0;34m)\u001b[0m\u001b[0;34m\u001b[0m\u001b[0;34m\u001b[0m\u001b[0m\n\u001b[1;32m      8\u001b[0m     \u001b[0max\u001b[0m\u001b[0;34m.\u001b[0m\u001b[0mimshow\u001b[0m\u001b[0;34m(\u001b[0m\u001b[0mgrad\u001b[0m\u001b[0;34m.\u001b[0m\u001b[0msqueeze\u001b[0m\u001b[0;34m(\u001b[0m\u001b[0;34m)\u001b[0m\u001b[0;34m)\u001b[0m\u001b[0;34m\u001b[0m\u001b[0;34m\u001b[0m\u001b[0m\n",
      "\u001b[0;32m~/code/XAI/torchxai/model/gradient.py\u001b[0m in \u001b[0;36m__init__\u001b[0;34m(self, model, module_name, act, **kwargs)\u001b[0m\n\u001b[1;32m     71\u001b[0m         \u001b[0mself\u001b[0m\u001b[0;34m.\u001b[0m\u001b[0mall_hooks\u001b[0m \u001b[0;34m=\u001b[0m \u001b[0;34m[\u001b[0m\u001b[0;34m]\u001b[0m\u001b[0;34m\u001b[0m\u001b[0;34m\u001b[0m\u001b[0m\n\u001b[1;32m     72\u001b[0m         \u001b[0;32mfor\u001b[0m \u001b[0mn_name\u001b[0m \u001b[0;32min\u001b[0m \u001b[0mmodule_name\u001b[0m\u001b[0;34m:\u001b[0m\u001b[0;34m\u001b[0m\u001b[0;34m\u001b[0m\u001b[0m\n\u001b[0;32m---> 73\u001b[0;31m             \u001b[0mself\u001b[0m\u001b[0;34m.\u001b[0m\u001b[0mregister_guided_hooks\u001b[0m\u001b[0;34m(\u001b[0m\u001b[0mn_name\u001b[0m\u001b[0;34m)\u001b[0m\u001b[0;34m\u001b[0m\u001b[0;34m\u001b[0m\u001b[0m\n\u001b[0m\u001b[1;32m     74\u001b[0m \u001b[0;34m\u001b[0m\u001b[0m\n\u001b[1;32m     75\u001b[0m     \u001b[0;32mdef\u001b[0m \u001b[0mregister_guided_hooks\u001b[0m\u001b[0;34m(\u001b[0m\u001b[0mself\u001b[0m\u001b[0;34m,\u001b[0m \u001b[0mn_name\u001b[0m\u001b[0;34m)\u001b[0m\u001b[0;34m:\u001b[0m\u001b[0;34m\u001b[0m\u001b[0;34m\u001b[0m\u001b[0m\n",
      "\u001b[0;32m~/code/XAI/torchxai/model/gradient.py\u001b[0m in \u001b[0;36mregister_guided_hooks\u001b[0;34m(self, n_name)\u001b[0m\n\u001b[1;32m     83\u001b[0m         \u001b[0;32melse\u001b[0m\u001b[0;34m:\u001b[0m\u001b[0;34m\u001b[0m\u001b[0;34m\u001b[0m\u001b[0m\n\u001b[1;32m     84\u001b[0m             \u001b[0;32mif\u001b[0m \u001b[0misinstance\u001b[0m\u001b[0;34m(\u001b[0m\u001b[0mmodules\u001b[0m\u001b[0;34m,\u001b[0m \u001b[0mself\u001b[0m\u001b[0;34m.\u001b[0m\u001b[0mact\u001b[0m\u001b[0;34m)\u001b[0m\u001b[0;34m:\u001b[0m\u001b[0;34m\u001b[0m\u001b[0;34m\u001b[0m\u001b[0m\n\u001b[0;32m---> 85\u001b[0;31m                 \u001b[0mself\u001b[0m\u001b[0;34m.\u001b[0m\u001b[0mmodel\u001b[0m\u001b[0;34m.\u001b[0m\u001b[0m_modules\u001b[0m\u001b[0;34m[\u001b[0m\u001b[0mn_name\u001b[0m\u001b[0;34m]\u001b[0m \u001b[0;34m=\u001b[0m \u001b[0mGuidedGrad\u001b[0m\u001b[0;34m(\u001b[0m\u001b[0mmodules\u001b[0m\u001b[0;34m)\u001b[0m\u001b[0;34m\u001b[0m\u001b[0;34m\u001b[0m\u001b[0m\n\u001b[0m\u001b[1;32m     86\u001b[0m \u001b[0;34m\u001b[0m\u001b[0m\n\u001b[1;32m     87\u001b[0m \u001b[0;34m\u001b[0m\u001b[0m\n",
      "\u001b[0;31mTypeError\u001b[0m: __init__() missing 1 required positional argument: 'module_name'"
     ]
    },
    {
     "data": {
      "image/png": "[encoded data removed]",
      "text/plain": [
       "<Figure size 432x288 with 3 Axes>"
      ]
     },
     "metadata": {
      "needs_background": "light"
     },
     "output_type": "display_data"
    }
   ],
   "source": [
    "figure, axes = plt.subplots(1, 3)\n",
    "a_type = \"guidedgrad\"\n",
    "for m_type, m, ax in zip([\"cnn\", \"resnet\", \"resnetcbam\"], \n",
    "                         [model, model2, model3], axes):\n",
    "    kwargs = get_kwargs(data_type, a_type, m_type, kwargs_packs)\n",
    "    guided_model = GuidedGrad(m, **kwargs)\n",
    "    grad = guided_model.get_attribution(x, targets)\n",
    "    ax.imshow(grad.squeeze())\n",
    "    ax.set_title(m_type)\n",
    "plt.show()"
   ]
  },
  {
   "cell_type": "markdown",
   "metadata": {},
   "source": [
    "## VanillaGrad"
   ]
  },
  {
   "cell_type": "code",
   "execution_count": 7,
   "metadata": {},
   "outputs": [
    {
     "data": {
      "image/png": "[encoded data removed]",
      "text/plain": [
       "<Figure size 432x288 with 3 Axes>"
      ]
     },
     "metadata": {
      "needs_background": "light"
     },
     "output_type": "display_data"
    }
   ],
   "source": [
    "figure, axes = plt.subplots(1, 3)\n",
    "x = torch.randn(1, 1, 28, 28)\n",
    "targets = torch.LongTensor([2])\n",
    "a_type = \"vanillagrad\"\n",
    "for m_type, m, ax in zip([\"cnn\", \"resnet\", \"resnetcbam\"], \n",
    "                         [model, model2, model3], axes):\n",
    "    kwargs = get_kwargs(a_type, m_type, kwargs_packs)\n",
    "    vanillagrad = VanillaGrad(m, **kwargs)\n",
    "    grad = guided_model.get_attribution(x, targets)\n",
    "    ax.imshow(grad.squeeze())\n",
    "    ax.set_title(m_type)\n",
    "plt.show()"
   ]
  },
  {
   "cell_type": "markdown",
   "metadata": {},
   "source": [
    "## InputGrad"
   ]
  },
  {
   "cell_type": "code",
   "execution_count": 8,
   "metadata": {},
   "outputs": [
    {
     "data": {
      "image/png": "[encoded data removed]",
      "text/plain": [
       "<Figure size 432x288 with 3 Axes>"
      ]
     },
     "metadata": {
      "needs_background": "light"
     },
     "output_type": "display_data"
    }
   ],
   "source": [
    "figure, axes = plt.subplots(1, 3)\n",
    "x = torch.randn(1, 1, 28, 28)\n",
    "targets = torch.LongTensor([2])\n",
    "a_type = \"inputgrad\"\n",
    "for m_type, m, ax in zip([\"cnn\", \"resnet\", \"resnetcbam\"], \n",
    "                         [model, model2, model3], axes):\n",
    "    kwargs = get_kwargs(a_type, m_type, kwargs_packs)\n",
    "    gradinput = InputGrad(m, **kwargs)\n",
    "    grad = gradinput.get_attribution(x, targets)\n",
    "    ax.imshow(grad.squeeze())\n",
    "    ax.set_title(m_type)\n",
    "plt.show()"
   ]
  },
  {
   "cell_type": "markdown",
   "metadata": {},
   "source": [
    "## DeconvNet"
   ]
  },
  {
   "cell_type": "code",
   "execution_count": 9,
   "metadata": {},
   "outputs": [
    {
     "data": {
      "image/png": "[encoded data removed]",
      "text/plain": [
       "<Figure size 432x288 with 1 Axes>"
      ]
     },
     "metadata": {
      "needs_background": "light"
     },
     "output_type": "display_data"
    }
   ],
   "source": [
    "a_type = \"deconv\"\n",
    "m_type = \"cnn\"\n",
    "kwargs = get_kwargs(a_type, m_type, kwargs_packs)\n",
    "deconvnet = DeconvNet(model, **kwargs)\n",
    "deconv = deconvnet.get_attribution(x, targets)\n",
    "plt.imshow(deconv.squeeze())\n",
    "plt.show()"
   ]
  },
  {
   "cell_type": "markdown",
   "metadata": {},
   "source": [
    "## LRP"
   ]
  },
  {
   "cell_type": "code",
   "execution_count": 10,
   "metadata": {},
   "outputs": [
    {
     "data": {
      "image/png": "[encoded data removed]",
      "text/plain": [
       "<Figure size 432x288 with 1 Axes>"
      ]
     },
     "metadata": {
      "needs_background": "light"
     },
     "output_type": "display_data"
    }
   ],
   "source": [
    "lrp_model = LRP(model)\n",
    "lrp = lrp_model.get_attribution(x, targets)\n",
    "plt.imshow(lrp.squeeze())\n",
    "plt.show()"
   ]
  },
  {
   "cell_type": "code",
   "execution_count": null,
   "metadata": {},
   "outputs": [],
   "source": []
  }
 ],
 "metadata": {
  "kernelspec": {
   "display_name": "Python(venv)",
   "language": "python",
   "name": "venv"
  },
  "language_info": {
   "codemirror_mode": {
    "name": "ipython",
    "version": 3
   },
   "file_extension": ".py",
   "mimetype": "text/x-python",
   "name": "python",
   "nbconvert_exporter": "python",
   "pygments_lexer": "ipython3",
   "version": "3.6.8"
  }
 },
 "nbformat": 4,
 "nbformat_minor": 2
}
