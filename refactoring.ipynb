{
 "cells": [
  {
   "cell_type": "code",
   "execution_count": 1,
   "metadata": {},
   "outputs": [],
   "source": [
    "import torch\n",
    "import torch.nn as nn\n",
    "import torch.nn.functional as F\n",
    "import torch.optim as optim\n",
    "from torchxai.base import XaiBase, XaiHook, XaiModel\n",
    "from collections import OrderedDict\n",
    "from src.models import CnnMnist, ResNetMnist, ResNetMnistCBAM, ResNetMnistANR, ResNetCifar10, ResNetCifar10CBAM, ResNetCifar10ANR\n",
    "from torchxai.model import VanillaGrad\n",
    "import matplotlib.pyplot as plt"
   ]
  },
  {
   "cell_type": "code",
   "execution_count": 2,
   "metadata": {},
   "outputs": [],
   "source": [
    "from src.trainsettings import ModelTranier\n",
    "from src.utils import argument_parsing"
   ]
  },
  {
   "cell_type": "code",
   "execution_count": 3,
   "metadata": {},
   "outputs": [],
   "source": [
    "from pathlib import Path"
   ]
  },
  {
   "cell_type": "code",
   "execution_count": 5,
   "metadata": {},
   "outputs": [],
   "source": [
    "from src.utils import argument_parsing, Explorer\n",
    "\n",
    "mnist_parser = argument_parsing(preparse=True)\n",
    "mnist_args_string = \\\n",
    "\"\"\"-pp  ../XAI\n",
    "-dp  ../data\n",
    "-rf  mnist-resnetsmall-kar-eval\n",
    "-dt  mnist\n",
    "-et  kar\n",
    "-at  random  vanillagrad  inputgrad  guidedgrad  gradcam\n",
    "-mt  resnet  resnetcbam  resnetanr\n",
    "-bs  256\n",
    "-ns  10\n",
    "-down\"\"\".replace(\"\\n\", \"  \").split(\"  \")\n",
    "mnist_args = mnist_parser.parse_args(mnist_args_string)\n",
    "\n",
    "cifar10_parser = argument_parsing(preparse=True)\n",
    "cifar10_args_string = \\\n",
    "\"\"\"-pp  ../XAI\n",
    "-dp  ../data\n",
    "-rf  cifar10-resnetsmall-roar-eval\n",
    "-dt  cifar10\n",
    "-et  roar\n",
    "-at  random  vanillagrad  inputgrad  guidedgrad  gradcam\n",
    "-mt  resnet  resnetcbam  resnetanr\n",
    "-bs  256\n",
    "-ns  30\n",
    "-down\"\"\".replace(\"\\n\", \"  \").split(\"  \")\n",
    "cifar10_args = cifar10_parser.parse_args(cifar10_args_string)"
   ]
  },
  {
   "cell_type": "code",
   "execution_count": 6,
   "metadata": {},
   "outputs": [],
   "source": [
    "torch.manual_seed(args.seed)\n",
    "train_dataset, test_dataset, train_loader1, test_loader1 = trainer.build_dataset(args, shuffle=False)"
   ]
  },
  {
   "cell_type": "code",
   "execution_count": 7,
   "metadata": {},
   "outputs": [],
   "source": [
    "m_type = \"resnet\"\n",
    "a_type = \"vanillagrad\"\n",
    "load_path = \"trained/cifar10/roar/resnet-first.pt\"\n",
    "model_class = trainer.model_dict[args.data_type][m_type]\n",
    "attr_class = trainer.attr_dict[a_type]\n",
    "# attr_class = GradCAM\n",
    "attr_kwargs = trainer.get_kwargs_to_attr_model(args.data_type, m_type, a_type)\n",
    "model, attr_model = trainer.create_attr_model(model_class, attr_class, load_path, attr_kwargs)\n",
    "# model = ResNetMnist()\n",
    "# attr_model = trainer.attr_dict[a_type](model)"
   ]
  },
  {
   "cell_type": "code",
   "execution_count": 10,
   "metadata": {},
   "outputs": [
    {
     "name": "stdout",
     "output_type": "stream",
     "text": [
      "False\n",
      "torch.Size([256, 10])\n"
     ]
    }
   ],
   "source": [
    "for datas, targets in test_loader1:\n",
    "    break\n",
    "print(attr_model.model.training)\n",
    "a = attr_model._one_hot(targets, module_name=\"fc\")\n",
    "print(a.size())"
   ]
  },
  {
   "cell_type": "markdown",
   "metadata": {},
   "source": [
    "## Test for fill global mean and roar/kar"
   ]
  },
  {
   "cell_type": "code",
   "execution_count": null,
   "metadata": {},
   "outputs": [],
   "source": [
    "cifar10_args.fill_global_mean = True\n",
    "cifar10_args.eval_type = \"kar\"\n",
    "datas = torch.load(\"./trained/cifar10/roar/plain/cifar10-test.data\") # (B, C, H, W)\n",
    "masks = torch.load(\"./trained/cifar10/roar/plain/resnet-vanillagrad-test-0.9.masks\")  # (B, C, H, W)\n",
    "new_datas = explorer.fill_datas_by_masks(cifar10_args, datas, masks)\n",
    "plt.imshow(new_datas[0].permute(1, 2, 0))"
   ]
  },
  {
   "cell_type": "markdown",
   "metadata": {},
   "source": [
    "---"
   ]
  },
  {
   "cell_type": "markdown",
   "metadata": {},
   "source": [
    "## Test for kar, fill_global_mean"
   ]
  },
  {
   "cell_type": "code",
   "execution_count": null,
   "metadata": {},
   "outputs": [],
   "source": [
    "explorer = Explorer(mnist_args)\n",
    "train_dataset, test_dataset, train_loader, test_loader = explorer.build_dataset(mnist_args, shuffle=True, batch_size=20)\n",
    "\n",
    "m_type = \"resnet\"\n",
    "a_type = \"vanillagrad\"\n",
    "attr_model = explorer.create_model(m_type, a_type, del_p=None)\n",
    "for datas, targets in test_loader:\n",
    "    break\n",
    "outputs = attr_model.get_attribution(datas, targets).detach()\n",
    "\n",
    "from torchvision import transforms\n",
    "import numpy as np\n",
    "import torch\n",
    "import matplotlib.pyplot as plt\n",
    "\n",
    "tf = transforms.Compose([\n",
    "    transforms.ToPILImage()\n",
    "])\n",
    "inv_transform = lambda tensor: torch.ByteTensor([np.array(tf(x)) for x in tensor]).squeeze()\n",
    "# options\n",
    "del_p = 0.9\n",
    "mnist_args.fill_global_mean = False\n",
    "mnist_args.eval_type = \"kar\"\n",
    "\n",
    "a = explorer.convert_scale(outputs)   # (B, 1, H, W)\n",
    "masks = explorer.calculate_masks(a, del_p)\n",
    "origin_datas = inv_transform(datas)\n",
    "new_datas = explorer.fill_datas_by_masks(mnist_args, datas, masks)\n",
    "plt.imshow(new_datas[0].squeeze())"
   ]
  },
  {
   "cell_type": "code",
   "execution_count": null,
   "metadata": {},
   "outputs": [],
   "source": []
  },
  {
   "cell_type": "code",
   "execution_count": null,
   "metadata": {},
   "outputs": [],
   "source": []
  },
  {
   "cell_type": "markdown",
   "metadata": {},
   "source": [
    "---"
   ]
  },
  {
   "cell_type": "code",
   "execution_count": 11,
   "metadata": {},
   "outputs": [],
   "source": [
    "from torchxai.model import GradCAM, DeconvNet, VanillaGrad, InputGrad, GuidedGrad, LRP\n",
    "import matplotlib.pyplot as plt"
   ]
  },
  {
   "cell_type": "code",
   "execution_count": 12,
   "metadata": {},
   "outputs": [],
   "source": [
    "kwargs_packs = {\n",
    "    \"mnist\": {\n",
    "        \"gradcam\": {\n",
    "            \"cnn\": dict(layers_name=None, norm_mode=1),\n",
    "            \"resnet\": dict(layers_name=\"relu_last\", norm_mode=1),\n",
    "            \"resnetcbam\": dict(layers_name=\"relu_last\", norm_mode=1)\n",
    "        },\n",
    "        \"guidedgrad\": {\n",
    "            \"cnn\": dict(act=nn.ReLU),\n",
    "            \"resnet\": dict(act=nn.ReLU),\n",
    "            \"resnetcbam\": dict(act=nn.ReLU)\n",
    "        },\n",
    "        \"relavance\": {\n",
    "            \"cnn\": dict(use_rho=False)\n",
    "        },\n",
    "        \"deconv\": {\n",
    "            \"cnn\": dict(module_name=\"convs\")\n",
    "        }, \n",
    "        \"vanillagrad\": None, \n",
    "        \"inputgrad\": None\n",
    "    },\n",
    "    \"cifar10\": {\n",
    "        \"gradcam\": {\n",
    "            \"resnet\": dict(layers_name=\"relu_last\", norm_mode=3),\n",
    "            \"resnetcbam\": dict(layers_name=\"relu_last\", norm_mode=3)\n",
    "        },\n",
    "        \"guidedgrad\": {\n",
    "            \"resnet\": dict(act=nn.ReLU),\n",
    "            \"resnetcbam\": dict(act=nn.ReLU)\n",
    "        },\n",
    "        \"vanillagrad\": None, \n",
    "        \"inputgrad\": None\n",
    "    }\n",
    "}\n",
    "\n",
    "def get_kwargs(data_type, a_type, m_type, kwargs_packs):\n",
    "    pre_kwargs = kwargs_packs[data_type].get(a_type)\n",
    "    if pre_kwargs is not None:\n",
    "        kwargs = pre_kwargs.get(m_type)\n",
    "    else:\n",
    "        kwargs = {\"<none>\": None}\n",
    "    return kwargs"
   ]
  },
  {
   "cell_type": "code",
   "execution_count": 13,
   "metadata": {},
   "outputs": [],
   "source": [
    "data_type = \"mnist\"\n",
    "x = torch.randn(1, 1, 28, 28)\n",
    "targets = torch.LongTensor([2])"
   ]
  },
  {
   "cell_type": "markdown",
   "metadata": {},
   "source": [
    "## GradCAM"
   ]
  },
  {
   "cell_type": "code",
   "execution_count": 17,
   "metadata": {},
   "outputs": [
    {
     "data": {
      "image/png": "[encoded data removed]",
      "text/plain": [
       "<Figure size 432x288 with 3 Axes>"
      ]
     },
     "metadata": {
      "needs_background": "light"
     },
     "output_type": "display_data"
    }
   ],
   "source": [
    "figure, axes = plt.subplots(1, 3)\n",
    "a_type = \"gradcam\"\n",
    "for m_type, m, ax in zip([\"cnn\", \"resnet\", \"resnetcbam\"], \n",
    "                         [model, model2, model3], axes):\n",
    "    kwargs = get_kwargs(data_type, a_type, m_type, kwargs_packs)\n",
    "    gradcam_model = GradCAM(m, **kwargs)\n",
    "    gradcam = gradcam_model.get_attribution(x, targets)\n",
    "    ax.imshow(gradcam.squeeze())\n",
    "    ax.set_title(m_type)\n",
    "plt.show()"
   ]
  },
  {
   "cell_type": "markdown",
   "metadata": {},
   "source": [
    "## GuidedGrad"
   ]
  },
  {
   "cell_type": "code",
   "execution_count": 18,
   "metadata": {},
   "outputs": [
    {
     "data": {
      "image/png": "[encoded data removed]",
      "text/plain": [
       "<Figure size 432x288 with 3 Axes>"
      ]
     },
     "metadata": {
      "needs_background": "light"
     },
     "output_type": "display_data"
    }
   ],
   "source": [
    "figure, axes = plt.subplots(1, 3)\n",
    "a_type = \"guidedgrad\"\n",
    "for m_type, m, ax in zip([\"cnn\", \"resnet\", \"resnetcbam\"], \n",
    "                         [model, model2, model3], axes):\n",
    "    kwargs = get_kwargs(data_type, a_type, m_type, kwargs_packs)\n",
    "    guided_model = GuidedGrad(m, **kwargs)\n",
    "    grad = guided_model.get_attribution(x, targets)\n",
    "    ax.imshow(grad.squeeze())\n",
    "    ax.set_title(m_type)\n",
    "plt.show()"
   ]
  },
  {
   "cell_type": "markdown",
   "metadata": {},
   "source": [
    "## VanillaGrad"
   ]
  },
  {
   "cell_type": "code",
   "execution_count": 19,
   "metadata": {},
   "outputs": [
    {
     "data": {
      "image/png": "[encoded data removed]",
      "text/plain": [
       "<Figure size 432x288 with 3 Axes>"
      ]
     },
     "metadata": {
      "needs_background": "light"
     },
     "output_type": "display_data"
    }
   ],
   "source": [
    "figure, axes = plt.subplots(1, 3)\n",
    "a_type = \"vanillagrad\"\n",
    "for m_type, m, ax in zip([\"cnn\", \"resnet\", \"resnetcbam\"], \n",
    "                         [model, model2, model3], axes):\n",
    "    kwargs = get_kwargs(data_type, a_type, m_type, kwargs_packs)\n",
    "    vanillagrad = VanillaGrad(m, **kwargs)\n",
    "    grad = guided_model.get_attribution(x, targets)\n",
    "    ax.imshow(grad.squeeze())\n",
    "    ax.set_title(m_type)\n",
    "plt.show()"
   ]
  },
  {
   "cell_type": "markdown",
   "metadata": {},
   "source": [
    "## InputGrad"
   ]
  },
  {
   "cell_type": "code",
   "execution_count": 21,
   "metadata": {},
   "outputs": [
    {
     "data": {
      "image/png": "[encoded data removed]",
      "text/plain": [
       "<Figure size 432x288 with 3 Axes>"
      ]
     },
     "metadata": {
      "needs_background": "light"
     },
     "output_type": "display_data"
    }
   ],
   "source": [
    "figure, axes = plt.subplots(1, 3)\n",
    "a_type = \"inputgrad\"\n",
    "for m_type, m, ax in zip([\"cnn\", \"resnet\", \"resnetcbam\"], \n",
    "                         [model, model2, model3], axes):\n",
    "    kwargs = get_kwargs(data_type, a_type, m_type, kwargs_packs)\n",
    "    gradinput = InputGrad(m, **kwargs)\n",
    "    grad = gradinput.get_attribution(x, targets)\n",
    "    ax.imshow(grad.squeeze())\n",
    "    ax.set_title(m_type)\n",
    "plt.show()"
   ]
  },
  {
   "cell_type": "markdown",
   "metadata": {},
   "source": [
    "## DeconvNet"
   ]
  },
  {
   "cell_type": "code",
   "execution_count": 22,
   "metadata": {},
   "outputs": [
    {
     "data": {
      "image/png": "[encoded data removed]",
      "text/plain": [
       "<Figure size 432x288 with 1 Axes>"
      ]
     },
     "metadata": {
      "needs_background": "light"
     },
     "output_type": "display_data"
    }
   ],
   "source": [
    "a_type = \"deconv\"\n",
    "m_type = \"cnn\"\n",
    "kwargs = get_kwargs(data_type, a_type, m_type, kwargs_packs)\n",
    "deconvnet = DeconvNet(model, **kwargs)\n",
    "deconv = deconvnet.get_attribution(x, targets)\n",
    "plt.imshow(deconv.squeeze())\n",
    "plt.show()"
   ]
  },
  {
   "cell_type": "markdown",
   "metadata": {},
   "source": [
    "## LRP"
   ]
  },
  {
   "cell_type": "code",
   "execution_count": 24,
   "metadata": {},
   "outputs": [
    {
     "data": {
      "image/png": "[encoded data removed]",
      "text/plain": [
       "<Figure size 432x288 with 1 Axes>"
      ]
     },
     "metadata": {
      "needs_background": "light"
     },
     "output_type": "display_data"
    }
   ],
   "source": [
    "lrp_model = LRP(model)\n",
    "lrp = lrp_model.get_attribution(x, targets)\n",
    "plt.imshow(lrp.squeeze())\n",
    "plt.show()"
   ]
  },
  {
   "cell_type": "code",
   "execution_count": null,
   "metadata": {},
   "outputs": [],
   "source": []
  }
 ],
 "metadata": {
  "kernelspec": {
   "display_name": "Python(venv)",
   "language": "python",
   "name": "venv"
  },
  "language_info": {
   "codemirror_mode": {
    "name": "ipython",
    "version": 3
   },
   "file_extension": ".py",
   "mimetype": "text/x-python",
   "name": "python",
   "nbconvert_exporter": "python",
   "pygments_lexer": "ipython3",
   "version": "3.6.8"
  }
 },
 "nbformat": 4,
 "nbformat_minor": 4
}
