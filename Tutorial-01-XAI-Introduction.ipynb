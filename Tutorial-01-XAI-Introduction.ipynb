{
 "cells": [
  {
   "cell_type": "code",
   "execution_count": 1,
   "metadata": {},
   "outputs": [],
   "source": [
    "from pathlib import Path\n",
    "\n",
    "import torch\n",
    "import torch.nn as nn\n",
    "import numpy as np\n",
    "import torchxai.model as xaim\n",
    "from src.models import resnet\n",
    "from src.utils import *\n",
    "from src.trainsettings import ModelTranier"
   ]
  },
  {
   "cell_type": "code",
   "execution_count": 19,
   "metadata": {},
   "outputs": [],
   "source": [
    "from src.utils import argument_parsing, Explorer\n",
    "\n",
    "mnist_parser = argument_parsing(preparse=True)\n",
    "mnist_args_string = \\\n",
    "\"\"\"-pp  ../XAI\n",
    "-dp  ../data\n",
    "-rf  mnist-resnetsmall-roar-eval\n",
    "-dt  mnist\n",
    "-et  roar\n",
    "-at  random  vanillagrad  inputgrad  guidedgrad  gradcam\n",
    "-mt  resnet\n",
    "-bs  256\n",
    "-ns  10\n",
    "-down\"\"\".replace(\"\\n\", \"  \").split(\"  \")\n",
    "mnist_args = mnist_parser.parse_args(mnist_args_string)\n",
    "\n",
    "cifar10_parser = argument_parsing(preparse=True)\n",
    "cifar10_args_string = \\\n",
    "\"\"\"-pp  ../XAI\n",
    "-dp  ../data\n",
    "-rf  cifar10-resnetsmall-roar-eval\n",
    "-dt  cifar10\n",
    "-et  roar\n",
    "-at  random  vanillagrad  inputgrad  guidedgrad  gradcam\n",
    "-mt  resnet\n",
    "-bs  256\n",
    "-ns  30\n",
    "-down\"\"\".replace(\"\\n\", \"  \").split(\"  \")\n",
    "cifar10_args = cifar10_parser.parse_args(cifar10_args_string)"
   ]
  },
  {
   "cell_type": "code",
   "execution_count": 23,
   "metadata": {},
   "outputs": [],
   "source": [
    "trainer = ModelTranier()\n",
    "_, test_dataset, *_ = trainer.build_dataset(args)"
   ]
  },
  {
   "cell_type": "markdown",
   "metadata": {},
   "source": [
    "# [XAI Tutorial 01] with MNIST / CIFAR10 (To be updated)\n",
    "\n",
    "## Contents\n",
    "\n",
    "1. XAI\n",
    "2. Interpretability \n",
    "    - What is Interpretability\n",
    "    - Why Interpretability\n",
    "    - Types of Interpretability\n",
    "3. Deep Neural Network Interpretability\n",
    "    - Interpreting Models\n",
    "        - Representation Analysis\n",
    "        - Data Generation\n",
    "        - Example-based\n",
    "    - Interpreting Descions\n",
    "        - Example-based\n",
    "        - Attribution Methods\n",
    "4. Evaluation Attribution Methods\n",
    "    - Qualitative\n",
    "        - Coherence\n",
    "        - Class Sensitivity\n",
    "    - Quantitative\n",
    "        - Selectivity\n",
    "        - ROAR / KAR"
   ]
  },
  {
   "cell_type": "markdown",
   "metadata": {},
   "source": [
    "---"
   ]
  },
  {
   "cell_type": "markdown",
   "metadata": {},
   "source": [
    "# Evaluation of Attribution Methods - Quantitative"
   ]
  },
  {
   "cell_type": "markdown",
   "metadata": {},
   "source": [
    "## Selectivity\n",
    "\n",
    "Sensitivity 의 과정: \n",
    "\n",
    "1. attribution method 로 평가한다.\n",
    "2. 최고 높은 attribution 픽셀을 지운다.\n",
    "3. 다시 입력으로 해서 평가한다.\n"
   ]
  },
  {
   "cell_type": "markdown",
   "metadata": {},
   "source": [
    "## ROAR\n",
    "\n",
    "https://arxiv.org/abs/1806.10758\n",
    "\n",
    "What would happen without re-training? \n",
    "\n",
    "The re-training is the most computationally expensive aspect of ROAR. One should question whether it is actually needed. We argue that re-training is needed because machine learning models **typically assume that the train and the test data comes from a similar distribution.**\n",
    "\n",
    "The replacement value c can only be considered uninformative if the model is trained to learn it as such. Without retraining, it is unclear whether degradation in performance is **due to the introduction of artifacts outside of the original training distribution** or **because we actually removed information**. This is made explicit in our experiment in Section 4.3.1, we show that without retraining the degradation is far higher than the modest decrease in performance observed with re-training. This suggests retraining has better controlled for artefacts introduced by the modification.\n",
    "\n",
    "\n",
    "ROAR 의 프로세스:\n",
    "\n",
    "1. 첫번째 모델을 훈련 시킨다.\n",
    "2. attribution method 로 평가를 한다(accuracy 측정).\n",
    "3. 입력에 대한 attribution을 랭킹으로 세고 10%씩 차례차례 지운다.\n",
    "4. 지운 데이터를 기반으로 다시 훈련시킨다(accuracy 측정).\n",
    "5. 2~4 과정을 반복한다."
   ]
  },
  {
   "cell_type": "code",
   "execution_count": 55,
   "metadata": {},
   "outputs": [],
   "source": [
    "with (args[\"project_path\"] / \"trainlog\" / \"mnist-roar-record.txt\").open() as f:\n",
    "    x = f.read().splitlines()[2:]\n",
    "    estimate_score = {\"lrp\": [], \"gradinput\": []}\n",
    "    for l in x:\n",
    "        splited_l = l.strip(\"|\").split(\"|\")\n",
    "        if splited_l[2] == \"lrp\":\n",
    "            estimate_score[\"lrp\"].append(float(splited_l[-1].strip(\"%\")))\n",
    "        else:\n",
    "            estimate_score[\"gradinput\"].append(float(splited_l[-1].strip(\"%\")))"
   ]
  },
  {
   "cell_type": "code",
   "execution_count": 56,
   "metadata": {},
   "outputs": [
    {
     "data": {
      "image/png": "[encoded data removed]",
      "text/plain": [
       "<Figure size 432x288 with 1 Axes>"
      ]
     },
     "metadata": {
      "needs_background": "light"
     },
     "output_type": "display_data"
    }
   ],
   "source": [
    "fig, ax = plt.subplots(1, 1)\n",
    "xx = list(range(0, 100, 10))\n",
    "ax.plot(xx, estimate_score[\"lrp\"], \"b--\", label=\"lrp\")\n",
    "ax.scatter(xx, estimate_score[\"lrp\"], facecolor=\"none\", edgecolor=\"b\")\n",
    "ax.plot(xx, estimate_score[\"gradinput\"], \"r--\", label=\"gradinput\")\n",
    "ax.scatter(xx, estimate_score[\"gradinput\"], facecolor=\"none\", edgecolor=\"r\")\n",
    "ax.legend()\n",
    "ax.grid(True)\n",
    "ax.set_xlabel(\"% of deletion\")\n",
    "ax.set_ylabel(\"% of accuracy\")\n",
    "ax.set_title(\"Method\")\n",
    "plt.show()"
   ]
  },
  {
   "cell_type": "code",
   "execution_count": 58,
   "metadata": {},
   "outputs": [],
   "source": [
    "gradinput_masks = torch.load(args[\"project_path\"] / args[\"sv_folder\"] / \"roar\" / \"gradinput\" / \"cnn-relu.masks\")\n",
    "lrp_masks = torch.load(args[\"project_path\"] / args[\"sv_folder\"] / \"roar\" / \"lrp\" / \"cnn-relu.masks\")"
   ]
  },
  {
   "cell_type": "code",
   "execution_count": 59,
   "metadata": {},
   "outputs": [],
   "source": [
    "def deleted_load_model(model_type, activation_type, attr, del_p):\n",
    "    path_finder = lambda attr, rel_p: str(args[\"project_path\"] / args[\"sv_folder\"] / \"roar\" / f\"{attr}\" / f\"{del_p}-cnn-relu.pt\")\n",
    "    model = MNISTmodel(model_type, activation_type)\n",
    "    load_path = path_finder(attr, str(del_p))\n",
    "    model.load_state_dict(torch.load(load_path, map_location=\"cpu\"))\n",
    "    return model"
   ]
  },
  {
   "cell_type": "code",
   "execution_count": 60,
   "metadata": {},
   "outputs": [
    {
     "data": {
      "image/png": "[encoded data removed]",
      "text/plain": [
       "<Figure size 576x1152 with 30 Axes>"
      ]
     },
     "metadata": {
      "needs_background": "light"
     },
     "output_type": "display_data"
    }
   ],
   "source": [
    "rnd_idx = torch.randint(0, test_dataset.data.size(0), size=(1, ))\n",
    "img = test_dataset.data[rnd_idx]\n",
    "# gradinput_mask = gradinput_masks[rnd_idx]\n",
    "# lrp_mask = lrp_masks[rnd_idx]\n",
    "delete_percentages = [round(x.item(), 2) for x in torch.arange(0, 1, 0.1)]\n",
    "fig, axes = plt.subplots(10, 3, figsize=(8, 16))\n",
    "for row_ax, del_p in zip(axes, delete_percentages):\n",
    "    row_ax[0].imshow(img.squeeze())\n",
    "    row_ax[1].imshow(img.squeeze() * lrp_masks[del_p][rnd_idx].eq(0).squeeze())\n",
    "    row_ax[2].imshow(img.squeeze() * gradinput_masks[del_p][rnd_idx].eq(0).squeeze())"
   ]
  },
  {
   "cell_type": "code",
   "execution_count": 73,
   "metadata": {},
   "outputs": [],
   "source": [
    "path_finder = lambda attr, rel_p: str(args[\"project_path\"] / args[\"sv_folder\"] / f\"{attr}\" / f\"{rel_p}-cnn-relu.pt\")\n",
    "model = MNISTmodel(model_type, activation_type)\n",
    "load_path = path_finder(\"lrp\", str(rel_p))\n",
    "model.load_state_dict(torch.load(load_path, map_location=\"cpu\"))"
   ]
  },
  {
   "cell_type": "code",
   "execution_count": 86,
   "metadata": {},
   "outputs": [],
   "source": [
    "preds = model_predict(model, imgs)"
   ]
  },
  {
   "cell_type": "code",
   "execution_count": 92,
   "metadata": {},
   "outputs": [],
   "source": [
    "attr_model = GradInput(model)\n",
    "outputs = attr_model.get_attribution(imgs, labels)"
   ]
  },
  {
   "cell_type": "code",
   "execution_count": 229,
   "metadata": {},
   "outputs": [],
   "source": [
    "B, C, H, W = outputs.size()\n",
    "argmax_v = outputs.view(B, C, -1).argmax(-1)\n",
    "row_max = argmax_v // W\n",
    "col_max = argmax_v % W\n",
    "max_indices = torch.cat([row_max, col_max], dim=-1)"
   ]
  },
  {
   "cell_type": "code",
   "execution_count": 44,
   "metadata": {},
   "outputs": [],
   "source": [
    "path_finder = lambda attr, rel_p: str(args[\"project_path\"] / args[\"sv_folder\"] / \"roar\" / f\"{attr}\" / f\"{rel_p}-cnn-relu.pt\")\n",
    "model = MNISTmodel(model_type, activation_type)\n",
    "load_path = path_finder(\"lrp\", str(0.1))\n",
    "model.load_state_dict(torch.load(load_path, map_location=\"cpu\"))\n",
    "\n",
    "*_, test_loader = build_dataset(str(args[\"root\"]), 5)\n",
    "for data, target in test_loader:\n",
    "    output = model(data)\n",
    "    \n",
    "    pred = output.argmax(dim=1, keepdim=True)\n",
    "    \n",
    "    break\n",
    "#     correct += pred.eq(target.view_as(pred)).sum().item()"
   ]
  },
  {
   "cell_type": "code",
   "execution_count": 45,
   "metadata": {},
   "outputs": [
    {
     "data": {
      "text/plain": [
       "tensor([6, 1, 8, 1, 2])"
      ]
     },
     "execution_count": 45,
     "metadata": {},
     "output_type": "execute_result"
    }
   ],
   "source": [
    "target"
   ]
  },
  {
   "cell_type": "code",
   "execution_count": 46,
   "metadata": {},
   "outputs": [
    {
     "data": {
      "text/plain": [
       "tensor([[6],\n",
       "        [6],\n",
       "        [2],\n",
       "        [6],\n",
       "        [2]])"
      ]
     },
     "execution_count": 46,
     "metadata": {},
     "output_type": "execute_result"
    }
   ],
   "source": [
    "pred"
   ]
  }
 ],
 "metadata": {
  "kernelspec": {
   "display_name": "Python(venv)",
   "language": "python",
   "name": "venv"
  },
  "language_info": {
   "codemirror_mode": {
    "name": "ipython",
    "version": 3
   },
   "file_extension": ".py",
   "mimetype": "text/x-python",
   "name": "python",
   "nbconvert_exporter": "python",
   "pygments_lexer": "ipython3",
   "version": "3.6.8"
  }
 },
 "nbformat": 4,
 "nbformat_minor": 4
}
